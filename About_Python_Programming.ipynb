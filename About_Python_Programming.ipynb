{
  "nbformat": 4,
  "nbformat_minor": 0,
  "metadata": {
    "colab": {
      "name": "About Python Programming.ipynb",
      "provenance": [],
      "collapsed_sections": [],
      "authorship_tag": "ABX9TyOBi0ix6xN1iYwruCLiSD24",
      "include_colab_link": true
    },
    "kernelspec": {
      "name": "python3",
      "display_name": "Python 3"
    },
    "language_info": {
      "name": "python"
    }
  },
  "cells": [
    {
      "cell_type": "markdown",
      "metadata": {
        "id": "view-in-github",
        "colab_type": "text"
      },
      "source": [
        "<a href=\"https://colab.research.google.com/github/soujanya-vattikolla/Intermediate-Python-Programming-Course/blob/main/About_Python_Programming.ipynb\" target=\"_parent\"><img src=\"https://colab.research.google.com/assets/colab-badge.svg\" alt=\"Open In Colab\"/></a>"
      ]
    },
    {
      "cell_type": "markdown",
      "source": [
        "**Lists**<br>\n",
        "\n",
        "*   Ordered\n",
        "*   Mutable\n",
        "*   Allows duplicate elements"
      ],
      "metadata": {
        "id": "FZCVssJBkqOU"
      }
    },
    {
      "cell_type": "code",
      "source": [
        "mylist = ['Cherry','apple','grapes']\n",
        "print(mylist)"
      ],
      "metadata": {
        "colab": {
          "base_uri": "https://localhost:8080/"
        },
        "id": "imZbIpxWuOtm",
        "outputId": "1c297c74-526e-4159-978d-9efcd250c257"
      },
      "execution_count": 14,
      "outputs": [
        {
          "output_type": "stream",
          "name": "stdout",
          "text": [
            "['Cherry', 'apple', 'grapes']\n"
          ]
        }
      ]
    },
    {
      "cell_type": "code",
      "source": [
        "mylist1 = list()\n",
        "print(mylist1)"
      ],
      "metadata": {
        "colab": {
          "base_uri": "https://localhost:8080/"
        },
        "id": "30UQm7Ez2BuX",
        "outputId": "463c5f3c-25fd-4cb7-d2d9-5ea114562011"
      },
      "execution_count": 15,
      "outputs": [
        {
          "output_type": "stream",
          "name": "stdout",
          "text": [
            "[]\n"
          ]
        }
      ]
    },
    {
      "cell_type": "code",
      "source": [
        "mylist2 = [5,'apple','apple','True']\n",
        "print(mylist2)\n"
      ],
      "metadata": {
        "colab": {
          "base_uri": "https://localhost:8080/"
        },
        "id": "N2hukmQ32CWU",
        "outputId": "49d6cced-26dd-4aaf-a95c-458c83530d62"
      },
      "execution_count": 16,
      "outputs": [
        {
          "output_type": "stream",
          "name": "stdout",
          "text": [
            "[5, 'apple', 'apple', 'True']\n"
          ]
        }
      ]
    },
    {
      "cell_type": "code",
      "source": [
        "items = mylist[1]\n",
        "print(items)\n"
      ],
      "metadata": {
        "colab": {
          "base_uri": "https://localhost:8080/"
        },
        "id": "lvjE_P532Huy",
        "outputId": "ec2a15ce-3bae-4a9b-a783-cbbd3514a3aa"
      },
      "execution_count": 17,
      "outputs": [
        {
          "output_type": "stream",
          "name": "stdout",
          "text": [
            "apple\n"
          ]
        }
      ]
    },
    {
      "cell_type": "code",
      "source": [
        "item = mylist2[-1]\n",
        "print(item)"
      ],
      "metadata": {
        "colab": {
          "base_uri": "https://localhost:8080/"
        },
        "id": "tLaFE-1V2FsR",
        "outputId": "e6313b48-841f-40dc-e170-4f6c603a3727"
      },
      "execution_count": 19,
      "outputs": [
        {
          "output_type": "stream",
          "name": "stdout",
          "text": [
            "True\n"
          ]
        }
      ]
    },
    {
      "cell_type": "code",
      "source": [
        "for i in mylist2:\n",
        "  print(i)"
      ],
      "metadata": {
        "colab": {
          "base_uri": "https://localhost:8080/"
        },
        "id": "w8RVvvEY2J8m",
        "outputId": "ac707ede-af8e-489c-e69b-f9fc6a64cd0a"
      },
      "execution_count": 18,
      "outputs": [
        {
          "output_type": "stream",
          "name": "stdout",
          "text": [
            "5\n",
            "apple\n",
            "apple\n",
            "True\n"
          ]
        }
      ]
    },
    {
      "cell_type": "code",
      "source": [
        "if \"apple\" in mylist:\n",
        "    print(\"yes\")\n",
        "else:\n",
        "  print(\"no\")"
      ],
      "metadata": {
        "colab": {
          "base_uri": "https://localhost:8080/"
        },
        "id": "59Y9FD1t2OhV",
        "outputId": "561d3c37-8c7d-4d8c-a07e-59b57a09bd2c"
      },
      "execution_count": 20,
      "outputs": [
        {
          "output_type": "stream",
          "name": "stdout",
          "text": [
            "yes\n"
          ]
        }
      ]
    },
    {
      "cell_type": "code",
      "source": [
        "len(mylist)"
      ],
      "metadata": {
        "colab": {
          "base_uri": "https://localhost:8080/"
        },
        "id": "yc46Eo2f2Syh",
        "outputId": "78392622-8180-4e62-c265-999b455ce342"
      },
      "execution_count": 21,
      "outputs": [
        {
          "output_type": "execute_result",
          "data": {
            "text/plain": [
              "3"
            ]
          },
          "metadata": {},
          "execution_count": 21
        }
      ]
    },
    {
      "cell_type": "code",
      "source": [
        "mylist.append('lemon')\n",
        "print(mylist)"
      ],
      "metadata": {
        "colab": {
          "base_uri": "https://localhost:8080/"
        },
        "id": "S2SqVLy53uUf",
        "outputId": "b303fe95-0805-40f3-b800-e6e9fc0be966"
      },
      "execution_count": 24,
      "outputs": [
        {
          "output_type": "stream",
          "name": "stdout",
          "text": [
            "['Cherry', 'apple', 'grapes', 'lemon', 'lemon']\n"
          ]
        }
      ]
    },
    {
      "cell_type": "code",
      "source": [
        "mylist.insert(2,'rasperry')\n",
        "print(mylist)"
      ],
      "metadata": {
        "colab": {
          "base_uri": "https://localhost:8080/"
        },
        "id": "s8AQTRuc34GF",
        "outputId": "a17ac0f9-6100-4bef-f79f-2ef3aeb5e915"
      },
      "execution_count": 25,
      "outputs": [
        {
          "output_type": "stream",
          "name": "stdout",
          "text": [
            "['Cherry', 'apple', 'rasperry', 'grapes', 'lemon', 'lemon']\n"
          ]
        }
      ]
    },
    {
      "cell_type": "code",
      "source": [
        "item = mylist.pop()\n",
        "print(item)\n",
        "print(mylist)"
      ],
      "metadata": {
        "colab": {
          "base_uri": "https://localhost:8080/"
        },
        "id": "nntfsKBn3_x-",
        "outputId": "6b5811b0-1a6b-414a-f01c-3c22ff90e76c"
      },
      "execution_count": 27,
      "outputs": [
        {
          "output_type": "stream",
          "name": "stdout",
          "text": [
            "lemon\n",
            "['Cherry', 'apple', 'rasperry', 'grapes']\n"
          ]
        }
      ]
    },
    {
      "cell_type": "code",
      "source": [
        "item = mylist.remove(\"apple\")\n",
        "print(item)"
      ],
      "metadata": {
        "colab": {
          "base_uri": "https://localhost:8080/"
        },
        "id": "y_qqymoy4J59",
        "outputId": "ca861006-303c-4cec-eff7-0ce797e7a030"
      },
      "execution_count": 28,
      "outputs": [
        {
          "output_type": "stream",
          "name": "stdout",
          "text": [
            "None\n"
          ]
        }
      ]
    },
    {
      "cell_type": "code",
      "source": [
        "print(mylist)"
      ],
      "metadata": {
        "colab": {
          "base_uri": "https://localhost:8080/"
        },
        "id": "j_Gdbcoj4XIe",
        "outputId": "3d7f2c2b-34c7-4380-b837-294cf02cc498"
      },
      "execution_count": 31,
      "outputs": [
        {
          "output_type": "stream",
          "name": "stdout",
          "text": [
            "['Cherry', 'rasperry', 'grapes']\n"
          ]
        }
      ]
    },
    {
      "cell_type": "code",
      "source": [
        "item = mylist1.clear()\n",
        "print(item)"
      ],
      "metadata": {
        "colab": {
          "base_uri": "https://localhost:8080/"
        },
        "id": "o66az1EQ4eHK",
        "outputId": "0cb064bd-eee3-4cf9-d442-d9d57aa77f22"
      },
      "execution_count": 32,
      "outputs": [
        {
          "output_type": "stream",
          "name": "stdout",
          "text": [
            "None\n"
          ]
        }
      ]
    },
    {
      "cell_type": "code",
      "source": [
        "print(mylist2)\n",
        "item = mylist2.reverse()\n",
        "print(mylist2)"
      ],
      "metadata": {
        "colab": {
          "base_uri": "https://localhost:8080/"
        },
        "id": "UMCLDGy14oaW",
        "outputId": "3015513d-a6d1-4c84-f0e0-3ceb3371de5f"
      },
      "execution_count": 41,
      "outputs": [
        {
          "output_type": "stream",
          "name": "stdout",
          "text": [
            "['True', 'apple', 'apple', 5]\n",
            "[5, 'apple', 'apple', 'True']\n"
          ]
        }
      ]
    },
    {
      "cell_type": "code",
      "source": [
        "mylist.sort()\n",
        "print(mylist)"
      ],
      "metadata": {
        "colab": {
          "base_uri": "https://localhost:8080/"
        },
        "id": "sIAGZtrm5RjA",
        "outputId": "62c96d9e-e890-423b-d61c-ca78ac8dbcb3"
      },
      "execution_count": 44,
      "outputs": [
        {
          "output_type": "stream",
          "name": "stdout",
          "text": [
            "['Cherry', 'grapes', 'rasperry']\n"
          ]
        }
      ]
    },
    {
      "cell_type": "code",
      "source": [
        "mylist1 = [5,-1,8,7,500]\n",
        "mylist1.sort()\n",
        "print(mylist1)"
      ],
      "metadata": {
        "colab": {
          "base_uri": "https://localhost:8080/"
        },
        "id": "7_4jwAhW5br9",
        "outputId": "c5a75239-e0a4-4c0d-b0bd-ef7cc6a50e64"
      },
      "execution_count": 47,
      "outputs": [
        {
          "output_type": "stream",
          "name": "stdout",
          "text": [
            "[-1, 5, 7, 8, 500]\n"
          ]
        }
      ]
    },
    {
      "cell_type": "code",
      "source": [
        "new_list = sorted(mylist1)\n",
        "print(new_list)"
      ],
      "metadata": {
        "colab": {
          "base_uri": "https://localhost:8080/"
        },
        "id": "AFyZw9Gs5uwv",
        "outputId": "10d760c1-b8ae-4522-e488-ec1c928b9526"
      },
      "execution_count": 49,
      "outputs": [
        {
          "output_type": "stream",
          "name": "stdout",
          "text": [
            "[-1, 5, 7, 8, 500]\n"
          ]
        }
      ]
    },
    {
      "cell_type": "code",
      "source": [
        "my_lst = [0]*5\n",
        "print(my_lst)"
      ],
      "metadata": {
        "colab": {
          "base_uri": "https://localhost:8080/"
        },
        "id": "JzDq4pJ3560I",
        "outputId": "b7de3199-1702-4812-8718-59c47910951f"
      },
      "execution_count": 50,
      "outputs": [
        {
          "output_type": "stream",
          "name": "stdout",
          "text": [
            "[0, 0, 0, 0, 0]\n"
          ]
        }
      ]
    },
    {
      "cell_type": "code",
      "source": [
        "my_lst2 = mylist1+my_lst\n",
        "print(my_lst2)"
      ],
      "metadata": {
        "colab": {
          "base_uri": "https://localhost:8080/"
        },
        "id": "eeAXiGcX6Pee",
        "outputId": "2fdb5c11-3b29-4072-8933-3a654a57923a"
      },
      "execution_count": 51,
      "outputs": [
        {
          "output_type": "stream",
          "name": "stdout",
          "text": [
            "[-1, 5, 7, 8, 500, 0, 0, 0, 0, 0]\n"
          ]
        }
      ]
    },
    {
      "cell_type": "code",
      "source": [
        "mylst = [1,2,3,4,5,6,7,8,9]\n",
        "a = mylst[1:5]\n",
        "print(a)"
      ],
      "metadata": {
        "colab": {
          "base_uri": "https://localhost:8080/"
        },
        "id": "lcSPA1C16b64",
        "outputId": "e38265d9-dc00-4748-fb52-1c92d29f753e"
      },
      "execution_count": 52,
      "outputs": [
        {
          "output_type": "stream",
          "name": "stdout",
          "text": [
            "[2, 3, 4, 5]\n"
          ]
        }
      ]
    },
    {
      "cell_type": "code",
      "source": [
        "a = mylst[:]\n",
        "print(a)"
      ],
      "metadata": {
        "colab": {
          "base_uri": "https://localhost:8080/"
        },
        "id": "ab6Jj7HQ6uG2",
        "outputId": "abe6e929-3dc6-4f99-a2d6-4723fac683c5"
      },
      "execution_count": 53,
      "outputs": [
        {
          "output_type": "stream",
          "name": "stdout",
          "text": [
            "[1, 2, 3, 4, 5, 6, 7, 8, 9]\n"
          ]
        }
      ]
    },
    {
      "cell_type": "code",
      "source": [
        "a = mylst[::2]\n",
        "print(a)"
      ],
      "metadata": {
        "colab": {
          "base_uri": "https://localhost:8080/"
        },
        "id": "HHgVMgup6zUA",
        "outputId": "22a9790e-d75f-4193-c888-666f2640755b"
      },
      "execution_count": 55,
      "outputs": [
        {
          "output_type": "stream",
          "name": "stdout",
          "text": [
            "[1, 3, 5, 7, 9]\n"
          ]
        }
      ]
    },
    {
      "cell_type": "code",
      "source": [
        "a = mylst[::-1]\n",
        "print(a)"
      ],
      "metadata": {
        "colab": {
          "base_uri": "https://localhost:8080/"
        },
        "id": "uuhMuJTc7Aip",
        "outputId": "958025ae-b813-4f21-8334-0bfa9fbe7f63"
      },
      "execution_count": 56,
      "outputs": [
        {
          "output_type": "stream",
          "name": "stdout",
          "text": [
            "[9, 8, 7, 6, 5, 4, 3, 2, 1]\n"
          ]
        }
      ]
    },
    {
      "cell_type": "code",
      "source": [
        "org_lst = ['Cherry', 'apple', 'grapes', 'lemon']\n",
        "copy_lst = org_lst\n",
        "print(copy_lst)"
      ],
      "metadata": {
        "colab": {
          "base_uri": "https://localhost:8080/"
        },
        "id": "BWKvMLPg7EF9",
        "outputId": "8b0e507a-44b3-487b-9960-2f611aa31d56"
      },
      "execution_count": 57,
      "outputs": [
        {
          "output_type": "stream",
          "name": "stdout",
          "text": [
            "['Cherry', 'apple', 'grapes', 'lemon']\n"
          ]
        }
      ]
    },
    {
      "cell_type": "code",
      "source": [
        "copy_lst.append('orange')\n",
        "print(copy_lst)\n",
        "print(org_lst)"
      ],
      "metadata": {
        "colab": {
          "base_uri": "https://localhost:8080/"
        },
        "id": "fzsgfEKy7SAs",
        "outputId": "68067498-e5ca-48b5-b7de-7a92d3fc4204"
      },
      "execution_count": 59,
      "outputs": [
        {
          "output_type": "stream",
          "name": "stdout",
          "text": [
            "['Cherry', 'apple', 'grapes', 'lemon', 'orange']\n",
            "['Cherry', 'apple', 'grapes', 'lemon', 'orange']\n"
          ]
        }
      ]
    },
    {
      "cell_type": "code",
      "source": [
        "copy_lst = org_lst.copy()\n",
        "copy_lst.append('orange')\n",
        "print(copy_lst)\n",
        "print(org_lst)\n"
      ],
      "metadata": {
        "colab": {
          "base_uri": "https://localhost:8080/"
        },
        "id": "eub1za_o7j0t",
        "outputId": "0cdb2373-0d3c-494d-954d-ea77013eeab1"
      },
      "execution_count": 60,
      "outputs": [
        {
          "output_type": "stream",
          "name": "stdout",
          "text": [
            "['Cherry', 'apple', 'grapes', 'lemon', 'orange', 'orange']\n",
            "['Cherry', 'apple', 'grapes', 'lemon', 'orange']\n"
          ]
        }
      ]
    },
    {
      "cell_type": "code",
      "source": [
        "copy_lst = list(org_lst)\n",
        "copy_lst.append('orange')\n",
        "print(copy_lst)\n",
        "print(org_lst)"
      ],
      "metadata": {
        "colab": {
          "base_uri": "https://localhost:8080/"
        },
        "id": "8t6UjNFJ702D",
        "outputId": "a6395dcc-4a90-4a19-b0d5-6f8c8746fc9b"
      },
      "execution_count": 61,
      "outputs": [
        {
          "output_type": "stream",
          "name": "stdout",
          "text": [
            "['Cherry', 'apple', 'grapes', 'lemon', 'orange', 'orange']\n",
            "['Cherry', 'apple', 'grapes', 'lemon', 'orange']\n"
          ]
        }
      ]
    },
    {
      "cell_type": "code",
      "source": [
        "copy_lst = org_lst[:]\n",
        "copy_lst.append('orange')\n",
        "print(copy_lst)\n",
        "print(org_lst)"
      ],
      "metadata": {
        "colab": {
          "base_uri": "https://localhost:8080/"
        },
        "id": "yiBxXYrl8AwC",
        "outputId": "0412a661-64e7-474c-9ab5-721f7050c5c0"
      },
      "execution_count": 62,
      "outputs": [
        {
          "output_type": "stream",
          "name": "stdout",
          "text": [
            "['Cherry', 'apple', 'grapes', 'lemon', 'orange', 'orange']\n",
            "['Cherry', 'apple', 'grapes', 'lemon', 'orange']\n"
          ]
        }
      ]
    },
    {
      "cell_type": "code",
      "source": [
        "print(mylst)"
      ],
      "metadata": {
        "colab": {
          "base_uri": "https://localhost:8080/"
        },
        "id": "m4ORsCxd8G3l",
        "outputId": "d2150662-caaf-4d0c-b36b-f1a3ce097844"
      },
      "execution_count": 63,
      "outputs": [
        {
          "output_type": "stream",
          "name": "stdout",
          "text": [
            "[1, 2, 3, 4, 5, 6, 7, 8, 9]\n"
          ]
        }
      ]
    },
    {
      "cell_type": "code",
      "source": [
        "b = [i*i for i in mylst]\n",
        "print(b)"
      ],
      "metadata": {
        "colab": {
          "base_uri": "https://localhost:8080/"
        },
        "id": "Y-c_Ql1A8bMj",
        "outputId": "249c993f-8411-4fd3-a535-bdb58d6a4e76"
      },
      "execution_count": 64,
      "outputs": [
        {
          "output_type": "stream",
          "name": "stdout",
          "text": [
            "[1, 4, 9, 16, 25, 36, 49, 64, 81]\n"
          ]
        }
      ]
    },
    {
      "cell_type": "markdown",
      "source": [
        "**Tuples**"
      ],
      "metadata": {
        "id": "tl_Yae2w8wqG"
      }
    },
    {
      "cell_type": "code",
      "source": [
        ""
      ],
      "metadata": {
        "id": "bboFXKqN8wFm"
      },
      "execution_count": null,
      "outputs": []
    }
  ]
}