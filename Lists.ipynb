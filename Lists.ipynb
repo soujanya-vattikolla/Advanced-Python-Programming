{
  "nbformat": 4,
  "nbformat_minor": 0,
  "metadata": {
    "colab": {
      "name": "Lists.ipynb",
      "provenance": [],
      "collapsed_sections": [],
      "authorship_tag": "ABX9TyMUp4vswY3Sqgs/+7vSEX26",
      "include_colab_link": true
    },
    "kernelspec": {
      "name": "python3",
      "display_name": "Python 3"
    },
    "language_info": {
      "name": "python"
    }
  },
  "cells": [
    {
      "cell_type": "markdown",
      "metadata": {
        "id": "view-in-github",
        "colab_type": "text"
      },
      "source": [
        "<a href=\"https://colab.research.google.com/github/soujanya-vattikolla/Advanced-Python-Programming/blob/main/Lists.ipynb\" target=\"_parent\"><img src=\"https://colab.research.google.com/assets/colab-badge.svg\" alt=\"Open In Colab\"/></a>"
      ]
    },
    {
      "cell_type": "markdown",
      "source": [
        "**Lists**<br>\n",
        "\n",
        "*   Ordered\n",
        "*   Mutable\n",
        "*   Allows duplicate elements"
      ],
      "metadata": {
        "id": "NPF98gkigI6b"
      }
    },
    {
      "cell_type": "markdown",
      "source": [
        "Creating a list"
      ],
      "metadata": {
        "id": "zA_RxFuMgMnl"
      }
    },
    {
      "cell_type": "code",
      "source": [
        "mylist = ['Cherry','apple','grapes']\n",
        "print(mylist)"
      ],
      "metadata": {
        "colab": {
          "base_uri": "https://localhost:8080/"
        },
        "id": "MAF5gq95gOEd",
        "outputId": "4cf2d2af-b012-4f4b-dee6-c8981e571bde"
      },
      "execution_count": 1,
      "outputs": [
        {
          "output_type": "stream",
          "name": "stdout",
          "text": [
            "['Cherry', 'apple', 'grapes']\n"
          ]
        }
      ]
    },
    {
      "cell_type": "code",
      "source": [
        "# create an empty list with the list function\n",
        "mylist1 = list()\n",
        "print(mylist1)"
      ],
      "metadata": {
        "colab": {
          "base_uri": "https://localhost:8080/"
        },
        "id": "TxZmCWEIgP2s",
        "outputId": "11935421-616d-467d-88e8-d95fd661954c"
      },
      "execution_count": 2,
      "outputs": [
        {
          "output_type": "stream",
          "name": "stdout",
          "text": [
            "[]\n"
          ]
        }
      ]
    },
    {
      "cell_type": "code",
      "source": [
        "# Lists allow different data types\n",
        "mylist2 = [5,'apple','apple','True']\n",
        "print(mylist2)\n"
      ],
      "metadata": {
        "colab": {
          "base_uri": "https://localhost:8080/"
        },
        "id": "tOQeMdl7gRCg",
        "outputId": "1e245781-9bf6-410c-fac6-b0e2425bb5bd"
      },
      "execution_count": 3,
      "outputs": [
        {
          "output_type": "stream",
          "name": "stdout",
          "text": [
            "[5, 'apple', 'apple', 'True']\n"
          ]
        }
      ]
    },
    {
      "cell_type": "code",
      "source": [
        "# access elements\n",
        "items = mylist[1]\n",
        "print(items)\n"
      ],
      "metadata": {
        "colab": {
          "base_uri": "https://localhost:8080/"
        },
        "id": "2EFGu4DagTv3",
        "outputId": "2bbc3be2-8508-4490-d96c-3fabe4852109"
      },
      "execution_count": 4,
      "outputs": [
        {
          "output_type": "stream",
          "name": "stdout",
          "text": [
            "apple\n"
          ]
        }
      ]
    },
    {
      "cell_type": "code",
      "source": [
        "# we can use negative indexing, e.g -1 refers to the last item,\n",
        "item = mylist2[-1]\n",
        "print(item)"
      ],
      "metadata": {
        "colab": {
          "base_uri": "https://localhost:8080/"
        },
        "id": "xMDgSeRygU07",
        "outputId": "47450dd2-31d2-4586-c4a4-744e25a4fb86"
      },
      "execution_count": 5,
      "outputs": [
        {
          "output_type": "stream",
          "name": "stdout",
          "text": [
            "True\n"
          ]
        }
      ]
    },
    {
      "cell_type": "code",
      "source": [
        "for i in mylist2:\n",
        "  print(i)"
      ],
      "metadata": {
        "colab": {
          "base_uri": "https://localhost:8080/"
        },
        "id": "-KShbg8KgV9L",
        "outputId": "3efa163f-8ada-4439-e111-314c4e1c353e"
      },
      "execution_count": 6,
      "outputs": [
        {
          "output_type": "stream",
          "name": "stdout",
          "text": [
            "5\n",
            "apple\n",
            "apple\n",
            "True\n"
          ]
        }
      ]
    },
    {
      "cell_type": "code",
      "source": [
        "# Check if an item exists\n",
        "if \"apple\" in mylist:\n",
        "    print(\"yes\")\n",
        "else:\n",
        "  print(\"no\")"
      ],
      "metadata": {
        "colab": {
          "base_uri": "https://localhost:8080/"
        },
        "id": "Tu7tnez5gZrS",
        "outputId": "fedf73c7-adeb-4a2d-ecff-98642dd800b0"
      },
      "execution_count": 7,
      "outputs": [
        {
          "output_type": "stream",
          "name": "stdout",
          "text": [
            "yes\n"
          ]
        }
      ]
    },
    {
      "cell_type": "code",
      "source": [
        "# len() : get the number of elements in a list\n",
        "len(mylist)"
      ],
      "metadata": {
        "colab": {
          "base_uri": "https://localhost:8080/"
        },
        "id": "rKH-uaIbgaHb",
        "outputId": "1e185e21-0da5-4207-e101-6dfd49a3d1cb"
      },
      "execution_count": 8,
      "outputs": [
        {
          "output_type": "execute_result",
          "data": {
            "text/plain": [
              "3"
            ]
          },
          "metadata": {},
          "execution_count": 8
        }
      ]
    },
    {
      "cell_type": "code",
      "source": [
        "# append() : adds an element to the end of the list\n",
        "mylist.append('lemon')\n",
        "print(mylist)"
      ],
      "metadata": {
        "colab": {
          "base_uri": "https://localhost:8080/"
        },
        "id": "NZlFPSJHgbSE",
        "outputId": "0a49037d-fe2a-4515-b192-cf719f627114"
      },
      "execution_count": 9,
      "outputs": [
        {
          "output_type": "stream",
          "name": "stdout",
          "text": [
            "['Cherry', 'apple', 'grapes', 'lemon']\n"
          ]
        }
      ]
    },
    {
      "cell_type": "code",
      "source": [
        "# insert() : adds an element at the specified position\n",
        "mylist.insert(2,'rasperry')\n",
        "print(mylist)"
      ],
      "metadata": {
        "colab": {
          "base_uri": "https://localhost:8080/"
        },
        "id": "akOyFZ6qgdvQ",
        "outputId": "99d490a2-6cc7-45a9-a17e-1e3b53f4f2c9"
      },
      "execution_count": 10,
      "outputs": [
        {
          "output_type": "stream",
          "name": "stdout",
          "text": [
            "['Cherry', 'apple', 'rasperry', 'grapes', 'lemon']\n"
          ]
        }
      ]
    },
    {
      "cell_type": "code",
      "source": [
        "# pop() : removes and returns the item at the given position, default is the last item\n",
        "item = mylist.pop()\n",
        "print(item)\n",
        "print(mylist)"
      ],
      "metadata": {
        "colab": {
          "base_uri": "https://localhost:8080/"
        },
        "id": "313eEZahgdyk",
        "outputId": "0c3f3adb-8ab3-4f5d-dd64-eb73e0851231"
      },
      "execution_count": 11,
      "outputs": [
        {
          "output_type": "stream",
          "name": "stdout",
          "text": [
            "lemon\n",
            "['Cherry', 'apple', 'rasperry', 'grapes']\n"
          ]
        }
      ]
    },
    {
      "cell_type": "code",
      "source": [
        "# remove() : removes an item from the list\n",
        "item = mylist.remove(\"apple\")\n",
        "print(item)"
      ],
      "metadata": {
        "colab": {
          "base_uri": "https://localhost:8080/"
        },
        "id": "ubFJMYNXgjLM",
        "outputId": "9b6694a1-a0b1-425a-8e60-bcf6de83d736"
      },
      "execution_count": 12,
      "outputs": [
        {
          "output_type": "stream",
          "name": "stdout",
          "text": [
            "None\n"
          ]
        }
      ]
    },
    {
      "cell_type": "code",
      "source": [
        "print(mylist)"
      ],
      "metadata": {
        "colab": {
          "base_uri": "https://localhost:8080/"
        },
        "id": "cnvQjYJagkRz",
        "outputId": "933a8a53-8df1-45e1-e927-3b9fd983c8fb"
      },
      "execution_count": 13,
      "outputs": [
        {
          "output_type": "stream",
          "name": "stdout",
          "text": [
            "['Cherry', 'rasperry', 'grapes']\n"
          ]
        }
      ]
    },
    {
      "cell_type": "code",
      "source": [
        "# clear() : removes all items from the list\n",
        "item = mylist1.clear()\n",
        "print(item)"
      ],
      "metadata": {
        "colab": {
          "base_uri": "https://localhost:8080/"
        },
        "id": "Hf-JJbtjgmwc",
        "outputId": "114fea8d-1c85-461e-cc8b-af186c78f1cc"
      },
      "execution_count": 14,
      "outputs": [
        {
          "output_type": "stream",
          "name": "stdout",
          "text": [
            "None\n"
          ]
        }
      ]
    },
    {
      "cell_type": "code",
      "source": [
        "# reverse() : reverse the items\n",
        "print(mylist2)\n",
        "item = mylist2.reverse()\n",
        "print(mylist2)"
      ],
      "metadata": {
        "colab": {
          "base_uri": "https://localhost:8080/"
        },
        "id": "_IC2lDrXgoNk",
        "outputId": "5ac23d74-db52-4ec0-c5ec-add100a1112e"
      },
      "execution_count": 15,
      "outputs": [
        {
          "output_type": "stream",
          "name": "stdout",
          "text": [
            "[5, 'apple', 'apple', 'True']\n",
            "['True', 'apple', 'apple', 5]\n"
          ]
        }
      ]
    },
    {
      "cell_type": "code",
      "source": [
        "# sort() : sort items in ascending order\n",
        "mylist.sort()"
      ],
      "metadata": {
        "id": "ptp72HBQgpyB"
      },
      "execution_count": 16,
      "outputs": []
    },
    {
      "cell_type": "code",
      "source": [
        "mylist1 = [5,-1,8,7,500]\n",
        "mylist1.sort()\n",
        "print(mylist1)"
      ],
      "metadata": {
        "colab": {
          "base_uri": "https://localhost:8080/"
        },
        "id": "Vk54-pS4gtYl",
        "outputId": "1971abd2-8a41-4fe6-e0d6-f081bf3f33c6"
      },
      "execution_count": 17,
      "outputs": [
        {
          "output_type": "stream",
          "name": "stdout",
          "text": [
            "[-1, 5, 7, 8, 500]\n"
          ]
        }
      ]
    },
    {
      "cell_type": "code",
      "source": [
        "new_list = sorted(mylist1)\n",
        "print(new_list)"
      ],
      "metadata": {
        "colab": {
          "base_uri": "https://localhost:8080/"
        },
        "id": "mbedVb-Sgvgb",
        "outputId": "69c1afe4-c847-451e-effa-da79510fcd8b"
      },
      "execution_count": 18,
      "outputs": [
        {
          "output_type": "stream",
          "name": "stdout",
          "text": [
            "[-1, 5, 7, 8, 500]\n"
          ]
        }
      ]
    },
    {
      "cell_type": "code",
      "source": [
        "# create list with repeated elements\n",
        "my_lst = [0]*5\n",
        "print(my_lst)"
      ],
      "metadata": {
        "colab": {
          "base_uri": "https://localhost:8080/"
        },
        "id": "4--iBuAXgvsT",
        "outputId": "80426b5e-e599-4303-cbff-b822f4592ffb"
      },
      "execution_count": 19,
      "outputs": [
        {
          "output_type": "stream",
          "name": "stdout",
          "text": [
            "[0, 0, 0, 0, 0]\n"
          ]
        }
      ]
    },
    {
      "cell_type": "code",
      "source": [
        "# concatenation\n",
        "my_lst2 = mylist1+my_lst\n",
        "print(my_lst2)"
      ],
      "metadata": {
        "colab": {
          "base_uri": "https://localhost:8080/"
        },
        "id": "eFTYByJ6gvvp",
        "outputId": "8b48e50c-817b-47a0-aeda-d40d51ee4557"
      },
      "execution_count": 20,
      "outputs": [
        {
          "output_type": "stream",
          "name": "stdout",
          "text": [
            "[-1, 5, 7, 8, 500, 0, 0, 0, 0, 0]\n"
          ]
        }
      ]
    },
    {
      "cell_type": "code",
      "source": [
        "# slicing\n",
        "# a[start:stop:step], default step is 1\n",
        "mylst = [1,2,3,4,5,6,7,8,9]\n",
        "a = mylst[1:5]\n",
        "print(a)"
      ],
      "metadata": {
        "colab": {
          "base_uri": "https://localhost:8080/"
        },
        "id": "4YgDjCVlgzkk",
        "outputId": "d1425e43-5a17-4cc0-b564-8f89a70f9219"
      },
      "execution_count": 21,
      "outputs": [
        {
          "output_type": "stream",
          "name": "stdout",
          "text": [
            "[2, 3, 4, 5]\n"
          ]
        }
      ]
    },
    {
      "cell_type": "code",
      "source": [
        "# copy a list with slicing\n",
        "a = mylst[:]\n",
        "print(a)"
      ],
      "metadata": {
        "colab": {
          "base_uri": "https://localhost:8080/"
        },
        "id": "xazJuPjWgzqc",
        "outputId": "2cd5eafd-ed1b-4b76-cabf-cb9a3695961f"
      },
      "execution_count": 22,
      "outputs": [
        {
          "output_type": "stream",
          "name": "stdout",
          "text": [
            "[1, 2, 3, 4, 5, 6, 7, 8, 9]\n"
          ]
        }
      ]
    },
    {
      "cell_type": "code",
      "source": [
        "# start to end with every second item\n",
        "a = mylst[::2]\n",
        "print(a)"
      ],
      "metadata": {
        "colab": {
          "base_uri": "https://localhost:8080/"
        },
        "id": "tpT-63q9g26o",
        "outputId": "564352de-8ba4-4676-bc63-eb17e279580f"
      },
      "execution_count": 23,
      "outputs": [
        {
          "output_type": "stream",
          "name": "stdout",
          "text": [
            "[1, 3, 5, 7, 9]\n"
          ]
        }
      ]
    },
    {
      "cell_type": "code",
      "source": [
        "# reverse the list with a negative step:\n",
        "a = mylst[::-1]\n",
        "print(a)"
      ],
      "metadata": {
        "colab": {
          "base_uri": "https://localhost:8080/"
        },
        "id": "yPOAI8Gag4ml",
        "outputId": "9fe8a81d-8016-4b26-f9f1-2337ada63168"
      },
      "execution_count": 24,
      "outputs": [
        {
          "output_type": "stream",
          "name": "stdout",
          "text": [
            "[9, 8, 7, 6, 5, 4, 3, 2, 1]\n"
          ]
        }
      ]
    },
    {
      "cell_type": "code",
      "source": [
        "# this just copies the reference to the list, so be careful\n",
        "org_lst = ['Cherry', 'apple', 'grapes', 'lemon']\n",
        "copy_lst = org_lst\n",
        "print(copy_lst)"
      ],
      "metadata": {
        "colab": {
          "base_uri": "https://localhost:8080/"
        },
        "id": "UhD82q-Qg7mT",
        "outputId": "fe06b44a-211f-4387-d15d-a8361ec1f977"
      },
      "execution_count": 25,
      "outputs": [
        {
          "output_type": "stream",
          "name": "stdout",
          "text": [
            "['Cherry', 'apple', 'grapes', 'lemon']\n"
          ]
        }
      ]
    },
    {
      "cell_type": "code",
      "source": [
        "# now modifying the copy also affects the original\n",
        "copy_lst.append('orange')\n",
        "print(copy_lst)\n",
        "print(org_lst)"
      ],
      "metadata": {
        "colab": {
          "base_uri": "https://localhost:8080/"
        },
        "id": "NRQiHWP3g7pF",
        "outputId": "1e942336-b0c7-4644-8ef0-f6966d191eb7"
      },
      "execution_count": 26,
      "outputs": [
        {
          "output_type": "stream",
          "name": "stdout",
          "text": [
            "['Cherry', 'apple', 'grapes', 'lemon', 'orange']\n",
            "['Cherry', 'apple', 'grapes', 'lemon', 'orange']\n"
          ]
        }
      ]
    },
    {
      "cell_type": "code",
      "source": [
        "# use copy(), or list(x) to actually copy the list\n",
        "copy_lst = org_lst.copy()\n",
        "copy_lst.append('orange')\n",
        "print(copy_lst)\n",
        "print(org_lst)"
      ],
      "metadata": {
        "colab": {
          "base_uri": "https://localhost:8080/"
        },
        "id": "Vgj962kTg_6q",
        "outputId": "8d67e4c5-50b8-471a-b457-041ec5838688"
      },
      "execution_count": 27,
      "outputs": [
        {
          "output_type": "stream",
          "name": "stdout",
          "text": [
            "['Cherry', 'apple', 'grapes', 'lemon', 'orange', 'orange']\n",
            "['Cherry', 'apple', 'grapes', 'lemon', 'orange']\n"
          ]
        }
      ]
    },
    {
      "cell_type": "code",
      "source": [
        "# now modifying the copy does not affect the original\n",
        "copy_lst = list(org_lst)\n",
        "copy_lst.append('orange')\n",
        "print(copy_lst)\n",
        "print(org_lst)"
      ],
      "metadata": {
        "colab": {
          "base_uri": "https://localhost:8080/"
        },
        "id": "ElmTIq7lhCyP",
        "outputId": "bccb3365-dbe7-4350-d8ce-e00c6718cd42"
      },
      "execution_count": 28,
      "outputs": [
        {
          "output_type": "stream",
          "name": "stdout",
          "text": [
            "['Cherry', 'apple', 'grapes', 'lemon', 'orange', 'orange']\n",
            "['Cherry', 'apple', 'grapes', 'lemon', 'orange']\n"
          ]
        }
      ]
    },
    {
      "cell_type": "code",
      "source": [
        "copy_lst = org_lst[:]\n",
        "copy_lst.append('orange')\n",
        "print(copy_lst)\n",
        "print(org_lst)"
      ],
      "metadata": {
        "colab": {
          "base_uri": "https://localhost:8080/"
        },
        "id": "CQbmaxavhEWN",
        "outputId": "134b03bc-7018-4aed-ba50-5c73d6e5e600"
      },
      "execution_count": 29,
      "outputs": [
        {
          "output_type": "stream",
          "name": "stdout",
          "text": [
            "['Cherry', 'apple', 'grapes', 'lemon', 'orange', 'orange']\n",
            "['Cherry', 'apple', 'grapes', 'lemon', 'orange']\n"
          ]
        }
      ]
    },
    {
      "cell_type": "code",
      "source": [
        "print(mylst)"
      ],
      "metadata": {
        "colab": {
          "base_uri": "https://localhost:8080/"
        },
        "id": "kQWqIC9BhG2G",
        "outputId": "add6e769-38fe-4523-ea00-7fc17a9ce0d4"
      },
      "execution_count": 30,
      "outputs": [
        {
          "output_type": "stream",
          "name": "stdout",
          "text": [
            "[1, 2, 3, 4, 5, 6, 7, 8, 9]\n"
          ]
        }
      ]
    },
    {
      "cell_type": "code",
      "source": [
        "#List comprehension consists of an expression followed by a for statement inside square brackets.\n",
        "b = [i*i for i in mylst]\n",
        "print(b)"
      ],
      "metadata": {
        "colab": {
          "base_uri": "https://localhost:8080/"
        },
        "id": "BO7P-v4xhIe8",
        "outputId": "f3b50e7f-5053-4d0e-f8f4-4169d8f75062"
      },
      "execution_count": 31,
      "outputs": [
        {
          "output_type": "stream",
          "name": "stdout",
          "text": [
            "[1, 4, 9, 16, 25, 36, 49, 64, 81]\n"
          ]
        }
      ]
    },
    {
      "cell_type": "code",
      "source": [
        ""
      ],
      "metadata": {
        "id": "924WjAGggd1H"
      },
      "execution_count": 31,
      "outputs": []
    }
  ]
}