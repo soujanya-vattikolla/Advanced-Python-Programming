{
  "nbformat": 4,
  "nbformat_minor": 0,
  "metadata": {
    "colab": {
      "name": "About Python Programming.ipynb",
      "provenance": [],
      "collapsed_sections": [],
      "authorship_tag": "ABX9TyPm1vcwgmBrGBT+5rBF/BML",
      "include_colab_link": true
    },
    "kernelspec": {
      "name": "python3",
      "display_name": "Python 3"
    },
    "language_info": {
      "name": "python"
    }
  },
  "cells": [
    {
      "cell_type": "markdown",
      "metadata": {
        "id": "view-in-github",
        "colab_type": "text"
      },
      "source": [
        "<a href=\"https://colab.research.google.com/github/soujanya-vattikolla/Intermediate-Python-Programming-Course/blob/main/About_Python_Programming.ipynb\" target=\"_parent\"><img src=\"https://colab.research.google.com/assets/colab-badge.svg\" alt=\"Open In Colab\"/></a>"
      ]
    },
    {
      "cell_type": "markdown",
      "source": [
        "**Lists**<br>\n",
        "\n",
        "*   Ordered\n",
        "*   Mutable\n",
        "*   Allows duplicate elements"
      ],
      "metadata": {
        "id": "FZCVssJBkqOU"
      }
    },
    {
      "cell_type": "code",
      "source": [
        "mylist = ['Cherry','apple','grapes']\n",
        "print(mylist)"
      ],
      "metadata": {
        "colab": {
          "base_uri": "https://localhost:8080/"
        },
        "id": "imZbIpxWuOtm",
        "outputId": "1c297c74-526e-4159-978d-9efcd250c257"
      },
      "execution_count": null,
      "outputs": [
        {
          "output_type": "stream",
          "name": "stdout",
          "text": [
            "['Cherry', 'apple', 'grapes']\n"
          ]
        }
      ]
    },
    {
      "cell_type": "code",
      "source": [
        "mylist1 = list()\n",
        "print(mylist1)"
      ],
      "metadata": {
        "colab": {
          "base_uri": "https://localhost:8080/"
        },
        "id": "30UQm7Ez2BuX",
        "outputId": "463c5f3c-25fd-4cb7-d2d9-5ea114562011"
      },
      "execution_count": null,
      "outputs": [
        {
          "output_type": "stream",
          "name": "stdout",
          "text": [
            "[]\n"
          ]
        }
      ]
    },
    {
      "cell_type": "code",
      "source": [
        "mylist2 = [5,'apple','apple','True']\n",
        "print(mylist2)\n"
      ],
      "metadata": {
        "colab": {
          "base_uri": "https://localhost:8080/"
        },
        "id": "N2hukmQ32CWU",
        "outputId": "49d6cced-26dd-4aaf-a95c-458c83530d62"
      },
      "execution_count": null,
      "outputs": [
        {
          "output_type": "stream",
          "name": "stdout",
          "text": [
            "[5, 'apple', 'apple', 'True']\n"
          ]
        }
      ]
    },
    {
      "cell_type": "code",
      "source": [
        "items = mylist[1]\n",
        "print(items)\n"
      ],
      "metadata": {
        "colab": {
          "base_uri": "https://localhost:8080/"
        },
        "id": "lvjE_P532Huy",
        "outputId": "ec2a15ce-3bae-4a9b-a783-cbbd3514a3aa"
      },
      "execution_count": null,
      "outputs": [
        {
          "output_type": "stream",
          "name": "stdout",
          "text": [
            "apple\n"
          ]
        }
      ]
    },
    {
      "cell_type": "code",
      "source": [
        "item = mylist2[-1]\n",
        "print(item)"
      ],
      "metadata": {
        "colab": {
          "base_uri": "https://localhost:8080/"
        },
        "id": "tLaFE-1V2FsR",
        "outputId": "e6313b48-841f-40dc-e170-4f6c603a3727"
      },
      "execution_count": null,
      "outputs": [
        {
          "output_type": "stream",
          "name": "stdout",
          "text": [
            "True\n"
          ]
        }
      ]
    },
    {
      "cell_type": "code",
      "source": [
        "for i in mylist2:\n",
        "  print(i)"
      ],
      "metadata": {
        "colab": {
          "base_uri": "https://localhost:8080/"
        },
        "id": "w8RVvvEY2J8m",
        "outputId": "ac707ede-af8e-489c-e69b-f9fc6a64cd0a"
      },
      "execution_count": null,
      "outputs": [
        {
          "output_type": "stream",
          "name": "stdout",
          "text": [
            "5\n",
            "apple\n",
            "apple\n",
            "True\n"
          ]
        }
      ]
    },
    {
      "cell_type": "code",
      "source": [
        "if \"apple\" in mylist:\n",
        "    print(\"yes\")\n",
        "else:\n",
        "  print(\"no\")"
      ],
      "metadata": {
        "colab": {
          "base_uri": "https://localhost:8080/"
        },
        "id": "59Y9FD1t2OhV",
        "outputId": "561d3c37-8c7d-4d8c-a07e-59b57a09bd2c"
      },
      "execution_count": null,
      "outputs": [
        {
          "output_type": "stream",
          "name": "stdout",
          "text": [
            "yes\n"
          ]
        }
      ]
    },
    {
      "cell_type": "code",
      "source": [
        "len(mylist)"
      ],
      "metadata": {
        "colab": {
          "base_uri": "https://localhost:8080/"
        },
        "id": "yc46Eo2f2Syh",
        "outputId": "78392622-8180-4e62-c265-999b455ce342"
      },
      "execution_count": null,
      "outputs": [
        {
          "output_type": "execute_result",
          "data": {
            "text/plain": [
              "3"
            ]
          },
          "metadata": {},
          "execution_count": 21
        }
      ]
    },
    {
      "cell_type": "code",
      "source": [
        "mylist.append('lemon')\n",
        "print(mylist)"
      ],
      "metadata": {
        "colab": {
          "base_uri": "https://localhost:8080/"
        },
        "id": "S2SqVLy53uUf",
        "outputId": "b303fe95-0805-40f3-b800-e6e9fc0be966"
      },
      "execution_count": null,
      "outputs": [
        {
          "output_type": "stream",
          "name": "stdout",
          "text": [
            "['Cherry', 'apple', 'grapes', 'lemon', 'lemon']\n"
          ]
        }
      ]
    },
    {
      "cell_type": "code",
      "source": [
        "mylist.insert(2,'rasperry')\n",
        "print(mylist)"
      ],
      "metadata": {
        "colab": {
          "base_uri": "https://localhost:8080/"
        },
        "id": "s8AQTRuc34GF",
        "outputId": "a17ac0f9-6100-4bef-f79f-2ef3aeb5e915"
      },
      "execution_count": null,
      "outputs": [
        {
          "output_type": "stream",
          "name": "stdout",
          "text": [
            "['Cherry', 'apple', 'rasperry', 'grapes', 'lemon', 'lemon']\n"
          ]
        }
      ]
    },
    {
      "cell_type": "code",
      "source": [
        "item = mylist.pop()\n",
        "print(item)\n",
        "print(mylist)"
      ],
      "metadata": {
        "colab": {
          "base_uri": "https://localhost:8080/"
        },
        "id": "nntfsKBn3_x-",
        "outputId": "6b5811b0-1a6b-414a-f01c-3c22ff90e76c"
      },
      "execution_count": null,
      "outputs": [
        {
          "output_type": "stream",
          "name": "stdout",
          "text": [
            "lemon\n",
            "['Cherry', 'apple', 'rasperry', 'grapes']\n"
          ]
        }
      ]
    },
    {
      "cell_type": "code",
      "source": [
        "item = mylist.remove(\"apple\")\n",
        "print(item)"
      ],
      "metadata": {
        "colab": {
          "base_uri": "https://localhost:8080/"
        },
        "id": "y_qqymoy4J59",
        "outputId": "ca861006-303c-4cec-eff7-0ce797e7a030"
      },
      "execution_count": null,
      "outputs": [
        {
          "output_type": "stream",
          "name": "stdout",
          "text": [
            "None\n"
          ]
        }
      ]
    },
    {
      "cell_type": "code",
      "source": [
        "print(mylist)"
      ],
      "metadata": {
        "colab": {
          "base_uri": "https://localhost:8080/"
        },
        "id": "j_Gdbcoj4XIe",
        "outputId": "3d7f2c2b-34c7-4380-b837-294cf02cc498"
      },
      "execution_count": null,
      "outputs": [
        {
          "output_type": "stream",
          "name": "stdout",
          "text": [
            "['Cherry', 'rasperry', 'grapes']\n"
          ]
        }
      ]
    },
    {
      "cell_type": "code",
      "source": [
        "item = mylist1.clear()\n",
        "print(item)"
      ],
      "metadata": {
        "colab": {
          "base_uri": "https://localhost:8080/"
        },
        "id": "o66az1EQ4eHK",
        "outputId": "0cb064bd-eee3-4cf9-d442-d9d57aa77f22"
      },
      "execution_count": null,
      "outputs": [
        {
          "output_type": "stream",
          "name": "stdout",
          "text": [
            "None\n"
          ]
        }
      ]
    },
    {
      "cell_type": "code",
      "source": [
        "print(mylist2)\n",
        "item = mylist2.reverse()\n",
        "print(mylist2)"
      ],
      "metadata": {
        "colab": {
          "base_uri": "https://localhost:8080/"
        },
        "id": "UMCLDGy14oaW",
        "outputId": "3015513d-a6d1-4c84-f0e0-3ceb3371de5f"
      },
      "execution_count": null,
      "outputs": [
        {
          "output_type": "stream",
          "name": "stdout",
          "text": [
            "['True', 'apple', 'apple', 5]\n",
            "[5, 'apple', 'apple', 'True']\n"
          ]
        }
      ]
    },
    {
      "cell_type": "code",
      "source": [
        "mylist.sort()\n",
        "print(mylist)"
      ],
      "metadata": {
        "colab": {
          "base_uri": "https://localhost:8080/"
        },
        "id": "sIAGZtrm5RjA",
        "outputId": "62c96d9e-e890-423b-d61c-ca78ac8dbcb3"
      },
      "execution_count": null,
      "outputs": [
        {
          "output_type": "stream",
          "name": "stdout",
          "text": [
            "['Cherry', 'grapes', 'rasperry']\n"
          ]
        }
      ]
    },
    {
      "cell_type": "code",
      "source": [
        "mylist1 = [5,-1,8,7,500]\n",
        "mylist1.sort()\n",
        "print(mylist1)"
      ],
      "metadata": {
        "colab": {
          "base_uri": "https://localhost:8080/"
        },
        "id": "7_4jwAhW5br9",
        "outputId": "c5a75239-e0a4-4c0d-b0bd-ef7cc6a50e64"
      },
      "execution_count": null,
      "outputs": [
        {
          "output_type": "stream",
          "name": "stdout",
          "text": [
            "[-1, 5, 7, 8, 500]\n"
          ]
        }
      ]
    },
    {
      "cell_type": "code",
      "source": [
        "new_list = sorted(mylist1)\n",
        "print(new_list)"
      ],
      "metadata": {
        "colab": {
          "base_uri": "https://localhost:8080/"
        },
        "id": "AFyZw9Gs5uwv",
        "outputId": "10d760c1-b8ae-4522-e488-ec1c928b9526"
      },
      "execution_count": null,
      "outputs": [
        {
          "output_type": "stream",
          "name": "stdout",
          "text": [
            "[-1, 5, 7, 8, 500]\n"
          ]
        }
      ]
    },
    {
      "cell_type": "code",
      "source": [
        "my_lst = [0]*5\n",
        "print(my_lst)"
      ],
      "metadata": {
        "colab": {
          "base_uri": "https://localhost:8080/"
        },
        "id": "JzDq4pJ3560I",
        "outputId": "b7de3199-1702-4812-8718-59c47910951f"
      },
      "execution_count": null,
      "outputs": [
        {
          "output_type": "stream",
          "name": "stdout",
          "text": [
            "[0, 0, 0, 0, 0]\n"
          ]
        }
      ]
    },
    {
      "cell_type": "code",
      "source": [
        "my_lst2 = mylist1+my_lst\n",
        "print(my_lst2)"
      ],
      "metadata": {
        "colab": {
          "base_uri": "https://localhost:8080/"
        },
        "id": "eeAXiGcX6Pee",
        "outputId": "2fdb5c11-3b29-4072-8933-3a654a57923a"
      },
      "execution_count": null,
      "outputs": [
        {
          "output_type": "stream",
          "name": "stdout",
          "text": [
            "[-1, 5, 7, 8, 500, 0, 0, 0, 0, 0]\n"
          ]
        }
      ]
    },
    {
      "cell_type": "code",
      "source": [
        "mylst = [1,2,3,4,5,6,7,8,9]\n",
        "a = mylst[1:5]\n",
        "print(a)"
      ],
      "metadata": {
        "colab": {
          "base_uri": "https://localhost:8080/"
        },
        "id": "lcSPA1C16b64",
        "outputId": "e38265d9-dc00-4748-fb52-1c92d29f753e"
      },
      "execution_count": null,
      "outputs": [
        {
          "output_type": "stream",
          "name": "stdout",
          "text": [
            "[2, 3, 4, 5]\n"
          ]
        }
      ]
    },
    {
      "cell_type": "code",
      "source": [
        "a = mylst[:]\n",
        "print(a)"
      ],
      "metadata": {
        "colab": {
          "base_uri": "https://localhost:8080/"
        },
        "id": "ab6Jj7HQ6uG2",
        "outputId": "abe6e929-3dc6-4f99-a2d6-4723fac683c5"
      },
      "execution_count": null,
      "outputs": [
        {
          "output_type": "stream",
          "name": "stdout",
          "text": [
            "[1, 2, 3, 4, 5, 6, 7, 8, 9]\n"
          ]
        }
      ]
    },
    {
      "cell_type": "code",
      "source": [
        "a = mylst[::2]\n",
        "print(a)"
      ],
      "metadata": {
        "colab": {
          "base_uri": "https://localhost:8080/"
        },
        "id": "HHgVMgup6zUA",
        "outputId": "22a9790e-d75f-4193-c888-666f2640755b"
      },
      "execution_count": null,
      "outputs": [
        {
          "output_type": "stream",
          "name": "stdout",
          "text": [
            "[1, 3, 5, 7, 9]\n"
          ]
        }
      ]
    },
    {
      "cell_type": "code",
      "source": [
        "a = mylst[::-1]\n",
        "print(a)"
      ],
      "metadata": {
        "colab": {
          "base_uri": "https://localhost:8080/"
        },
        "id": "uuhMuJTc7Aip",
        "outputId": "958025ae-b813-4f21-8334-0bfa9fbe7f63"
      },
      "execution_count": null,
      "outputs": [
        {
          "output_type": "stream",
          "name": "stdout",
          "text": [
            "[9, 8, 7, 6, 5, 4, 3, 2, 1]\n"
          ]
        }
      ]
    },
    {
      "cell_type": "code",
      "source": [
        "org_lst = ['Cherry', 'apple', 'grapes', 'lemon']\n",
        "copy_lst = org_lst\n",
        "print(copy_lst)"
      ],
      "metadata": {
        "colab": {
          "base_uri": "https://localhost:8080/"
        },
        "id": "BWKvMLPg7EF9",
        "outputId": "8b0e507a-44b3-487b-9960-2f611aa31d56"
      },
      "execution_count": null,
      "outputs": [
        {
          "output_type": "stream",
          "name": "stdout",
          "text": [
            "['Cherry', 'apple', 'grapes', 'lemon']\n"
          ]
        }
      ]
    },
    {
      "cell_type": "code",
      "source": [
        "copy_lst.append('orange')\n",
        "print(copy_lst)\n",
        "print(org_lst)"
      ],
      "metadata": {
        "colab": {
          "base_uri": "https://localhost:8080/"
        },
        "id": "fzsgfEKy7SAs",
        "outputId": "68067498-e5ca-48b5-b7de-7a92d3fc4204"
      },
      "execution_count": null,
      "outputs": [
        {
          "output_type": "stream",
          "name": "stdout",
          "text": [
            "['Cherry', 'apple', 'grapes', 'lemon', 'orange']\n",
            "['Cherry', 'apple', 'grapes', 'lemon', 'orange']\n"
          ]
        }
      ]
    },
    {
      "cell_type": "code",
      "source": [
        "copy_lst = org_lst.copy()\n",
        "copy_lst.append('orange')\n",
        "print(copy_lst)\n",
        "print(org_lst)\n"
      ],
      "metadata": {
        "colab": {
          "base_uri": "https://localhost:8080/"
        },
        "id": "eub1za_o7j0t",
        "outputId": "0cdb2373-0d3c-494d-954d-ea77013eeab1"
      },
      "execution_count": null,
      "outputs": [
        {
          "output_type": "stream",
          "name": "stdout",
          "text": [
            "['Cherry', 'apple', 'grapes', 'lemon', 'orange', 'orange']\n",
            "['Cherry', 'apple', 'grapes', 'lemon', 'orange']\n"
          ]
        }
      ]
    },
    {
      "cell_type": "code",
      "source": [
        "copy_lst = list(org_lst)\n",
        "copy_lst.append('orange')\n",
        "print(copy_lst)\n",
        "print(org_lst)"
      ],
      "metadata": {
        "colab": {
          "base_uri": "https://localhost:8080/"
        },
        "id": "8t6UjNFJ702D",
        "outputId": "a6395dcc-4a90-4a19-b0d5-6f8c8746fc9b"
      },
      "execution_count": null,
      "outputs": [
        {
          "output_type": "stream",
          "name": "stdout",
          "text": [
            "['Cherry', 'apple', 'grapes', 'lemon', 'orange', 'orange']\n",
            "['Cherry', 'apple', 'grapes', 'lemon', 'orange']\n"
          ]
        }
      ]
    },
    {
      "cell_type": "code",
      "source": [
        "copy_lst = org_lst[:]\n",
        "copy_lst.append('orange')\n",
        "print(copy_lst)\n",
        "print(org_lst)"
      ],
      "metadata": {
        "colab": {
          "base_uri": "https://localhost:8080/"
        },
        "id": "yiBxXYrl8AwC",
        "outputId": "0412a661-64e7-474c-9ab5-721f7050c5c0"
      },
      "execution_count": null,
      "outputs": [
        {
          "output_type": "stream",
          "name": "stdout",
          "text": [
            "['Cherry', 'apple', 'grapes', 'lemon', 'orange', 'orange']\n",
            "['Cherry', 'apple', 'grapes', 'lemon', 'orange']\n"
          ]
        }
      ]
    },
    {
      "cell_type": "code",
      "source": [
        "print(mylst)"
      ],
      "metadata": {
        "colab": {
          "base_uri": "https://localhost:8080/"
        },
        "id": "m4ORsCxd8G3l",
        "outputId": "d2150662-caaf-4d0c-b36b-f1a3ce097844"
      },
      "execution_count": null,
      "outputs": [
        {
          "output_type": "stream",
          "name": "stdout",
          "text": [
            "[1, 2, 3, 4, 5, 6, 7, 8, 9]\n"
          ]
        }
      ]
    },
    {
      "cell_type": "code",
      "source": [
        "b = [i*i for i in mylst]\n",
        "print(b)"
      ],
      "metadata": {
        "colab": {
          "base_uri": "https://localhost:8080/"
        },
        "id": "Y-c_Ql1A8bMj",
        "outputId": "249c993f-8411-4fd3-a535-bdb58d6a4e76"
      },
      "execution_count": null,
      "outputs": [
        {
          "output_type": "stream",
          "name": "stdout",
          "text": [
            "[1, 4, 9, 16, 25, 36, 49, 64, 81]\n"
          ]
        }
      ]
    },
    {
      "cell_type": "markdown",
      "source": [
        "**Tuples**"
      ],
      "metadata": {
        "id": "tl_Yae2w8wqG"
      }
    },
    {
      "cell_type": "markdown",
      "source": [
        "\n",
        "*   Ordered\n",
        "*   Immmutable\n",
        "*   Allows duplicate elements"
      ],
      "metadata": {
        "id": "QoSbgfxWF8r_"
      }
    },
    {
      "cell_type": "code",
      "source": [
        "mytuple = (\"Max\",28)\n",
        "print(mytuple)"
      ],
      "metadata": {
        "colab": {
          "base_uri": "https://localhost:8080/"
        },
        "id": "bboFXKqN8wFm",
        "outputId": "e483e21b-1033-4221-dc30-767d2515f765"
      },
      "execution_count": null,
      "outputs": [
        {
          "output_type": "stream",
          "name": "stdout",
          "text": [
            "('Max', 28)\n"
          ]
        }
      ]
    },
    {
      "cell_type": "code",
      "source": [
        "mytuple = (\"Max\")\n",
        "print(type(mytuple))\n",
        "\n",
        "mytuple = (\"Max\",)\n",
        "print(type(mytuple))"
      ],
      "metadata": {
        "colab": {
          "base_uri": "https://localhost:8080/"
        },
        "id": "6C8LtuS3GVoM",
        "outputId": "84b8058f-d6b8-49fc-dc34-7b01852bd0d2"
      },
      "execution_count": null,
      "outputs": [
        {
          "output_type": "stream",
          "name": "stdout",
          "text": [
            "<class 'str'>\n",
            "<class 'tuple'>\n"
          ]
        }
      ]
    },
    {
      "cell_type": "code",
      "source": [
        "mytuple = tuple(['Max',28,'Boston'])\n",
        "print(mytuple)"
      ],
      "metadata": {
        "colab": {
          "base_uri": "https://localhost:8080/"
        },
        "id": "J9m0XgVxGv2t",
        "outputId": "d10a8d50-f767-4c61-e9df-02cc09ef14a2"
      },
      "execution_count": null,
      "outputs": [
        {
          "output_type": "stream",
          "name": "stdout",
          "text": [
            "('Max', 28, 'Boston')\n"
          ]
        }
      ]
    },
    {
      "cell_type": "code",
      "source": [
        "item = mytuple[1]\n",
        "print(item)"
      ],
      "metadata": {
        "colab": {
          "base_uri": "https://localhost:8080/"
        },
        "id": "cojWEzXsG9TY",
        "outputId": "06af0628-7571-4082-fb7b-b8aee2b0a3bd"
      },
      "execution_count": null,
      "outputs": [
        {
          "output_type": "stream",
          "name": "stdout",
          "text": [
            "28\n"
          ]
        }
      ]
    },
    {
      "cell_type": "code",
      "source": [
        "item = mytuple[-1]\n",
        "print(item)"
      ],
      "metadata": {
        "colab": {
          "base_uri": "https://localhost:8080/"
        },
        "id": "Yvc19GsEHDgR",
        "outputId": "107c19eb-dadf-4c67-d345-807ea5c48f5c"
      },
      "execution_count": null,
      "outputs": [
        {
          "output_type": "stream",
          "name": "stdout",
          "text": [
            "Boston\n"
          ]
        }
      ]
    },
    {
      "cell_type": "code",
      "source": [
        "mytuple[0] = \"Tim\"\n",
        "print(mytuple)"
      ],
      "metadata": {
        "colab": {
          "base_uri": "https://localhost:8080/",
          "height": 188
        },
        "id": "qAWsdetiHLC-",
        "outputId": "4eddef88-e53c-4ff3-df2a-b8402c1750c2"
      },
      "execution_count": null,
      "outputs": [
        {
          "output_type": "error",
          "ename": "TypeError",
          "evalue": "ignored",
          "traceback": [
            "\u001b[0;31m---------------------------------------------------------------------------\u001b[0m",
            "\u001b[0;31mTypeError\u001b[0m                                 Traceback (most recent call last)",
            "\u001b[0;32m<ipython-input-71-575ee5a61fef>\u001b[0m in \u001b[0;36m<module>\u001b[0;34m()\u001b[0m\n\u001b[0;32m----> 1\u001b[0;31m \u001b[0mmytuple\u001b[0m\u001b[0;34m[\u001b[0m\u001b[0;36m0\u001b[0m\u001b[0;34m]\u001b[0m \u001b[0;34m=\u001b[0m \u001b[0;34m\"Tim\"\u001b[0m\u001b[0;34m\u001b[0m\u001b[0;34m\u001b[0m\u001b[0m\n\u001b[0m\u001b[1;32m      2\u001b[0m \u001b[0mprint\u001b[0m\u001b[0;34m(\u001b[0m\u001b[0mmytuple\u001b[0m\u001b[0;34m)\u001b[0m\u001b[0;34m\u001b[0m\u001b[0;34m\u001b[0m\u001b[0m\n",
            "\u001b[0;31mTypeError\u001b[0m: 'tuple' object does not support item assignment"
          ]
        }
      ]
    },
    {
      "cell_type": "code",
      "source": [
        "for i in mytuple:\n",
        "  print(i)"
      ],
      "metadata": {
        "colab": {
          "base_uri": "https://localhost:8080/"
        },
        "id": "py9JnoQdHT__",
        "outputId": "0f0fcd40-6a1e-4408-e0ba-dc90a46344b9"
      },
      "execution_count": null,
      "outputs": [
        {
          "output_type": "stream",
          "name": "stdout",
          "text": [
            "Max\n",
            "28\n",
            "Boston\n"
          ]
        }
      ]
    },
    {
      "cell_type": "code",
      "source": [
        "if \"Max\" in mytuple:\n",
        "  print(\"yes\")\n",
        "else:\n",
        "  print(\"no\")"
      ],
      "metadata": {
        "colab": {
          "base_uri": "https://localhost:8080/"
        },
        "id": "7ncgmi6iHYZc",
        "outputId": "83d552ba-1371-4ba5-a406-13928d7a9c4e"
      },
      "execution_count": null,
      "outputs": [
        {
          "output_type": "stream",
          "name": "stdout",
          "text": [
            "yes\n"
          ]
        }
      ]
    },
    {
      "cell_type": "code",
      "source": [
        "mytuple = ('a','p','p','l','e')\n",
        "print(len(mytuple))"
      ],
      "metadata": {
        "colab": {
          "base_uri": "https://localhost:8080/"
        },
        "id": "tLzGRIyyHft1",
        "outputId": "2e17e69f-5de2-4271-bf50-f9f22668bf17"
      },
      "execution_count": null,
      "outputs": [
        {
          "output_type": "stream",
          "name": "stdout",
          "text": [
            "5\n"
          ]
        }
      ]
    },
    {
      "cell_type": "code",
      "source": [
        "print(mytuple.count('p'))"
      ],
      "metadata": {
        "colab": {
          "base_uri": "https://localhost:8080/"
        },
        "id": "W-keVtsIHr5Z",
        "outputId": "732e1ff1-c475-4f2e-a55c-8cc28303bb58"
      },
      "execution_count": null,
      "outputs": [
        {
          "output_type": "stream",
          "name": "stdout",
          "text": [
            "2\n"
          ]
        }
      ]
    },
    {
      "cell_type": "code",
      "source": [
        "print(mytuple.index('e'))"
      ],
      "metadata": {
        "colab": {
          "base_uri": "https://localhost:8080/"
        },
        "id": "ULswb75xHza8",
        "outputId": "6ded56b7-5914-418b-e76e-6e042469bed7"
      },
      "execution_count": null,
      "outputs": [
        {
          "output_type": "stream",
          "name": "stdout",
          "text": [
            "4\n"
          ]
        }
      ]
    },
    {
      "cell_type": "code",
      "source": [
        "my_lst = list(mytuple)\n",
        "print(my_lst)"
      ],
      "metadata": {
        "colab": {
          "base_uri": "https://localhost:8080/"
        },
        "id": "zpISXLs_IHKc",
        "outputId": "cfe30f90-1584-4b1d-af31-2d71fb18ffd0"
      },
      "execution_count": null,
      "outputs": [
        {
          "output_type": "stream",
          "name": "stdout",
          "text": [
            "['a', 'p', 'p', 'l', 'e']\n"
          ]
        }
      ]
    },
    {
      "cell_type": "code",
      "source": [
        "mytuple = tuple(my_lst)\n",
        "print(mytuple)"
      ],
      "metadata": {
        "colab": {
          "base_uri": "https://localhost:8080/"
        },
        "id": "u-aHze5dIa8s",
        "outputId": "724e2ef0-e129-4e1c-d87c-003daf997022"
      },
      "execution_count": null,
      "outputs": [
        {
          "output_type": "stream",
          "name": "stdout",
          "text": [
            "('a', 'p', 'p', 'l', 'e')\n"
          ]
        }
      ]
    },
    {
      "cell_type": "code",
      "source": [
        "a = (1,2,3,4,5,6,7,8,9,10)\n",
        "b = a[2:5]\n",
        "print(b)"
      ],
      "metadata": {
        "colab": {
          "base_uri": "https://localhost:8080/"
        },
        "id": "4pF52GoRIiiH",
        "outputId": "3aadcd8a-bd17-40d4-818f-9de74b71db1a"
      },
      "execution_count": null,
      "outputs": [
        {
          "output_type": "stream",
          "name": "stdout",
          "text": [
            "(3, 4, 5)\n"
          ]
        }
      ]
    },
    {
      "cell_type": "code",
      "source": [
        "b = a[:]\n",
        "print(b)"
      ],
      "metadata": {
        "colab": {
          "base_uri": "https://localhost:8080/"
        },
        "id": "c7OszkrJIweK",
        "outputId": "bd16d14f-b83d-474d-9b97-607a991062a4"
      },
      "execution_count": null,
      "outputs": [
        {
          "output_type": "stream",
          "name": "stdout",
          "text": [
            "(1, 2, 3, 4, 5, 6, 7, 8, 9, 10)\n"
          ]
        }
      ]
    },
    {
      "cell_type": "code",
      "source": [
        "b = a[::3]\n",
        "print(b)"
      ],
      "metadata": {
        "colab": {
          "base_uri": "https://localhost:8080/"
        },
        "id": "4QCt5La3I6ok",
        "outputId": "17e1ae6e-de5b-4e14-c6c0-2dcc90c15ba3"
      },
      "execution_count": null,
      "outputs": [
        {
          "output_type": "stream",
          "name": "stdout",
          "text": [
            "(1, 4, 7, 10)\n"
          ]
        }
      ]
    },
    {
      "cell_type": "code",
      "source": [
        "b = a[::-1]\n",
        "print(b)"
      ],
      "metadata": {
        "colab": {
          "base_uri": "https://localhost:8080/"
        },
        "id": "oV6SXM7cJC6F",
        "outputId": "21b6e855-479c-4312-b1a3-356d8c453967"
      },
      "execution_count": null,
      "outputs": [
        {
          "output_type": "stream",
          "name": "stdout",
          "text": [
            "(10, 9, 8, 7, 6, 5, 4, 3, 2, 1)\n"
          ]
        }
      ]
    },
    {
      "cell_type": "code",
      "source": [
        "mytuple = (\"Max\",28,\"Boston\")\n",
        "name,age,city = mytuple\n",
        "print(name)\n",
        "print(age)\n",
        "print(city)"
      ],
      "metadata": {
        "colab": {
          "base_uri": "https://localhost:8080/"
        },
        "id": "KmodH4EJJGTr",
        "outputId": "046a49ac-88f1-4ee4-99f5-281196d8af9a"
      },
      "execution_count": null,
      "outputs": [
        {
          "output_type": "stream",
          "name": "stdout",
          "text": [
            "Max\n",
            "28\n",
            "Boston\n"
          ]
        }
      ]
    },
    {
      "cell_type": "code",
      "source": [
        "my_tup = (0,1,2,3,4)\n",
        "i1,*i2,i3 = my_tup\n",
        "print(i1)\n",
        "print(i2)\n",
        "print(i3)"
      ],
      "metadata": {
        "colab": {
          "base_uri": "https://localhost:8080/"
        },
        "id": "S1BOSYl0JgQf",
        "outputId": "19e68a0c-d08a-4b48-ad60-23a25764437d"
      },
      "execution_count": null,
      "outputs": [
        {
          "output_type": "stream",
          "name": "stdout",
          "text": [
            "0\n",
            "[1, 2, 3]\n",
            "4\n"
          ]
        }
      ]
    },
    {
      "cell_type": "code",
      "source": [
        "import sys\n",
        "my_lst = [0,1,\"Max\"]\n",
        "my_tup = (0,1,\"Max\")\n",
        "print(sys.getsizeof(my_lst),\"bytes\")\n",
        "print(sys.getsizeof(my_tup),\"bytes\")"
      ],
      "metadata": {
        "colab": {
          "base_uri": "https://localhost:8080/"
        },
        "id": "D_0LgSwKJ-b-",
        "outputId": "0f81ce6d-eedb-4663-8cfb-34184142fe37"
      },
      "execution_count": null,
      "outputs": [
        {
          "output_type": "stream",
          "name": "stdout",
          "text": [
            "96 bytes\n",
            "80 bytes\n"
          ]
        }
      ]
    },
    {
      "cell_type": "code",
      "source": [
        "import timeit\n",
        "print(timeit.timeit(stmt=\"[0,1,2]\",number=1000000))\n",
        "print(timeit.timeit(stmt=\"(0,1,2)\",number=1000000))"
      ],
      "metadata": {
        "colab": {
          "base_uri": "https://localhost:8080/"
        },
        "id": "LAwheGdILk0l",
        "outputId": "6d6a25dc-bfca-4d7d-894b-4268e93b0579"
      },
      "execution_count": null,
      "outputs": [
        {
          "output_type": "stream",
          "name": "stdout",
          "text": [
            "0.06505112600007124\n",
            "0.012683730999924592\n"
          ]
        }
      ]
    },
    {
      "cell_type": "markdown",
      "source": [
        "**Dictionaries**"
      ],
      "metadata": {
        "id": "eTBePH1UMt7A"
      }
    },
    {
      "cell_type": "markdown",
      "source": [
        "\n",
        "*   Key value pairs\n",
        "*   Unordered\n",
        "*   Mutable"
      ],
      "metadata": {
        "id": "F63G0ImkM4XK"
      }
    },
    {
      "cell_type": "code",
      "source": [
        "mydict = {\"name\":\"Max\",\"age\":25,\"city\":\"Pune\"}\n",
        "print(mydict)"
      ],
      "metadata": {
        "colab": {
          "base_uri": "https://localhost:8080/"
        },
        "id": "AtlgOu4tMp98",
        "outputId": "4b1bb485-406b-488f-adda-3ea6756846bd"
      },
      "execution_count": null,
      "outputs": [
        {
          "output_type": "stream",
          "name": "stdout",
          "text": [
            "{'name': 'Max', 'age': 25, 'city': 'Pune'}\n"
          ]
        }
      ]
    },
    {
      "cell_type": "code",
      "source": [
        "mydict2 = dict(name=\"Max\",age=25,city=\"Pune\")\n",
        "print(mydict2)"
      ],
      "metadata": {
        "colab": {
          "base_uri": "https://localhost:8080/"
        },
        "id": "NAnxiH9N1MCV",
        "outputId": "7e850c27-e9e3-4c65-8636-dda7a2a2e4d8"
      },
      "execution_count": null,
      "outputs": [
        {
          "output_type": "stream",
          "name": "stdout",
          "text": [
            "{'name': 'Max', 'age': 25, 'city': 'Pune'}\n"
          ]
        }
      ]
    },
    {
      "cell_type": "code",
      "source": [
        "values = mydict[\"name\"]\n",
        "print(values)\n"
      ],
      "metadata": {
        "colab": {
          "base_uri": "https://localhost:8080/"
        },
        "id": "p5ytQ1qF171R",
        "outputId": "f0ecfad4-241c-4594-b4a0-ba8d334a998d"
      },
      "execution_count": null,
      "outputs": [
        {
          "output_type": "stream",
          "name": "stdout",
          "text": [
            "Max\n"
          ]
        }
      ]
    },
    {
      "cell_type": "code",
      "source": [
        "mydict[\"email\"] = \"max@xyz.com\"\n",
        "print(mydict)"
      ],
      "metadata": {
        "colab": {
          "base_uri": "https://localhost:8080/"
        },
        "id": "u2pszqbs2n5O",
        "outputId": "4dd2c000-4d60-45d6-c5e6-d79e5549f02e"
      },
      "execution_count": null,
      "outputs": [
        {
          "output_type": "stream",
          "name": "stdout",
          "text": [
            "{'name': 'Max', 'age': 25, 'city': 'Pune', 'email': 'max@xyz.com'}\n"
          ]
        }
      ]
    },
    {
      "cell_type": "code",
      "source": [
        "mydict[\"email\"] = \"cool@xyz.com\"\n",
        "print(mydict)"
      ],
      "metadata": {
        "colab": {
          "base_uri": "https://localhost:8080/"
        },
        "id": "UkpXnkPN22XV",
        "outputId": "57b7f034-4fe4-4d13-afea-22f833148259"
      },
      "execution_count": null,
      "outputs": [
        {
          "output_type": "stream",
          "name": "stdout",
          "text": [
            "{'name': 'Max', 'age': 25, 'city': 'Pune', 'email': 'cool@xyz.com'}\n"
          ]
        }
      ]
    },
    {
      "cell_type": "code",
      "source": [
        "del mydict['name']\n",
        "print(mydict)"
      ],
      "metadata": {
        "colab": {
          "base_uri": "https://localhost:8080/"
        },
        "id": "aFpYGmf92-gc",
        "outputId": "cab5c956-cc0b-4633-a4fb-f30b04e62e52"
      },
      "execution_count": null,
      "outputs": [
        {
          "output_type": "stream",
          "name": "stdout",
          "text": [
            "{'age': 25, 'city': 'Pune', 'email': 'cool@xyz.com'}\n"
          ]
        }
      ]
    },
    {
      "cell_type": "code",
      "source": [
        "mydict.pop('city')\n",
        "print(mydict)"
      ],
      "metadata": {
        "colab": {
          "base_uri": "https://localhost:8080/"
        },
        "id": "jHWBoHWXDcIg",
        "outputId": "fe0ca184-d0b8-4fec-ae7c-54a9fd3f9906"
      },
      "execution_count": null,
      "outputs": [
        {
          "output_type": "stream",
          "name": "stdout",
          "text": [
            "{'age': 25, 'email': 'cool@xyz.com'}\n"
          ]
        }
      ]
    },
    {
      "cell_type": "code",
      "source": [
        "mydict.popitem()\n",
        "print(mydict)"
      ],
      "metadata": {
        "colab": {
          "base_uri": "https://localhost:8080/"
        },
        "id": "J3MciXwjEdTs",
        "outputId": "cdeebb41-03b7-4847-f5da-9a73a66c91b4"
      },
      "execution_count": null,
      "outputs": [
        {
          "output_type": "stream",
          "name": "stdout",
          "text": [
            "{'age': 25}\n"
          ]
        }
      ]
    },
    {
      "cell_type": "code",
      "source": [
        "mydict"
      ],
      "metadata": {
        "colab": {
          "base_uri": "https://localhost:8080/"
        },
        "id": "KiwcJPX6FWrY",
        "outputId": "df74c46b-a370-46d8-da4a-764235024917"
      },
      "execution_count": null,
      "outputs": [
        {
          "output_type": "execute_result",
          "data": {
            "text/plain": [
              "{'age': 25}"
            ]
          },
          "metadata": {},
          "execution_count": 13
        }
      ]
    },
    {
      "cell_type": "code",
      "source": [
        "if 'age' in mydict:\n",
        "  print(mydict['age'])"
      ],
      "metadata": {
        "colab": {
          "base_uri": "https://localhost:8080/"
        },
        "id": "quzVz1YIE_VC",
        "outputId": "5e25de27-b5c8-4492-b047-e1f806a91fef"
      },
      "execution_count": null,
      "outputs": [
        {
          "output_type": "stream",
          "name": "stdout",
          "text": [
            "25\n"
          ]
        }
      ]
    },
    {
      "cell_type": "code",
      "source": [
        "for key in mydict:\n",
        "  print(key)"
      ],
      "metadata": {
        "colab": {
          "base_uri": "https://localhost:8080/"
        },
        "id": "jRCmNa_VFmWD",
        "outputId": "9dbb32b3-510d-4ba8-8879-d572c691f470"
      },
      "execution_count": null,
      "outputs": [
        {
          "output_type": "stream",
          "name": "stdout",
          "text": [
            "age\n"
          ]
        }
      ]
    },
    {
      "cell_type": "code",
      "source": [
        "for values in mydict.values():\n",
        "  print(values)"
      ],
      "metadata": {
        "colab": {
          "base_uri": "https://localhost:8080/"
        },
        "id": "YN3_KitEGMgh",
        "outputId": "68a31fe5-47fe-4495-a2c5-c44f839b5ac1"
      },
      "execution_count": null,
      "outputs": [
        {
          "output_type": "stream",
          "name": "stdout",
          "text": [
            "25\n"
          ]
        }
      ]
    },
    {
      "cell_type": "code",
      "source": [
        "for key,value in mydict.items():\n",
        "  print(key,value)"
      ],
      "metadata": {
        "colab": {
          "base_uri": "https://localhost:8080/"
        },
        "id": "piLUzk73GXZu",
        "outputId": "efc3e771-3b5c-4af3-d719-e5444d86b9b5"
      },
      "execution_count": null,
      "outputs": [
        {
          "output_type": "stream",
          "name": "stdout",
          "text": [
            "age 25\n"
          ]
        }
      ]
    },
    {
      "cell_type": "code",
      "source": [
        "mydct_copy = mydict\n",
        "print(mydct_copy)"
      ],
      "metadata": {
        "colab": {
          "base_uri": "https://localhost:8080/"
        },
        "id": "YFxwR29mGoCD",
        "outputId": "32343e62-1638-4af3-de96-3149106ad8b4"
      },
      "execution_count": null,
      "outputs": [
        {
          "output_type": "stream",
          "name": "stdout",
          "text": [
            "{'age': 25}\n"
          ]
        }
      ]
    },
    {
      "cell_type": "code",
      "source": [
        "mydct_copy['email'] = \"max@xyz.com\"\n",
        "print(mydct_copy)\n",
        "print(mydict)"
      ],
      "metadata": {
        "colab": {
          "base_uri": "https://localhost:8080/"
        },
        "id": "5DaqmdUvG5lu",
        "outputId": "1932b308-c690-4bb3-dccc-546fea272855"
      },
      "execution_count": null,
      "outputs": [
        {
          "output_type": "stream",
          "name": "stdout",
          "text": [
            "{'age': 25, 'email': 'max@xyz.com'}\n",
            "{'age': 25, 'email': 'max@xyz.com'}\n"
          ]
        }
      ]
    },
    {
      "cell_type": "code",
      "source": [
        "mydct_copy = mydict.copy()\n",
        "mydct_copy['email1'] = \"max@xyz.com\"\n",
        "print(mydct_copy)\n",
        "print(mydict)"
      ],
      "metadata": {
        "colab": {
          "base_uri": "https://localhost:8080/"
        },
        "id": "Yd8dv7xfHRYI",
        "outputId": "94ce4497-0bc7-4582-9acb-9e25884173f2"
      },
      "execution_count": null,
      "outputs": [
        {
          "output_type": "stream",
          "name": "stdout",
          "text": [
            "{'age': 25, 'email': 'max@xyz.com', 'email1': 'max@xyz.com'}\n",
            "{'age': 25, 'email': 'max@xyz.com'}\n"
          ]
        }
      ]
    },
    {
      "cell_type": "code",
      "source": [
        "mydct = {\"name\":\"Max\",\"age\":55,\"email\":\"abc@web.com\"}\n",
        "mydct1 = dict(name=\"Mad\",age=85)\n",
        "\n",
        "mydct.update(mydct1)\n",
        "print(mydct)"
      ],
      "metadata": {
        "colab": {
          "base_uri": "https://localhost:8080/"
        },
        "id": "Qa0ACgPiH0O_",
        "outputId": "8b967fff-44ad-4a53-a72b-8c167674e601"
      },
      "execution_count": null,
      "outputs": [
        {
          "output_type": "stream",
          "name": "stdout",
          "text": [
            "{'name': 'Mad', 'age': 85, 'email': 'abc@web.com'}\n"
          ]
        }
      ]
    },
    {
      "cell_type": "code",
      "source": [
        "my_dict = {3:6,6:36,8:91}\n",
        "print(my_dict)"
      ],
      "metadata": {
        "colab": {
          "base_uri": "https://localhost:8080/"
        },
        "id": "i8kO7j83JUgw",
        "outputId": "6dc1d5d9-08a8-4acd-8b88-83b0d0eda557"
      },
      "execution_count": null,
      "outputs": [
        {
          "output_type": "stream",
          "name": "stdout",
          "text": [
            "{3: 6, 6: 36, 8: 91}\n"
          ]
        }
      ]
    },
    {
      "cell_type": "code",
      "source": [
        "value = my_dict[6]\n",
        "print(value)"
      ],
      "metadata": {
        "colab": {
          "base_uri": "https://localhost:8080/"
        },
        "id": "lYgYATRMPmwU",
        "outputId": "b05ef1e6-1f45-4f71-bc6e-9b61372b44e4"
      },
      "execution_count": null,
      "outputs": [
        {
          "output_type": "stream",
          "name": "stdout",
          "text": [
            "36\n"
          ]
        }
      ]
    },
    {
      "cell_type": "code",
      "source": [
        "mytuple = (8,7)\n",
        "mydict = {mytuple:15}\n",
        "print(mydict)"
      ],
      "metadata": {
        "colab": {
          "base_uri": "https://localhost:8080/"
        },
        "id": "9db9vajoP9o7",
        "outputId": "302f9d5b-bab7-4a45-e0b5-d67e2954046a"
      },
      "execution_count": null,
      "outputs": [
        {
          "output_type": "stream",
          "name": "stdout",
          "text": [
            "{(8, 7): 15}\n"
          ]
        }
      ]
    },
    {
      "cell_type": "markdown",
      "source": [
        "**Sets**"
      ],
      "metadata": {
        "id": "33ul8vhTQM3k"
      }
    },
    {
      "cell_type": "markdown",
      "source": [
        "\n",
        "*   Unordered\n",
        "*   Mutable\n",
        "*   No Duplicates"
      ],
      "metadata": {
        "id": "aOjpl1nnQYtW"
      }
    },
    {
      "cell_type": "code",
      "source": [
        "myset = {1,2,3,1,2}\n",
        "print(myset)"
      ],
      "metadata": {
        "colab": {
          "base_uri": "https://localhost:8080/"
        },
        "id": "WF1vWQf3QJuk",
        "outputId": "714cac34-879e-490b-ff7b-f5faf17b68b1"
      },
      "execution_count": null,
      "outputs": [
        {
          "output_type": "stream",
          "name": "stdout",
          "text": [
            "{1, 2, 3}\n"
          ]
        }
      ]
    },
    {
      "cell_type": "code",
      "source": [
        "myset = set([4,5,\"hello\"])\n",
        "print(myset)"
      ],
      "metadata": {
        "colab": {
          "base_uri": "https://localhost:8080/"
        },
        "id": "k-9wQuUKQp6D",
        "outputId": "50c3d210-a617-49aa-b0b0-4fccba13f98b"
      },
      "execution_count": null,
      "outputs": [
        {
          "output_type": "stream",
          "name": "stdout",
          "text": [
            "{'hello', 4, 5}\n"
          ]
        }
      ]
    },
    {
      "cell_type": "code",
      "source": [
        "myset = {}\n",
        "type(myset)"
      ],
      "metadata": {
        "colab": {
          "base_uri": "https://localhost:8080/"
        },
        "id": "BxdRVLqSQ6GU",
        "outputId": "51c0dfb3-0140-473c-d169-187d31dc1b3d"
      },
      "execution_count": null,
      "outputs": [
        {
          "output_type": "execute_result",
          "data": {
            "text/plain": [
              "dict"
            ]
          },
          "metadata": {},
          "execution_count": 34
        }
      ]
    },
    {
      "cell_type": "code",
      "source": [
        "myset = set()\n",
        "print(myset)"
      ],
      "metadata": {
        "colab": {
          "base_uri": "https://localhost:8080/"
        },
        "id": "-FoXXqGARAEW",
        "outputId": "aed60112-d601-4b34-9afb-76ccd130576d"
      },
      "execution_count": null,
      "outputs": [
        {
          "output_type": "stream",
          "name": "stdout",
          "text": [
            "set()\n"
          ]
        }
      ]
    },
    {
      "cell_type": "code",
      "source": [
        "myset.add(1)\n",
        "myset.add(2)\n",
        "myset.add(3)"
      ],
      "metadata": {
        "id": "ZPLthHKqRHCg"
      },
      "execution_count": null,
      "outputs": []
    },
    {
      "cell_type": "code",
      "source": [
        "print(myset)"
      ],
      "metadata": {
        "colab": {
          "base_uri": "https://localhost:8080/"
        },
        "id": "w8nY7sveRSxc",
        "outputId": "fa00febe-63a0-4014-f8a3-1b98cf0cef9f"
      },
      "execution_count": null,
      "outputs": [
        {
          "output_type": "stream",
          "name": "stdout",
          "text": [
            "{1, 2, 3}\n"
          ]
        }
      ]
    },
    {
      "cell_type": "code",
      "source": [
        "myset.remove(3)\n",
        "print(myset)"
      ],
      "metadata": {
        "colab": {
          "base_uri": "https://localhost:8080/"
        },
        "id": "DH66s9WkRUlw",
        "outputId": "3cd4481f-98da-443c-a6b4-c0f60df7b12f"
      },
      "execution_count": null,
      "outputs": [
        {
          "output_type": "stream",
          "name": "stdout",
          "text": [
            "{1, 2}\n"
          ]
        }
      ]
    },
    {
      "cell_type": "code",
      "source": [
        "myset.discard(2)\n",
        "print(myset)"
      ],
      "metadata": {
        "colab": {
          "base_uri": "https://localhost:8080/"
        },
        "id": "CP1fFgGQRU7k",
        "outputId": "662e9f29-222b-4694-f564-85ef4a3858f7"
      },
      "execution_count": null,
      "outputs": [
        {
          "output_type": "stream",
          "name": "stdout",
          "text": [
            "{1}\n"
          ]
        }
      ]
    },
    {
      "cell_type": "code",
      "source": [
        "myset.clear()\n",
        "print(myset)"
      ],
      "metadata": {
        "colab": {
          "base_uri": "https://localhost:8080/"
        },
        "id": "-_gzoDKRRU-Y",
        "outputId": "3313dfc3-0bd2-40bc-98e6-f7283c20b623"
      },
      "execution_count": null,
      "outputs": [
        {
          "output_type": "stream",
          "name": "stdout",
          "text": [
            "set()\n"
          ]
        }
      ]
    },
    {
      "cell_type": "code",
      "source": [
        "myset.add(4)\n",
        "myset.add(5)\n",
        "myset.add(6)\n",
        "print(myset)"
      ],
      "metadata": {
        "colab": {
          "base_uri": "https://localhost:8080/"
        },
        "id": "J7WKrrXORVA2",
        "outputId": "65ba2e33-7df3-49db-9f64-0c088736f50c"
      },
      "execution_count": null,
      "outputs": [
        {
          "output_type": "stream",
          "name": "stdout",
          "text": [
            "{4, 5, 6}\n"
          ]
        }
      ]
    },
    {
      "cell_type": "code",
      "source": [
        "myset.pop()\n",
        "print(myset)"
      ],
      "metadata": {
        "colab": {
          "base_uri": "https://localhost:8080/"
        },
        "id": "Ps07n0g3RVDy",
        "outputId": "56946d5c-cf1f-4c65-b0ed-c364dcb0a88d"
      },
      "execution_count": null,
      "outputs": [
        {
          "output_type": "stream",
          "name": "stdout",
          "text": [
            "{5, 6}\n"
          ]
        }
      ]
    },
    {
      "cell_type": "code",
      "source": [
        "for i in myset:\n",
        "  print(i)"
      ],
      "metadata": {
        "colab": {
          "base_uri": "https://localhost:8080/"
        },
        "id": "Q7-lJxO7RVFz",
        "outputId": "e72dd5e9-a532-4c13-ad2e-c7976859c5d8"
      },
      "execution_count": null,
      "outputs": [
        {
          "output_type": "stream",
          "name": "stdout",
          "text": [
            "5\n",
            "6\n"
          ]
        }
      ]
    },
    {
      "cell_type": "code",
      "source": [
        "if 5 in myset:\n",
        "  print(\"yes\")"
      ],
      "metadata": {
        "colab": {
          "base_uri": "https://localhost:8080/"
        },
        "id": "wre9Zjvqb71U",
        "outputId": "1851117f-f474-405c-8606-b93fba62c1b3"
      },
      "execution_count": null,
      "outputs": [
        {
          "output_type": "stream",
          "name": "stdout",
          "text": [
            "yes\n"
          ]
        }
      ]
    },
    {
      "cell_type": "markdown",
      "source": [
        "**Union and intersection**"
      ],
      "metadata": {
        "id": "e_xcqPKwcGvg"
      }
    },
    {
      "cell_type": "code",
      "source": [
        "odd = {1,3,5,7,9}\n",
        "even = {2,4,6,8,10}\n",
        "primes = {2,3,5,7}\n",
        "\n",
        "u = odd.union(even)\n",
        "print(u)"
      ],
      "metadata": {
        "colab": {
          "base_uri": "https://localhost:8080/"
        },
        "id": "L2P8VaMNcBc_",
        "outputId": "c19f5da4-3f5f-4e75-a14c-e23779fa3ebe"
      },
      "execution_count": null,
      "outputs": [
        {
          "output_type": "stream",
          "name": "stdout",
          "text": [
            "{1, 2, 3, 4, 5, 6, 7, 8, 9, 10}\n"
          ]
        }
      ]
    },
    {
      "cell_type": "code",
      "source": [
        "intrct = odd.intersection(even)\n",
        "print(intrct)"
      ],
      "metadata": {
        "colab": {
          "base_uri": "https://localhost:8080/"
        },
        "id": "G2pxk0zxdACg",
        "outputId": "3bc19add-c772-4f13-d270-13b86ba53c43"
      },
      "execution_count": null,
      "outputs": [
        {
          "output_type": "stream",
          "name": "stdout",
          "text": [
            "set()\n"
          ]
        }
      ]
    },
    {
      "cell_type": "code",
      "source": [
        "intrct = odd.intersection(primes)\n",
        "print(intrct)"
      ],
      "metadata": {
        "colab": {
          "base_uri": "https://localhost:8080/"
        },
        "id": "rM3Rrcn6dKWG",
        "outputId": "7e2483ce-f12f-4a69-85ce-09a660c6c0da"
      },
      "execution_count": null,
      "outputs": [
        {
          "output_type": "stream",
          "name": "stdout",
          "text": [
            "{3, 5, 7}\n"
          ]
        }
      ]
    },
    {
      "cell_type": "code",
      "source": [
        "intrct = even.intersection(primes)\n",
        "print(intrct)"
      ],
      "metadata": {
        "colab": {
          "base_uri": "https://localhost:8080/"
        },
        "id": "FHR8G6_zdOtn",
        "outputId": "4712fa85-54c7-4209-c95a-41a17fa2f1b5"
      },
      "execution_count": null,
      "outputs": [
        {
          "output_type": "stream",
          "name": "stdout",
          "text": [
            "{2}\n"
          ]
        }
      ]
    },
    {
      "cell_type": "code",
      "source": [
        "setA = {1,2,3,4,5,6,7,8,9}\n",
        "setB = {1,2,3,5,67,8,9}\n",
        "\n",
        "diff = setA.difference(setB)\n",
        "print(diff)"
      ],
      "metadata": {
        "colab": {
          "base_uri": "https://localhost:8080/"
        },
        "id": "07WXvADXdSFU",
        "outputId": "68cf5b59-c74d-4cf9-dc0f-ffaa265d6204"
      },
      "execution_count": null,
      "outputs": [
        {
          "output_type": "stream",
          "name": "stdout",
          "text": [
            "{4, 6, 7}\n"
          ]
        }
      ]
    },
    {
      "cell_type": "code",
      "source": [
        "diff = setB.difference(setA)\n",
        "print(diff)"
      ],
      "metadata": {
        "colab": {
          "base_uri": "https://localhost:8080/"
        },
        "id": "39J_8dXEdk8a",
        "outputId": "77a20779-0e1a-402d-bab2-43495baf1e9e"
      },
      "execution_count": null,
      "outputs": [
        {
          "output_type": "stream",
          "name": "stdout",
          "text": [
            "{67}\n"
          ]
        }
      ]
    },
    {
      "cell_type": "code",
      "source": [
        "diff = setA.symmetric_difference(setB)\n",
        "print(diff)"
      ],
      "metadata": {
        "colab": {
          "base_uri": "https://localhost:8080/"
        },
        "id": "OFK1a8GNdttQ",
        "outputId": "bff61349-c7d6-412e-f924-4f788dda9dc2"
      },
      "execution_count": null,
      "outputs": [
        {
          "output_type": "stream",
          "name": "stdout",
          "text": [
            "{67, 4, 6, 7}\n"
          ]
        }
      ]
    },
    {
      "cell_type": "code",
      "source": [
        "setA.update(setB)\n",
        "print(setA)"
      ],
      "metadata": {
        "colab": {
          "base_uri": "https://localhost:8080/"
        },
        "id": "gQq43mradz5r",
        "outputId": "518df816-f139-4038-c229-bdc6f5150cb1"
      },
      "execution_count": null,
      "outputs": [
        {
          "output_type": "stream",
          "name": "stdout",
          "text": [
            "{1, 2, 3, 4, 5, 6, 7, 8, 9, 67}\n"
          ]
        }
      ]
    },
    {
      "cell_type": "code",
      "source": [
        "setA.intersection_update(setB)\n",
        "print(setA)"
      ],
      "metadata": {
        "colab": {
          "base_uri": "https://localhost:8080/"
        },
        "id": "eMWJefqJeKqM",
        "outputId": "d9e74771-192f-4b67-be99-fca444b1a28f"
      },
      "execution_count": null,
      "outputs": [
        {
          "output_type": "stream",
          "name": "stdout",
          "text": [
            "{1, 2, 3, 67, 5, 8, 9}\n"
          ]
        }
      ]
    },
    {
      "cell_type": "code",
      "source": [
        "setA.difference_update(setB)\n",
        "print(setA)"
      ],
      "metadata": {
        "colab": {
          "base_uri": "https://localhost:8080/"
        },
        "id": "lNOirQoTeTEw",
        "outputId": "8c5cc237-3031-4ab7-9933-fe2ea20e1fd8"
      },
      "execution_count": null,
      "outputs": [
        {
          "output_type": "stream",
          "name": "stdout",
          "text": [
            "set()\n"
          ]
        }
      ]
    },
    {
      "cell_type": "code",
      "source": [
        "setA = {1,2,3,4,5,6,7,8,9}\n",
        "setB = {1,2,3,5}\n",
        "setC = {7,8}"
      ],
      "metadata": {
        "id": "qnbMhlX-fDN4"
      },
      "execution_count": null,
      "outputs": []
    },
    {
      "cell_type": "code",
      "source": [
        "print(setA.issubset(setB))"
      ],
      "metadata": {
        "colab": {
          "base_uri": "https://localhost:8080/"
        },
        "id": "1NDzVGu7edFx",
        "outputId": "64e6b641-2dc7-4c0d-ad52-0b15735050b0"
      },
      "execution_count": null,
      "outputs": [
        {
          "output_type": "stream",
          "name": "stdout",
          "text": [
            "False\n"
          ]
        }
      ]
    },
    {
      "cell_type": "code",
      "source": [
        "print(setB.issubset(setA))"
      ],
      "metadata": {
        "colab": {
          "base_uri": "https://localhost:8080/"
        },
        "id": "mM41OFdDe6zz",
        "outputId": "1b0d79df-b4f4-449e-aacd-cc175aff8188"
      },
      "execution_count": null,
      "outputs": [
        {
          "output_type": "stream",
          "name": "stdout",
          "text": [
            "True\n"
          ]
        }
      ]
    },
    {
      "cell_type": "code",
      "source": [
        "print(setA.issuperset(setB))"
      ],
      "metadata": {
        "colab": {
          "base_uri": "https://localhost:8080/"
        },
        "id": "UlsKy1Hce9Vs",
        "outputId": "b28e1586-5be4-426b-c520-eaad1983d327"
      },
      "execution_count": null,
      "outputs": [
        {
          "output_type": "stream",
          "name": "stdout",
          "text": [
            "True\n"
          ]
        }
      ]
    },
    {
      "cell_type": "code",
      "source": [
        "print(setB.isdisjoint(setC))"
      ],
      "metadata": {
        "colab": {
          "base_uri": "https://localhost:8080/"
        },
        "id": "pheKwCsrfR-c",
        "outputId": "c8b83fa8-8e17-4b98-cc46-3859baf98bd2"
      },
      "execution_count": null,
      "outputs": [
        {
          "output_type": "stream",
          "name": "stdout",
          "text": [
            "True\n"
          ]
        }
      ]
    },
    {
      "cell_type": "code",
      "source": [
        "setD = setA\n",
        "print(setD)"
      ],
      "metadata": {
        "colab": {
          "base_uri": "https://localhost:8080/"
        },
        "id": "uBAg5_5sfuqe",
        "outputId": "18cce750-2468-4776-ec4e-90aed987e58d"
      },
      "execution_count": null,
      "outputs": [
        {
          "output_type": "stream",
          "name": "stdout",
          "text": [
            "{1, 2, 3, 4, 5, 6, 7, 8, 9}\n"
          ]
        }
      ]
    },
    {
      "cell_type": "code",
      "source": [
        "setD.add(10)\n",
        "print(setD)\n",
        "print(setA)"
      ],
      "metadata": {
        "colab": {
          "base_uri": "https://localhost:8080/"
        },
        "id": "g83BwJISf018",
        "outputId": "e0923f98-d074-4fda-a3a1-b71df2938ad1"
      },
      "execution_count": null,
      "outputs": [
        {
          "output_type": "stream",
          "name": "stdout",
          "text": [
            "{1, 2, 3, 4, 5, 6, 7, 8, 9, 10}\n",
            "{1, 2, 3, 4, 5, 6, 7, 8, 9, 10}\n"
          ]
        }
      ]
    },
    {
      "cell_type": "code",
      "source": [
        "setD = setA.copy()\n",
        "setD.add(11)\n",
        "print(setD)\n",
        "print(setA)\n"
      ],
      "metadata": {
        "colab": {
          "base_uri": "https://localhost:8080/"
        },
        "id": "vxiPQGbXf6D9",
        "outputId": "7535924c-acd6-46a6-b3d3-7b171ede6f48"
      },
      "execution_count": null,
      "outputs": [
        {
          "output_type": "stream",
          "name": "stdout",
          "text": [
            "{1, 2, 3, 4, 5, 6, 7, 8, 9, 10, 11}\n",
            "{1, 2, 3, 4, 5, 6, 7, 8, 9, 10}\n"
          ]
        }
      ]
    },
    {
      "cell_type": "code",
      "source": [
        "setD = set(setA)\n",
        "setD.add(12)\n",
        "print(setD)\n",
        "print(setA)"
      ],
      "metadata": {
        "colab": {
          "base_uri": "https://localhost:8080/"
        },
        "id": "zLWcKnwmgC4q",
        "outputId": "2222a7f9-5ee1-4fa0-97e7-2215c672fc87"
      },
      "execution_count": null,
      "outputs": [
        {
          "output_type": "stream",
          "name": "stdout",
          "text": [
            "{1, 2, 3, 4, 5, 6, 7, 8, 9, 10, 12}\n",
            "{1, 2, 3, 4, 5, 6, 7, 8, 9, 10}\n"
          ]
        }
      ]
    },
    {
      "cell_type": "code",
      "source": [
        "a = frozenset([1,2,3,4])\n",
        "print(a)"
      ],
      "metadata": {
        "colab": {
          "base_uri": "https://localhost:8080/"
        },
        "id": "EHrjKlo5gKUx",
        "outputId": "b68cb84f-7f02-46f7-ff78-13d929f6f288"
      },
      "execution_count": null,
      "outputs": [
        {
          "output_type": "stream",
          "name": "stdout",
          "text": [
            "frozenset({1, 2, 3, 4})\n"
          ]
        }
      ]
    },
    {
      "cell_type": "code",
      "source": [
        "a.remove(2)"
      ],
      "metadata": {
        "colab": {
          "base_uri": "https://localhost:8080/",
          "height": 170
        },
        "id": "Hu9vOrUvgU7q",
        "outputId": "32675288-ac4e-49db-eff1-2b015add434b"
      },
      "execution_count": null,
      "outputs": [
        {
          "output_type": "error",
          "ename": "AttributeError",
          "evalue": "ignored",
          "traceback": [
            "\u001b[0;31m---------------------------------------------------------------------------\u001b[0m",
            "\u001b[0;31mAttributeError\u001b[0m                            Traceback (most recent call last)",
            "\u001b[0;32m<ipython-input-83-e16cf4402f25>\u001b[0m in \u001b[0;36m<module>\u001b[0;34m()\u001b[0m\n\u001b[0;32m----> 1\u001b[0;31m \u001b[0ma\u001b[0m\u001b[0;34m.\u001b[0m\u001b[0mremove\u001b[0m\u001b[0;34m(\u001b[0m\u001b[0;36m2\u001b[0m\u001b[0;34m)\u001b[0m\u001b[0;34m\u001b[0m\u001b[0;34m\u001b[0m\u001b[0m\n\u001b[0m",
            "\u001b[0;31mAttributeError\u001b[0m: 'frozenset' object has no attribute 'remove'"
          ]
        }
      ]
    },
    {
      "cell_type": "markdown",
      "source": [
        "**Strings**"
      ],
      "metadata": {
        "id": "PbY6GnxkgciN"
      }
    },
    {
      "cell_type": "markdown",
      "source": [
        "\n",
        "\n",
        "*   Ordered\n",
        "   \n",
        "*   Immutable\n",
        "\n",
        "*   Text representation"
      ],
      "metadata": {
        "id": "JY7J3WhDhBat"
      }
    },
    {
      "cell_type": "code",
      "source": [
        "my_string=\"Hello\"\n",
        "print(my_string)"
      ],
      "metadata": {
        "colab": {
          "base_uri": "https://localhost:8080/"
        },
        "id": "2jTndCD7geHD",
        "outputId": "f21e4508-13a2-42eb-f20f-e9d4ba4d0761"
      },
      "execution_count": null,
      "outputs": [
        {
          "output_type": "stream",
          "name": "stdout",
          "text": [
            "Hello\n"
          ]
        }
      ]
    },
    {
      "cell_type": "code",
      "source": [
        "my_str = 'He\\'s a boy'\n",
        "print(my_str)"
      ],
      "metadata": {
        "colab": {
          "base_uri": "https://localhost:8080/"
        },
        "id": "R1Otp-j5hZLk",
        "outputId": "ae451f08-da8a-497e-f05e-92979c3cd1a1"
      },
      "execution_count": null,
      "outputs": [
        {
          "output_type": "stream",
          "name": "stdout",
          "text": [
            "He's a boy\n"
          ]
        }
      ]
    },
    {
      "cell_type": "code",
      "source": [
        "my_str = '''hello \\\n",
        "hi'''\n",
        "print(my_str)"
      ],
      "metadata": {
        "colab": {
          "base_uri": "https://localhost:8080/"
        },
        "id": "TN0_TUtQhZfn",
        "outputId": "0a2ecfbb-5502-40fc-8f35-a13cac5ddbda"
      },
      "execution_count": null,
      "outputs": [
        {
          "output_type": "stream",
          "name": "stdout",
          "text": [
            "hello hi\n"
          ]
        }
      ]
    },
    {
      "cell_type": "code",
      "source": [
        "my_string = \"hello hi\"\n",
        "print(my_string[-1])"
      ],
      "metadata": {
        "colab": {
          "base_uri": "https://localhost:8080/"
        },
        "id": "-n_NTDj6hZk5",
        "outputId": "0becd612-e304-4cfb-9ff4-c7924c34fa13"
      },
      "execution_count": null,
      "outputs": [
        {
          "output_type": "stream",
          "name": "stdout",
          "text": [
            "i\n"
          ]
        }
      ]
    },
    {
      "cell_type": "code",
      "source": [
        "print(my_string[2:5])"
      ],
      "metadata": {
        "colab": {
          "base_uri": "https://localhost:8080/"
        },
        "id": "kjbEwCzahZoJ",
        "outputId": "077f4cfe-aae5-4907-ec70-979059b26e4d"
      },
      "execution_count": null,
      "outputs": [
        {
          "output_type": "stream",
          "name": "stdout",
          "text": [
            "llo\n"
          ]
        }
      ]
    },
    {
      "cell_type": "code",
      "source": [
        "print(my_string[::-1])"
      ],
      "metadata": {
        "colab": {
          "base_uri": "https://localhost:8080/"
        },
        "id": "LXcxDUUMhZqn",
        "outputId": "9bf013c3-f787-4ecb-8e1a-c080e65f883a"
      },
      "execution_count": null,
      "outputs": [
        {
          "output_type": "stream",
          "name": "stdout",
          "text": [
            "ih olleh\n"
          ]
        }
      ]
    },
    {
      "cell_type": "code",
      "source": [
        "my_string1 = \"Tom\"\n",
        "print(my_string+\" \"+my_string1)"
      ],
      "metadata": {
        "colab": {
          "base_uri": "https://localhost:8080/"
        },
        "id": "KVZt2i_ohZtU",
        "outputId": "0dcaee4a-e11c-4e78-8a82-e8d77eac5a60"
      },
      "execution_count": null,
      "outputs": [
        {
          "output_type": "stream",
          "name": "stdout",
          "text": [
            "hello hi Tom\n"
          ]
        }
      ]
    },
    {
      "cell_type": "code",
      "source": [
        "for i in my_string:\n",
        "  print(i)"
      ],
      "metadata": {
        "colab": {
          "base_uri": "https://localhost:8080/"
        },
        "id": "QHZNLpqMhZv6",
        "outputId": "28177e9d-ed32-47a5-dcbf-3b8413d3f0c4"
      },
      "execution_count": null,
      "outputs": [
        {
          "output_type": "stream",
          "name": "stdout",
          "text": [
            "h\n",
            "e\n",
            "l\n",
            "l\n",
            "o\n",
            " \n",
            "h\n",
            "i\n"
          ]
        }
      ]
    },
    {
      "cell_type": "code",
      "source": [
        "if \"o\" in my_string:\n",
        "  print(\"Yes\")"
      ],
      "metadata": {
        "colab": {
          "base_uri": "https://localhost:8080/"
        },
        "id": "QQh22rLdjcaW",
        "outputId": "e7dfa236-889a-43fa-9955-10b9ffe43d8b"
      },
      "execution_count": null,
      "outputs": [
        {
          "output_type": "stream",
          "name": "stdout",
          "text": [
            "Yes\n"
          ]
        }
      ]
    },
    {
      "cell_type": "code",
      "source": [
        "my_string = '   HelloHI    '\n",
        "print(my_string)"
      ],
      "metadata": {
        "colab": {
          "base_uri": "https://localhost:8080/"
        },
        "id": "wyU112jyjcdY",
        "outputId": "400a6e9b-7927-44a5-ae9e-c4166909e2d3"
      },
      "execution_count": null,
      "outputs": [
        {
          "output_type": "stream",
          "name": "stdout",
          "text": [
            "   HelloHI    \n"
          ]
        }
      ]
    },
    {
      "cell_type": "code",
      "source": [
        "my_string = my_string.strip()\n",
        "print(my_string)"
      ],
      "metadata": {
        "colab": {
          "base_uri": "https://localhost:8080/"
        },
        "id": "Z97iljmajlJf",
        "outputId": "19fcd445-dc24-46cd-8ee7-75187be39c33"
      },
      "execution_count": null,
      "outputs": [
        {
          "output_type": "stream",
          "name": "stdout",
          "text": [
            "HelloHI\n"
          ]
        }
      ]
    },
    {
      "cell_type": "code",
      "source": [
        "print(my_string.upper())"
      ],
      "metadata": {
        "colab": {
          "base_uri": "https://localhost:8080/"
        },
        "id": "4xZgTGIJjlMQ",
        "outputId": "1307014f-13d7-4ad7-f069-9621fa600196"
      },
      "execution_count": null,
      "outputs": [
        {
          "output_type": "stream",
          "name": "stdout",
          "text": [
            "HELLOHI\n"
          ]
        }
      ]
    },
    {
      "cell_type": "code",
      "source": [
        "print(my_string.startswith('H'))"
      ],
      "metadata": {
        "colab": {
          "base_uri": "https://localhost:8080/"
        },
        "id": "S7j_ukFejlPI",
        "outputId": "ba912646-6590-4876-a5cb-741486195e6c"
      },
      "execution_count": null,
      "outputs": [
        {
          "output_type": "stream",
          "name": "stdout",
          "text": [
            "True\n"
          ]
        }
      ]
    },
    {
      "cell_type": "code",
      "source": [
        "print(my_string.endswith('o'))"
      ],
      "metadata": {
        "colab": {
          "base_uri": "https://localhost:8080/"
        },
        "id": "odSc25crjcgR",
        "outputId": "6ba5ed36-7836-47f6-a1da-17775cea396a"
      },
      "execution_count": null,
      "outputs": [
        {
          "output_type": "stream",
          "name": "stdout",
          "text": [
            "False\n"
          ]
        }
      ]
    },
    {
      "cell_type": "code",
      "source": [
        "print(my_string.find('o'))"
      ],
      "metadata": {
        "colab": {
          "base_uri": "https://localhost:8080/"
        },
        "id": "vorW_ujFkTcX",
        "outputId": "b972043a-53b9-4535-ab8c-c6b0a9082dba"
      },
      "execution_count": null,
      "outputs": [
        {
          "output_type": "stream",
          "name": "stdout",
          "text": [
            "4\n"
          ]
        }
      ]
    },
    {
      "cell_type": "code",
      "source": [
        "print(my_string.count('l'))"
      ],
      "metadata": {
        "colab": {
          "base_uri": "https://localhost:8080/"
        },
        "id": "UMRA50VEkTep",
        "outputId": "9dc749e8-036d-4c0b-ec01-726729ed1176"
      },
      "execution_count": null,
      "outputs": [
        {
          "output_type": "stream",
          "name": "stdout",
          "text": [
            "2\n"
          ]
        }
      ]
    },
    {
      "cell_type": "code",
      "source": [
        "print(my_string.replace('HI','world'))"
      ],
      "metadata": {
        "colab": {
          "base_uri": "https://localhost:8080/"
        },
        "id": "oinnWdSwkdVd",
        "outputId": "b0a5cca1-d0b3-4e99-ff08-5cc8e5b19f70"
      },
      "execution_count": null,
      "outputs": [
        {
          "output_type": "stream",
          "name": "stdout",
          "text": [
            "Helloworld\n"
          ]
        }
      ]
    },
    {
      "cell_type": "code",
      "source": [
        "my_string = \"How are you doing\"\n",
        "lst = my_string.split()\n",
        "new_str = ' '.join(lst)\n",
        "print(lst)\n",
        "print(new_str)"
      ],
      "metadata": {
        "colab": {
          "base_uri": "https://localhost:8080/"
        },
        "id": "njtzWWL5kdYf",
        "outputId": "8909d84d-4f95-4e5f-8612-81f7250b753c"
      },
      "execution_count": null,
      "outputs": [
        {
          "output_type": "stream",
          "name": "stdout",
          "text": [
            "['How', 'are', 'you', 'doing']\n",
            "How are you doing\n"
          ]
        }
      ]
    },
    {
      "cell_type": "code",
      "source": [
        "my_st = ['a']*6\n",
        "print(my_st)"
      ],
      "metadata": {
        "colab": {
          "base_uri": "https://localhost:8080/"
        },
        "id": "50iGpV-pkdax",
        "outputId": "0fdfabed-3f24-4ff8-ce0d-47d52e460632"
      },
      "execution_count": null,
      "outputs": [
        {
          "output_type": "stream",
          "name": "stdout",
          "text": [
            "['a', 'a', 'a', 'a', 'a', 'a']\n"
          ]
        }
      ]
    },
    {
      "cell_type": "code",
      "source": [
        "my_strg = ''\n",
        "for i in my_st:\n",
        "  my_strg = ''.join(my_st)\n",
        "print(my_strg)"
      ],
      "metadata": {
        "colab": {
          "base_uri": "https://localhost:8080/"
        },
        "id": "sqvprOl7kTg7",
        "outputId": "9a7c2cc2-be5f-427d-9ee9-205a7fbf1886"
      },
      "execution_count": null,
      "outputs": [
        {
          "output_type": "stream",
          "name": "stdout",
          "text": [
            "aaaaaa\n"
          ]
        }
      ]
    },
    {
      "cell_type": "code",
      "source": [
        "var = \"Tom\"\n",
        "my_st = \"the variable is %s\" %var\n",
        "print(my_st)"
      ],
      "metadata": {
        "colab": {
          "base_uri": "https://localhost:8080/"
        },
        "id": "6ZLPLbFwmUHz",
        "outputId": "f896213a-41ff-40cf-cfac-4eba38d21914"
      },
      "execution_count": null,
      "outputs": [
        {
          "output_type": "stream",
          "name": "stdout",
          "text": [
            "the variable is Tom\n"
          ]
        }
      ]
    },
    {
      "cell_type": "code",
      "source": [
        "var = 3\n",
        "my_st = \"the variable is %.3f\" %var\n",
        "print(my_st)"
      ],
      "metadata": {
        "colab": {
          "base_uri": "https://localhost:8080/"
        },
        "id": "ZT6P90wJmUS6",
        "outputId": "3ace83bb-6ba1-4218-be71-0bc6038cb8d0"
      },
      "execution_count": null,
      "outputs": [
        {
          "output_type": "stream",
          "name": "stdout",
          "text": [
            "the variable is 3.000\n"
          ]
        }
      ]
    },
    {
      "cell_type": "code",
      "source": [
        "var = 5\n",
        "my_st = \"the var is {}\".format(var)\n",
        "print(my_st)"
      ],
      "metadata": {
        "colab": {
          "base_uri": "https://localhost:8080/"
        },
        "id": "6I0jZeF7mrDB",
        "outputId": "cbf75303-d3de-464b-801e-88ea00caae9b"
      },
      "execution_count": null,
      "outputs": [
        {
          "output_type": "stream",
          "name": "stdout",
          "text": [
            "the var is 5\n"
          ]
        }
      ]
    },
    {
      "cell_type": "code",
      "source": [
        "var = 6\n",
        "my_st = f\"the var is {var}\"\n",
        "print(my_st)"
      ],
      "metadata": {
        "colab": {
          "base_uri": "https://localhost:8080/"
        },
        "id": "On8KWQtrm9l8",
        "outputId": "e6abff9b-a5c6-412e-ac39-549f6b527e82"
      },
      "execution_count": null,
      "outputs": [
        {
          "output_type": "stream",
          "name": "stdout",
          "text": [
            "the var is 6\n"
          ]
        }
      ]
    },
    {
      "cell_type": "markdown",
      "source": [
        "**Collections**"
      ],
      "metadata": {
        "id": "v58FmDUMnjXY"
      }
    },
    {
      "cell_type": "markdown",
      "source": [
        "\n",
        "\n",
        "*   Counter\n",
        "*   NamedTuple\n",
        "*   OrderedDict\n",
        "*   DefaultDict\n",
        "*   Deque\n",
        "\n",
        "\n",
        "\n",
        "\n",
        "\n"
      ],
      "metadata": {
        "id": "rhOs_RFYogZq"
      }
    },
    {
      "cell_type": "code",
      "source": [
        "from collections import Counter"
      ],
      "metadata": {
        "id": "GyieSL9Hnk-o"
      },
      "execution_count": null,
      "outputs": []
    },
    {
      "cell_type": "code",
      "source": [
        "a = \"aaaabbbbccc\"\n",
        "my_counter = Counter(a)\n",
        "print(my_counter)\n",
        "print(my_counter.items())\n",
        "print(my_counter.keys())\n",
        "print(my_counter.most_common(1))\n",
        "print(my_counter.most_common(1)[0][0])"
      ],
      "metadata": {
        "colab": {
          "base_uri": "https://localhost:8080/"
        },
        "id": "MMBNVojYnlB-",
        "outputId": "24e72f30-b206-4361-9c93-5f5c0fc79ad7"
      },
      "execution_count": null,
      "outputs": [
        {
          "output_type": "stream",
          "name": "stdout",
          "text": [
            "Counter({'a': 4, 'b': 4, 'c': 3})\n",
            "dict_items([('a', 4), ('b', 4), ('c', 3)])\n",
            "dict_keys(['a', 'b', 'c'])\n",
            "[('a', 4)]\n",
            "a\n"
          ]
        }
      ]
    },
    {
      "cell_type": "code",
      "source": [
        "print(my_counter.elements())\n",
        "print(list(my_counter.elements()))"
      ],
      "metadata": {
        "colab": {
          "base_uri": "https://localhost:8080/"
        },
        "id": "D2OynfImbKRi",
        "outputId": "32d11128-58dd-4cb0-bee3-e9ea6c2a19bb"
      },
      "execution_count": null,
      "outputs": [
        {
          "output_type": "stream",
          "name": "stdout",
          "text": [
            "<itertools.chain object at 0x7fae5600c490>\n",
            "['a', 'a', 'a', 'a', 'b', 'b', 'b', 'b', 'c', 'c', 'c']\n"
          ]
        }
      ]
    },
    {
      "cell_type": "markdown",
      "source": [
        "NamedTuple"
      ],
      "metadata": {
        "id": "RKTmMrUgcC8c"
      }
    },
    {
      "cell_type": "code",
      "source": [
        "from collections import namedtuple"
      ],
      "metadata": {
        "id": "40gpkwGyozav"
      },
      "execution_count": null,
      "outputs": []
    },
    {
      "cell_type": "code",
      "source": [
        "Point = namedtuple('Point','x,y')\n",
        "pt = Point(1,-4)\n",
        "print(pt)\n",
        "print(pt.x,pt.y)"
      ],
      "metadata": {
        "colab": {
          "base_uri": "https://localhost:8080/"
        },
        "id": "yw5JQdSEcA8r",
        "outputId": "e8459a5d-4ecc-4f40-f19b-fb2118830a4b"
      },
      "execution_count": null,
      "outputs": [
        {
          "output_type": "stream",
          "name": "stdout",
          "text": [
            "Point(x=1, y=-4)\n",
            "1 -4\n"
          ]
        }
      ]
    },
    {
      "cell_type": "markdown",
      "source": [
        "**OrderedDict**"
      ],
      "metadata": {
        "id": "9X6flDnueEpy"
      }
    },
    {
      "cell_type": "code",
      "source": [
        "from collections import OrderedDict"
      ],
      "metadata": {
        "id": "FzqI2Y_HcBG9"
      },
      "execution_count": null,
      "outputs": []
    },
    {
      "cell_type": "code",
      "source": [
        "ordereddict = OrderedDict()\n",
        "ordereddict['f'] = 5\n",
        "ordereddict['a'] = 1\n",
        "ordereddict['b'] = 2\n",
        "ordereddict['c'] = 3\n",
        "ordereddict['d'] = 4\n",
        "print(ordereddict)"
      ],
      "metadata": {
        "colab": {
          "base_uri": "https://localhost:8080/"
        },
        "id": "Zu23K83IcBKT",
        "outputId": "c13f5a42-3ce5-49fb-97d3-08dcfa781810"
      },
      "execution_count": null,
      "outputs": [
        {
          "output_type": "stream",
          "name": "stdout",
          "text": [
            "OrderedDict([('f', 5), ('a', 1), ('b', 2), ('c', 3), ('d', 4)])\n"
          ]
        }
      ]
    },
    {
      "cell_type": "code",
      "source": [
        "ordereddict = {}\n",
        "ordereddict['f'] = 5\n",
        "ordereddict['a'] = 1\n",
        "ordereddict['b'] = 2\n",
        "ordereddict['c'] = 3\n",
        "ordereddict['d'] = 4\n",
        "print(ordereddict)"
      ],
      "metadata": {
        "colab": {
          "base_uri": "https://localhost:8080/"
        },
        "id": "Bf5xGx1NcBN4",
        "outputId": "a2a62a5a-7589-4290-e9fb-de9b64aa5d7e"
      },
      "execution_count": null,
      "outputs": [
        {
          "output_type": "stream",
          "name": "stdout",
          "text": [
            "{'f': 5, 'a': 1, 'b': 2, 'c': 3, 'd': 4}\n"
          ]
        }
      ]
    },
    {
      "cell_type": "markdown",
      "source": [
        "**DefaultDict**"
      ],
      "metadata": {
        "id": "CjwlH7m0fG-1"
      }
    },
    {
      "cell_type": "code",
      "source": [
        "from collections import defaultdict"
      ],
      "metadata": {
        "id": "p4T1tcJbcBRl"
      },
      "execution_count": null,
      "outputs": []
    },
    {
      "cell_type": "code",
      "source": [
        "d = defaultdict(int)\n",
        "d['a'] = 1\n",
        "d['b'] = 2\n",
        "print(d['a'])\n",
        "print(d['c'])\n"
      ],
      "metadata": {
        "colab": {
          "base_uri": "https://localhost:8080/"
        },
        "id": "WFrdO7SbcBWQ",
        "outputId": "f3960a19-5952-4720-93fd-3f721d889d45"
      },
      "execution_count": null,
      "outputs": [
        {
          "output_type": "stream",
          "name": "stdout",
          "text": [
            "1\n",
            "0\n"
          ]
        }
      ]
    },
    {
      "cell_type": "code",
      "source": [
        "d = defaultdict(float)\n",
        "d['a'] = 1\n",
        "d['b'] = 2\n",
        "print(d['a'])\n",
        "print(d['c'])"
      ],
      "metadata": {
        "id": "etpfOvSlozds",
        "colab": {
          "base_uri": "https://localhost:8080/"
        },
        "outputId": "05dc539b-4ff3-4d38-eccc-413008c01fa9"
      },
      "execution_count": null,
      "outputs": [
        {
          "output_type": "stream",
          "name": "stdout",
          "text": [
            "1\n",
            "0.0\n"
          ]
        }
      ]
    },
    {
      "cell_type": "markdown",
      "source": [
        "**Deque**"
      ],
      "metadata": {
        "id": "pd7vXFgMfxUc"
      }
    },
    {
      "cell_type": "code",
      "source": [
        "from collections import deque"
      ],
      "metadata": {
        "id": "UYlFRuqSozgc"
      },
      "execution_count": null,
      "outputs": []
    },
    {
      "cell_type": "code",
      "source": [
        "d = deque()\n",
        "d.append(1)\n",
        "d.append(2)\n",
        "print(d)"
      ],
      "metadata": {
        "id": "DIoAk9WhnlFr",
        "colab": {
          "base_uri": "https://localhost:8080/"
        },
        "outputId": "10ddcad6-880b-4267-d162-c81a4f01ef95"
      },
      "execution_count": null,
      "outputs": [
        {
          "output_type": "stream",
          "name": "stdout",
          "text": [
            "deque([1, 2])\n"
          ]
        }
      ]
    },
    {
      "cell_type": "code",
      "source": [
        "d.appendleft(4)\n",
        "print(d)"
      ],
      "metadata": {
        "id": "prC3JbLxnlIz",
        "colab": {
          "base_uri": "https://localhost:8080/"
        },
        "outputId": "37f30fb7-a834-4867-c2bd-cba7f546951e"
      },
      "execution_count": null,
      "outputs": [
        {
          "output_type": "stream",
          "name": "stdout",
          "text": [
            "deque([4, 1, 2])\n"
          ]
        }
      ]
    },
    {
      "cell_type": "code",
      "source": [
        "d.pop()"
      ],
      "metadata": {
        "colab": {
          "base_uri": "https://localhost:8080/"
        },
        "id": "wnXHq85WgOIX",
        "outputId": "dcf91bca-f8ed-407e-e1cd-f85c6ad177aa"
      },
      "execution_count": null,
      "outputs": [
        {
          "output_type": "execute_result",
          "data": {
            "text/plain": [
              "2"
            ]
          },
          "metadata": {},
          "execution_count": 30
        }
      ]
    },
    {
      "cell_type": "code",
      "source": [
        "print(d)"
      ],
      "metadata": {
        "colab": {
          "base_uri": "https://localhost:8080/"
        },
        "id": "OwdFxrwGgRoG",
        "outputId": "db5c91d3-fd9f-4f70-e8a8-147b39cb3cc0"
      },
      "execution_count": null,
      "outputs": [
        {
          "output_type": "stream",
          "name": "stdout",
          "text": [
            "deque([4, 1])\n"
          ]
        }
      ]
    },
    {
      "cell_type": "code",
      "source": [
        "d.popleft()\n",
        "print(d)"
      ],
      "metadata": {
        "colab": {
          "base_uri": "https://localhost:8080/"
        },
        "id": "iUImxIyXgR_j",
        "outputId": "e40293c2-5d98-42f1-db57-7292a80ee911"
      },
      "execution_count": null,
      "outputs": [
        {
          "output_type": "stream",
          "name": "stdout",
          "text": [
            "deque([1])\n"
          ]
        }
      ]
    },
    {
      "cell_type": "code",
      "source": [
        "d.clear()\n",
        "print(d)"
      ],
      "metadata": {
        "colab": {
          "base_uri": "https://localhost:8080/"
        },
        "id": "zFgxz3_6gSCq",
        "outputId": "740b871e-9c19-4ae5-bb51-a2f2df5289fe"
      },
      "execution_count": null,
      "outputs": [
        {
          "output_type": "stream",
          "name": "stdout",
          "text": [
            "deque([])\n"
          ]
        }
      ]
    },
    {
      "cell_type": "code",
      "source": [
        "d.extend([4,5,6])\n",
        "print(d)"
      ],
      "metadata": {
        "colab": {
          "base_uri": "https://localhost:8080/"
        },
        "id": "UchHgogfgZWM",
        "outputId": "3a42042d-14f1-4924-97e5-fcb35885cba1"
      },
      "execution_count": null,
      "outputs": [
        {
          "output_type": "stream",
          "name": "stdout",
          "text": [
            "deque([4, 5, 6])\n"
          ]
        }
      ]
    },
    {
      "cell_type": "code",
      "source": [
        "d.extendleft([7,8,9])\n",
        "print(d)"
      ],
      "metadata": {
        "colab": {
          "base_uri": "https://localhost:8080/"
        },
        "id": "txElpdF-gZZL",
        "outputId": "5d07f5a7-3438-476f-a9b0-03413d42c93d"
      },
      "execution_count": null,
      "outputs": [
        {
          "output_type": "stream",
          "name": "stdout",
          "text": [
            "deque([9, 8, 7, 4, 5, 6])\n"
          ]
        }
      ]
    },
    {
      "cell_type": "code",
      "source": [
        "d.rotate(1)\n",
        "print(d)"
      ],
      "metadata": {
        "colab": {
          "base_uri": "https://localhost:8080/"
        },
        "id": "Bwv0pvWxgZcf",
        "outputId": "82fba521-8b62-4f85-ef08-c7437bb687d9"
      },
      "execution_count": null,
      "outputs": [
        {
          "output_type": "stream",
          "name": "stdout",
          "text": [
            "deque([6, 9, 8, 7, 4, 5])\n"
          ]
        }
      ]
    },
    {
      "cell_type": "code",
      "source": [
        "d.rotate(-1)\n",
        "print(d)"
      ],
      "metadata": {
        "colab": {
          "base_uri": "https://localhost:8080/"
        },
        "id": "Ky_G3ffqgqWk",
        "outputId": "99e5410e-5249-42c0-edfc-1e6b5ac4797a"
      },
      "execution_count": null,
      "outputs": [
        {
          "output_type": "stream",
          "name": "stdout",
          "text": [
            "deque([9, 8, 7, 4, 5, 6])\n"
          ]
        }
      ]
    },
    {
      "cell_type": "markdown",
      "source": [
        "**Itertools**"
      ],
      "metadata": {
        "id": "2oUjm4aTgxg7"
      }
    },
    {
      "cell_type": "markdown",
      "source": [
        "\n",
        "*   product\n",
        "*   permutations\n",
        "*   combinations\n",
        "*   accumlate\n",
        "*   groupby\n",
        "*  infinite iterators\n",
        "\n",
        "\n",
        "\n"
      ],
      "metadata": {
        "id": "3KAs8NPFhMZM"
      }
    },
    {
      "cell_type": "markdown",
      "source": [
        "**product**"
      ],
      "metadata": {
        "id": "0xOZNlr_h7ps"
      }
    },
    {
      "cell_type": "code",
      "source": [
        "from itertools import product"
      ],
      "metadata": {
        "id": "ChHmaYvJgqec"
      },
      "execution_count": null,
      "outputs": []
    },
    {
      "cell_type": "code",
      "source": [
        "a = [1,2]\n",
        "b = [3,4]\n",
        "prod = product(a,b)\n",
        "print(prod)\n",
        "print(list(prod))"
      ],
      "metadata": {
        "colab": {
          "base_uri": "https://localhost:8080/"
        },
        "id": "uRrRf_3QhtJi",
        "outputId": "85053465-bb6f-4398-f037-951400e91bf1"
      },
      "execution_count": null,
      "outputs": [
        {
          "output_type": "stream",
          "name": "stdout",
          "text": [
            "<itertools.product object at 0x7fae55f463c0>\n",
            "[(1, 3), (1, 4), (2, 3), (2, 4)]\n"
          ]
        }
      ]
    },
    {
      "cell_type": "code",
      "source": [
        "a = [4,5]\n",
        "b = [6]\n",
        "prod = product(a,b,repeat=2)\n",
        "print(list(prod))"
      ],
      "metadata": {
        "colab": {
          "base_uri": "https://localhost:8080/"
        },
        "id": "LE7qBi2Shcyf",
        "outputId": "5df79742-44ad-48ca-f5e3-f3c5c9c94d35"
      },
      "execution_count": null,
      "outputs": [
        {
          "output_type": "stream",
          "name": "stdout",
          "text": [
            "[(4, 6, 4, 6), (4, 6, 5, 6), (5, 6, 4, 6), (5, 6, 5, 6)]\n"
          ]
        }
      ]
    },
    {
      "cell_type": "markdown",
      "source": [
        "**Permutations**"
      ],
      "metadata": {
        "id": "kQiGsjrZiUeV"
      }
    },
    {
      "cell_type": "code",
      "source": [
        "from itertools import permutations"
      ],
      "metadata": {
        "id": "AdyT541Yhc12"
      },
      "execution_count": null,
      "outputs": []
    },
    {
      "cell_type": "code",
      "source": [
        "a = [1,2,3]\n",
        "per = permutations(a)\n",
        "print(list(per))"
      ],
      "metadata": {
        "colab": {
          "base_uri": "https://localhost:8080/"
        },
        "id": "-I08ZtmMhc88",
        "outputId": "b960d5eb-174c-401b-bc9a-60b9801cab60"
      },
      "execution_count": null,
      "outputs": [
        {
          "output_type": "stream",
          "name": "stdout",
          "text": [
            "[(1, 2, 3), (1, 3, 2), (2, 1, 3), (2, 3, 1), (3, 1, 2), (3, 2, 1)]\n"
          ]
        }
      ]
    },
    {
      "cell_type": "code",
      "source": [
        "a = [1,2,3]\n",
        "per = permutations(a,2)\n",
        "print(list(per))"
      ],
      "metadata": {
        "colab": {
          "base_uri": "https://localhost:8080/"
        },
        "id": "th7Z_vkthc_6",
        "outputId": "7f207593-0985-4fdb-94c5-8e209d3b0702"
      },
      "execution_count": null,
      "outputs": [
        {
          "output_type": "stream",
          "name": "stdout",
          "text": [
            "[(1, 2), (1, 3), (2, 1), (2, 3), (3, 1), (3, 2)]\n"
          ]
        }
      ]
    },
    {
      "cell_type": "markdown",
      "source": [
        "**Combinations**"
      ],
      "metadata": {
        "id": "J8mwQHM-i7XZ"
      }
    },
    {
      "cell_type": "code",
      "source": [
        "from itertools import combinations"
      ],
      "metadata": {
        "id": "0qQdgOsugZfv"
      },
      "execution_count": null,
      "outputs": []
    },
    {
      "cell_type": "code",
      "source": [
        "a = [1,2,3,4,5]\n",
        "com = combinations(a,2)\n",
        "print(list(com))\n"
      ],
      "metadata": {
        "colab": {
          "base_uri": "https://localhost:8080/"
        },
        "id": "zLmVDQ7ZjC3q",
        "outputId": "cbf9a2b8-18d5-45f3-cd63-2f34dd5693be"
      },
      "execution_count": null,
      "outputs": [
        {
          "output_type": "stream",
          "name": "stdout",
          "text": [
            "[(1, 2), (1, 3), (1, 4), (1, 5), (2, 3), (2, 4), (2, 5), (3, 4), (3, 5), (4, 5)]\n"
          ]
        }
      ]
    },
    {
      "cell_type": "code",
      "source": [
        "from itertools import combinations_with_replacement\n",
        "\n",
        "a = [1,2,3,4,5]\n",
        "com = combinations_with_replacement(a,2)\n",
        "print(list(com))"
      ],
      "metadata": {
        "colab": {
          "base_uri": "https://localhost:8080/"
        },
        "id": "JiXMuGaxjDCg",
        "outputId": "11852e3f-b6ed-4ed8-ae4a-1b3a03fa5c6e"
      },
      "execution_count": null,
      "outputs": [
        {
          "output_type": "stream",
          "name": "stdout",
          "text": [
            "[(1, 1), (1, 2), (1, 3), (1, 4), (1, 5), (2, 2), (2, 3), (2, 4), (2, 5), (3, 3), (3, 4), (3, 5), (4, 4), (4, 5), (5, 5)]\n"
          ]
        }
      ]
    },
    {
      "cell_type": "markdown",
      "source": [
        "**Accumulate**"
      ],
      "metadata": {
        "id": "-iTnaHnUkHyq"
      }
    },
    {
      "cell_type": "code",
      "source": [
        "from itertools import accumulate"
      ],
      "metadata": {
        "id": "lQBCrwcKjVoE"
      },
      "execution_count": null,
      "outputs": []
    },
    {
      "cell_type": "code",
      "source": [
        "a = [1,2,3,4]\n",
        "acc = accumulate(a)\n",
        "print(a)\n",
        "print(list(acc))\n"
      ],
      "metadata": {
        "colab": {
          "base_uri": "https://localhost:8080/"
        },
        "id": "z_k96FMSjVvh",
        "outputId": "7c7505df-8b1a-406e-a40b-2ee834c72ebe"
      },
      "execution_count": null,
      "outputs": [
        {
          "output_type": "stream",
          "name": "stdout",
          "text": [
            "[1, 2, 3, 4]\n",
            "[1, 3, 6, 10]\n"
          ]
        }
      ]
    },
    {
      "cell_type": "code",
      "source": [
        "import operator"
      ],
      "metadata": {
        "id": "PG8MRdCmjVzE"
      },
      "execution_count": null,
      "outputs": []
    },
    {
      "cell_type": "code",
      "source": [
        "a = [1,2,7,3,4]\n",
        "acc = accumulate(a,func=max)\n",
        "print(a)\n",
        "print(list(acc))"
      ],
      "metadata": {
        "colab": {
          "base_uri": "https://localhost:8080/"
        },
        "id": "zfApJrAglSKQ",
        "outputId": "4c67e2a8-fdf3-41f0-eaf8-2221a14d1ade"
      },
      "execution_count": null,
      "outputs": [
        {
          "output_type": "stream",
          "name": "stdout",
          "text": [
            "[1, 2, 7, 3, 4]\n",
            "[1, 2, 7, 7, 7]\n"
          ]
        }
      ]
    },
    {
      "cell_type": "markdown",
      "source": [
        "**GroupBy**"
      ],
      "metadata": {
        "id": "jJb3TUOXmkmm"
      }
    },
    {
      "cell_type": "code",
      "source": [
        "from itertools import groupby"
      ],
      "metadata": {
        "id": "weEugMutlva4"
      },
      "execution_count": null,
      "outputs": []
    },
    {
      "cell_type": "code",
      "source": [
        "def small(x):\n",
        "  return x <4\n",
        "\n",
        "a = [1,2,3,4]\n",
        "group_obj = groupby(a,key=small)\n",
        "for key,value in group_obj:\n",
        "    print(key,list(value))"
      ],
      "metadata": {
        "colab": {
          "base_uri": "https://localhost:8080/"
        },
        "id": "W7nT7xTJmrgK",
        "outputId": "1d5fee52-fc90-4f0e-e714-cfa1170dfe85"
      },
      "execution_count": null,
      "outputs": [
        {
          "output_type": "stream",
          "name": "stdout",
          "text": [
            "True [1, 2, 3]\n",
            "False [4]\n"
          ]
        }
      ]
    },
    {
      "cell_type": "code",
      "source": [
        "persons = [{'name':'Tim','age':25},{'name':'Tom','age':25},\n",
        "           {'name':'Max','age':24},{'name':'Min','age':30}]\n",
        "\n",
        "group_obj = groupby(persons,key=lambda x:x['age'])\n",
        "for key,value in group_obj:\n",
        "  print(key, list(value))\n",
        "  \n"
      ],
      "metadata": {
        "colab": {
          "base_uri": "https://localhost:8080/"
        },
        "id": "hQw919Ellvex",
        "outputId": "a1fa4414-3cc4-4e62-da95-631bff6d40f4"
      },
      "execution_count": null,
      "outputs": [
        {
          "output_type": "stream",
          "name": "stdout",
          "text": [
            "25 [{'name': 'Tim', 'age': 25}, {'name': 'Tom', 'age': 25}]\n",
            "24 [{'name': 'Max', 'age': 24}]\n",
            "30 [{'name': 'Min', 'age': 30}]\n"
          ]
        }
      ]
    },
    {
      "cell_type": "code",
      "source": [
        "from itertools import count,cycle,repeat"
      ],
      "metadata": {
        "id": "LDHu6B4ToDsG"
      },
      "execution_count": null,
      "outputs": []
    },
    {
      "cell_type": "code",
      "source": [
        "for i in count(10):\n",
        "  print(i)\n",
        "  if i == 12:\n",
        "    break"
      ],
      "metadata": {
        "colab": {
          "base_uri": "https://localhost:8080/"
        },
        "id": "G1Yrt_JvoDvg",
        "outputId": "5c8a76e7-37bd-43ad-ccea-ff6f30d3c43a"
      },
      "execution_count": null,
      "outputs": [
        {
          "output_type": "stream",
          "name": "stdout",
          "text": [
            "10\n",
            "11\n",
            "12\n"
          ]
        }
      ]
    },
    {
      "cell_type": "code",
      "source": [
        "a = [1,2,3]\n",
        "for i in cycle(a):\n",
        "  print(i)\n",
        "  if i == 2:\n",
        "    break"
      ],
      "metadata": {
        "colab": {
          "base_uri": "https://localhost:8080/"
        },
        "id": "nqU5t0QprUc3",
        "outputId": "38750d76-5b63-4ab2-da3a-32907f66f4cd"
      },
      "execution_count": null,
      "outputs": [
        {
          "output_type": "stream",
          "name": "stdout",
          "text": [
            "1\n",
            "2\n"
          ]
        }
      ]
    },
    {
      "cell_type": "code",
      "source": [
        "a = [1,2,3]\n",
        "for i in repeat(1,3):\n",
        "  print(i)"
      ],
      "metadata": {
        "colab": {
          "base_uri": "https://localhost:8080/"
        },
        "id": "N2MEcPxqr33L",
        "outputId": "8ca79954-2b00-404b-f045-496b1751441a"
      },
      "execution_count": null,
      "outputs": [
        {
          "output_type": "stream",
          "name": "stdout",
          "text": [
            "1\n",
            "1\n",
            "1\n"
          ]
        }
      ]
    },
    {
      "cell_type": "markdown",
      "source": [
        "**Lambda**"
      ],
      "metadata": {
        "id": "SGtPMzOcsC47"
      }
    },
    {
      "cell_type": "markdown",
      "source": [
        "It is an anonymous function.<br>\n",
        "lambda arguments:expression"
      ],
      "metadata": {
        "id": "9hKuzxEstvnI"
      }
    },
    {
      "cell_type": "code",
      "source": [
        "add10 = lambda x: x+15\n",
        "print(add10(10))"
      ],
      "metadata": {
        "colab": {
          "base_uri": "https://localhost:8080/"
        },
        "id": "N13H7z9IrUgm",
        "outputId": "be66da42-092f-44a2-ace6-970645cb5655"
      },
      "execution_count": null,
      "outputs": [
        {
          "output_type": "stream",
          "name": "stdout",
          "text": [
            "25\n"
          ]
        }
      ]
    },
    {
      "cell_type": "code",
      "source": [
        "def add10_func(x):\n",
        "  return x+10\n",
        "\n",
        "print(add10_func(15))"
      ],
      "metadata": {
        "colab": {
          "base_uri": "https://localhost:8080/"
        },
        "id": "dQPuluB3rUmN",
        "outputId": "a7794eeb-bf40-437f-d110-0383c69843de"
      },
      "execution_count": null,
      "outputs": [
        {
          "output_type": "stream",
          "name": "stdout",
          "text": [
            "25\n"
          ]
        }
      ]
    },
    {
      "cell_type": "code",
      "source": [
        "mult = lambda x,y:x*y\n",
        "print(mult(2,5))"
      ],
      "metadata": {
        "colab": {
          "base_uri": "https://localhost:8080/"
        },
        "id": "5KdDUVRplviO",
        "outputId": "12989eda-3778-4c18-def2-d2f5089470ab"
      },
      "execution_count": null,
      "outputs": [
        {
          "output_type": "stream",
          "name": "stdout",
          "text": [
            "10\n"
          ]
        }
      ]
    },
    {
      "cell_type": "markdown",
      "source": [
        ""
      ],
      "metadata": {
        "id": "-HclQ1NMu4Xv"
      }
    },
    {
      "cell_type": "code",
      "source": [
        "points = [(1,2),(17,8),(19,10),(3,4),(5,6)]\n",
        "points_sort = sorted(points)\n",
        "print(points)\n",
        "print(points_sort)"
      ],
      "metadata": {
        "colab": {
          "base_uri": "https://localhost:8080/"
        },
        "id": "PnBNSacxvWun",
        "outputId": "dc6c1103-d22a-46a5-ff3c-6b851244d2d7"
      },
      "execution_count": null,
      "outputs": [
        {
          "output_type": "stream",
          "name": "stdout",
          "text": [
            "[(1, 2), (17, 8), (19, 10), (3, 4), (5, 6)]\n",
            "[(1, 2), (3, 4), (5, 6), (17, 8), (19, 10)]\n"
          ]
        }
      ]
    },
    {
      "cell_type": "code",
      "source": [
        "points = [(1,2),(17,-1),(19,0),(3,4),(5,6)]\n",
        "points_sort = sorted(points, key=lambda x: x[1])\n",
        "print(points_sort)"
      ],
      "metadata": {
        "colab": {
          "base_uri": "https://localhost:8080/"
        },
        "id": "yWgBF-_SvwXM",
        "outputId": "c9f5949f-d316-442a-984e-2e7f2a42d734"
      },
      "execution_count": null,
      "outputs": [
        {
          "output_type": "stream",
          "name": "stdout",
          "text": [
            "[(17, -1), (19, 0), (1, 2), (3, 4), (5, 6)]\n"
          ]
        }
      ]
    },
    {
      "cell_type": "code",
      "source": [
        "def sort_by_y(x):\n",
        "    return x[1]\n",
        "\n",
        "points = [(1,2),(17,-1),(19,0),(3,4),(5,6)]\n",
        "points_sort = sorted(points, key=sort_by_y)\n",
        "print(points_sort)"
      ],
      "metadata": {
        "colab": {
          "base_uri": "https://localhost:8080/"
        },
        "id": "al0iTqEYwxzp",
        "outputId": "e99f3304-da02-4e18-d16e-b7b4a13deb44"
      },
      "execution_count": null,
      "outputs": [
        {
          "output_type": "stream",
          "name": "stdout",
          "text": [
            "[(17, -1), (19, 0), (1, 2), (3, 4), (5, 6)]\n"
          ]
        }
      ]
    },
    {
      "cell_type": "code",
      "source": [
        "points_sort = sorted(points,key=lambda x: x[0]+x[1])\n",
        "print(points_sort)"
      ],
      "metadata": {
        "colab": {
          "base_uri": "https://localhost:8080/"
        },
        "id": "_zKLBArsxHK0",
        "outputId": "b44375fc-8395-4a77-8285-e3b68fc27cdf"
      },
      "execution_count": null,
      "outputs": [
        {
          "output_type": "stream",
          "name": "stdout",
          "text": [
            "[(1, 2), (3, 4), (5, 6), (17, -1), (19, 0)]\n"
          ]
        }
      ]
    },
    {
      "cell_type": "markdown",
      "source": [
        "**Map function**"
      ],
      "metadata": {
        "id": "frBu1m8Yx3_E"
      }
    },
    {
      "cell_type": "code",
      "source": [
        "a = [1,2,3,4,5]\n",
        "b = map(lambda x:x*2,a)\n",
        "print(list(b))"
      ],
      "metadata": {
        "colab": {
          "base_uri": "https://localhost:8080/"
        },
        "id": "b1JIMlqexzCH",
        "outputId": "4fe17e21-0eec-4542-f171-a7823ad19938"
      },
      "execution_count": null,
      "outputs": [
        {
          "output_type": "stream",
          "name": "stdout",
          "text": [
            "[2, 4, 6, 8, 10]\n"
          ]
        }
      ]
    },
    {
      "cell_type": "code",
      "source": [
        "c = [x*2 for x in a] #list comprehension\n",
        "print(c)"
      ],
      "metadata": {
        "colab": {
          "base_uri": "https://localhost:8080/"
        },
        "id": "p42eBMFQyYI7",
        "outputId": "bf661f37-a5d3-402b-e6a1-de04890be916"
      },
      "execution_count": null,
      "outputs": [
        {
          "output_type": "stream",
          "name": "stdout",
          "text": [
            "[2, 4, 6, 8, 10]\n"
          ]
        }
      ]
    },
    {
      "cell_type": "markdown",
      "source": [
        "**Filter**"
      ],
      "metadata": {
        "id": "Z_1XFXszz3XF"
      }
    },
    {
      "cell_type": "code",
      "source": [
        "a = [1,2,3,4,5,6,7,8]\n",
        "b = filter(lambda x:x%2==0,a)\n",
        "print(list(b))"
      ],
      "metadata": {
        "colab": {
          "base_uri": "https://localhost:8080/"
        },
        "id": "dyOPMdimyYTI",
        "outputId": "81d4cc3a-9b58-4388-f5b8-b6888bf66b63"
      },
      "execution_count": null,
      "outputs": [
        {
          "output_type": "stream",
          "name": "stdout",
          "text": [
            "[2, 4, 6, 8]\n"
          ]
        }
      ]
    },
    {
      "cell_type": "code",
      "source": [
        "c = [ x for x in a if x%2==0]\n",
        "print(c)"
      ],
      "metadata": {
        "colab": {
          "base_uri": "https://localhost:8080/"
        },
        "id": "8XwmrcQFyYXR",
        "outputId": "7ddcb8d8-893d-494e-9ce5-158e097f4d3c"
      },
      "execution_count": null,
      "outputs": [
        {
          "output_type": "stream",
          "name": "stdout",
          "text": [
            "[2, 4, 6, 8]\n"
          ]
        }
      ]
    },
    {
      "cell_type": "markdown",
      "source": [
        "**Reduce**"
      ],
      "metadata": {
        "id": "yeR-7loDz49N"
      }
    },
    {
      "cell_type": "code",
      "source": [
        "from functools import reduce"
      ],
      "metadata": {
        "id": "XbYRgN4Iz-gH"
      },
      "execution_count": null,
      "outputs": []
    },
    {
      "cell_type": "code",
      "source": [
        "a = [1,2,3,4,5,6]\n",
        "prod_a = reduce(lambda x,y:x*y,a)\n",
        "print(prod_a)\n"
      ],
      "metadata": {
        "colab": {
          "base_uri": "https://localhost:8080/"
        },
        "id": "BX1esTqIyYbS",
        "outputId": "90f14320-39ee-4cbd-ad08-be81acd72b5a"
      },
      "execution_count": null,
      "outputs": [
        {
          "output_type": "stream",
          "name": "stdout",
          "text": [
            "720\n"
          ]
        }
      ]
    },
    {
      "cell_type": "markdown",
      "source": [
        "**Exceptions**"
      ],
      "metadata": {
        "id": "CgtT-7Zz0S4Q"
      }
    },
    {
      "cell_type": "markdown",
      "source": [
        "Syntax and exceptions"
      ],
      "metadata": {
        "id": "ZhcCavZe4Yjm"
      }
    },
    {
      "cell_type": "markdown",
      "source": [
        "**Syntax error**"
      ],
      "metadata": {
        "id": "m8xByJGV4gIB"
      }
    },
    {
      "cell_type": "code",
      "source": [
        "a = 5 \n",
        "print(a))"
      ],
      "metadata": {
        "colab": {
          "base_uri": "https://localhost:8080/",
          "height": 134
        },
        "id": "zDEiz8yN4iaJ",
        "outputId": "518bd5cb-7077-4bf9-9f87-cb58ce892d09"
      },
      "execution_count": null,
      "outputs": [
        {
          "output_type": "error",
          "ename": "SyntaxError",
          "evalue": "ignored",
          "traceback": [
            "\u001b[0;36m  File \u001b[0;32m\"<ipython-input-118-6cf785e4c7d1>\"\u001b[0;36m, line \u001b[0;32m2\u001b[0m\n\u001b[0;31m    print(a))\u001b[0m\n\u001b[0m            ^\u001b[0m\n\u001b[0;31mSyntaxError\u001b[0m\u001b[0;31m:\u001b[0m invalid syntax\n"
          ]
        }
      ]
    },
    {
      "cell_type": "code",
      "source": [
        "a = 5 print(a)"
      ],
      "metadata": {
        "colab": {
          "base_uri": "https://localhost:8080/",
          "height": 134
        },
        "id": "R4HFIAPP0d63",
        "outputId": "96ba4b30-6cfe-41f8-e5fd-c97a5fd09245"
      },
      "execution_count": null,
      "outputs": [
        {
          "output_type": "error",
          "ename": "SyntaxError",
          "evalue": "ignored",
          "traceback": [
            "\u001b[0;36m  File \u001b[0;32m\"<ipython-input-117-fed4b61d14cd>\"\u001b[0;36m, line \u001b[0;32m1\u001b[0m\n\u001b[0;31m    a = 5 print(a)\u001b[0m\n\u001b[0m              ^\u001b[0m\n\u001b[0;31mSyntaxError\u001b[0m\u001b[0;31m:\u001b[0m invalid syntax\n"
          ]
        }
      ]
    },
    {
      "cell_type": "markdown",
      "source": [
        "**Type error**"
      ],
      "metadata": {
        "id": "DrD1fIfM4whO"
      }
    },
    {
      "cell_type": "code",
      "source": [
        "a = 5 + '10'"
      ],
      "metadata": {
        "colab": {
          "base_uri": "https://localhost:8080/",
          "height": 170
        },
        "id": "O1jTbHLj4uNR",
        "outputId": "68814a98-5532-4f09-829e-f051ec87da5b"
      },
      "execution_count": null,
      "outputs": [
        {
          "output_type": "error",
          "ename": "TypeError",
          "evalue": "ignored",
          "traceback": [
            "\u001b[0;31m---------------------------------------------------------------------------\u001b[0m",
            "\u001b[0;31mTypeError\u001b[0m                                 Traceback (most recent call last)",
            "\u001b[0;32m<ipython-input-119-893398416ed7>\u001b[0m in \u001b[0;36m<module>\u001b[0;34m()\u001b[0m\n\u001b[0;32m----> 1\u001b[0;31m \u001b[0ma\u001b[0m \u001b[0;34m=\u001b[0m \u001b[0;36m5\u001b[0m \u001b[0;34m+\u001b[0m \u001b[0;34m'10'\u001b[0m\u001b[0;34m\u001b[0m\u001b[0;34m\u001b[0m\u001b[0m\n\u001b[0m",
            "\u001b[0;31mTypeError\u001b[0m: unsupported operand type(s) for +: 'int' and 'str'"
          ]
        }
      ]
    },
    {
      "cell_type": "code",
      "source": [
        "import some"
      ],
      "metadata": {
        "colab": {
          "base_uri": "https://localhost:8080/",
          "height": 314
        },
        "id": "U8vl-TeU4091",
        "outputId": "70ce9e1f-99b0-40ce-d455-6ab34ddd4bf6"
      },
      "execution_count": null,
      "outputs": [
        {
          "output_type": "error",
          "ename": "ModuleNotFoundError",
          "evalue": "ignored",
          "traceback": [
            "\u001b[0;31m---------------------------------------------------------------------------\u001b[0m",
            "\u001b[0;31mModuleNotFoundError\u001b[0m                       Traceback (most recent call last)",
            "\u001b[0;32m<ipython-input-120-18da065c18c9>\u001b[0m in \u001b[0;36m<module>\u001b[0;34m()\u001b[0m\n\u001b[0;32m----> 1\u001b[0;31m \u001b[0;32mimport\u001b[0m \u001b[0msome\u001b[0m\u001b[0;34m\u001b[0m\u001b[0;34m\u001b[0m\u001b[0m\n\u001b[0m",
            "\u001b[0;31mModuleNotFoundError\u001b[0m: No module named 'some'",
            "",
            "\u001b[0;31m---------------------------------------------------------------------------\u001b[0;32m\nNOTE: If your import is failing due to a missing package, you can\nmanually install dependencies using either !pip or !apt.\n\nTo view examples of installing some common dependencies, click the\n\"Open Examples\" button below.\n\u001b[0;31m---------------------------------------------------------------------------\u001b[0m\n"
          ],
          "errorDetails": {
            "actions": [
              {
                "action": "open_url",
                "actionText": "Open Examples",
                "url": "/notebooks/snippets/importing_libraries.ipynb"
              }
            ]
          }
        }
      ]
    },
    {
      "cell_type": "code",
      "source": [
        "a = 5\n",
        "b = f\n",
        "print(b)"
      ],
      "metadata": {
        "colab": {
          "base_uri": "https://localhost:8080/",
          "height": 206
        },
        "id": "EzfUISbO48jq",
        "outputId": "db6d0828-116f-4937-a422-41a70295cec4"
      },
      "execution_count": null,
      "outputs": [
        {
          "output_type": "error",
          "ename": "NameError",
          "evalue": "ignored",
          "traceback": [
            "\u001b[0;31m---------------------------------------------------------------------------\u001b[0m",
            "\u001b[0;31mNameError\u001b[0m                                 Traceback (most recent call last)",
            "\u001b[0;32m<ipython-input-123-55d2b15b4f7c>\u001b[0m in \u001b[0;36m<module>\u001b[0;34m()\u001b[0m\n\u001b[1;32m      1\u001b[0m \u001b[0ma\u001b[0m \u001b[0;34m=\u001b[0m \u001b[0;36m5\u001b[0m\u001b[0;34m\u001b[0m\u001b[0;34m\u001b[0m\u001b[0m\n\u001b[0;32m----> 2\u001b[0;31m \u001b[0mb\u001b[0m \u001b[0;34m=\u001b[0m \u001b[0mf\u001b[0m\u001b[0;34m\u001b[0m\u001b[0;34m\u001b[0m\u001b[0m\n\u001b[0m\u001b[1;32m      3\u001b[0m \u001b[0mprint\u001b[0m\u001b[0;34m(\u001b[0m\u001b[0mb\u001b[0m\u001b[0;34m)\u001b[0m\u001b[0;34m\u001b[0m\u001b[0;34m\u001b[0m\u001b[0m\n",
            "\u001b[0;31mNameError\u001b[0m: name 'f' is not defined"
          ]
        }
      ]
    },
    {
      "cell_type": "code",
      "source": [
        "f = open('file.txt')"
      ],
      "metadata": {
        "colab": {
          "base_uri": "https://localhost:8080/",
          "height": 170
        },
        "id": "PKJegW7E5HsT",
        "outputId": "110abc6e-a11c-4814-eee3-4549f0b2c27f"
      },
      "execution_count": null,
      "outputs": [
        {
          "output_type": "error",
          "ename": "FileNotFoundError",
          "evalue": "ignored",
          "traceback": [
            "\u001b[0;31m---------------------------------------------------------------------------\u001b[0m",
            "\u001b[0;31mFileNotFoundError\u001b[0m                         Traceback (most recent call last)",
            "\u001b[0;32m<ipython-input-124-3a51248e50bd>\u001b[0m in \u001b[0;36m<module>\u001b[0;34m()\u001b[0m\n\u001b[0;32m----> 1\u001b[0;31m \u001b[0mf\u001b[0m \u001b[0;34m=\u001b[0m \u001b[0mopen\u001b[0m\u001b[0;34m(\u001b[0m\u001b[0;34m'file.txt'\u001b[0m\u001b[0;34m)\u001b[0m\u001b[0;34m\u001b[0m\u001b[0;34m\u001b[0m\u001b[0m\n\u001b[0m",
            "\u001b[0;31mFileNotFoundError\u001b[0m: [Errno 2] No such file or directory: 'file.txt'"
          ]
        }
      ]
    },
    {
      "cell_type": "code",
      "source": [
        "a = [1,2,3]\n",
        "a.remove(2)\n",
        "print(a)"
      ],
      "metadata": {
        "colab": {
          "base_uri": "https://localhost:8080/"
        },
        "id": "dTzV_gG95Lrm",
        "outputId": "b6da85b1-96eb-406b-f995-e8d79f250760"
      },
      "execution_count": null,
      "outputs": [
        {
          "output_type": "stream",
          "name": "stdout",
          "text": [
            "[1, 3]\n"
          ]
        }
      ]
    },
    {
      "cell_type": "code",
      "source": [
        "a.remove(2)\n"
      ],
      "metadata": {
        "colab": {
          "base_uri": "https://localhost:8080/",
          "height": 170
        },
        "id": "ih5QRdnj5UqT",
        "outputId": "6098d2c8-1714-4cd2-a4b6-02c5e5a685d8"
      },
      "execution_count": null,
      "outputs": [
        {
          "output_type": "error",
          "ename": "ValueError",
          "evalue": "ignored",
          "traceback": [
            "\u001b[0;31m---------------------------------------------------------------------------\u001b[0m",
            "\u001b[0;31mValueError\u001b[0m                                Traceback (most recent call last)",
            "\u001b[0;32m<ipython-input-126-e16cf4402f25>\u001b[0m in \u001b[0;36m<module>\u001b[0;34m()\u001b[0m\n\u001b[0;32m----> 1\u001b[0;31m \u001b[0ma\u001b[0m\u001b[0;34m.\u001b[0m\u001b[0mremove\u001b[0m\u001b[0;34m(\u001b[0m\u001b[0;36m2\u001b[0m\u001b[0;34m)\u001b[0m\u001b[0;34m\u001b[0m\u001b[0;34m\u001b[0m\u001b[0m\n\u001b[0m",
            "\u001b[0;31mValueError\u001b[0m: list.remove(x): x not in list"
          ]
        }
      ]
    },
    {
      "cell_type": "code",
      "source": [
        "a[10]"
      ],
      "metadata": {
        "colab": {
          "base_uri": "https://localhost:8080/",
          "height": 170
        },
        "id": "Tj48fYBd5ggq",
        "outputId": "22b217bf-e4e7-43fc-debc-dd83ce8fa3c6"
      },
      "execution_count": null,
      "outputs": [
        {
          "output_type": "error",
          "ename": "IndexError",
          "evalue": "ignored",
          "traceback": [
            "\u001b[0;31m---------------------------------------------------------------------------\u001b[0m",
            "\u001b[0;31mIndexError\u001b[0m                                Traceback (most recent call last)",
            "\u001b[0;32m<ipython-input-127-7c7cb9812849>\u001b[0m in \u001b[0;36m<module>\u001b[0;34m()\u001b[0m\n\u001b[0;32m----> 1\u001b[0;31m \u001b[0ma\u001b[0m\u001b[0;34m[\u001b[0m\u001b[0;36m10\u001b[0m\u001b[0;34m]\u001b[0m\u001b[0;34m\u001b[0m\u001b[0;34m\u001b[0m\u001b[0m\n\u001b[0m",
            "\u001b[0;31mIndexError\u001b[0m: list index out of range"
          ]
        }
      ]
    },
    {
      "cell_type": "code",
      "source": [
        "my_dct = {'name':'Mad'}\n",
        "print(my_dct['age'])"
      ],
      "metadata": {
        "colab": {
          "base_uri": "https://localhost:8080/",
          "height": 188
        },
        "id": "-VbAXmUG-LGX",
        "outputId": "886578f3-3372-4108-bb32-0ca814d01be7"
      },
      "execution_count": null,
      "outputs": [
        {
          "output_type": "error",
          "ename": "KeyError",
          "evalue": "ignored",
          "traceback": [
            "\u001b[0;31m---------------------------------------------------------------------------\u001b[0m",
            "\u001b[0;31mKeyError\u001b[0m                                  Traceback (most recent call last)",
            "\u001b[0;32m<ipython-input-128-30a862ebb6d3>\u001b[0m in \u001b[0;36m<module>\u001b[0;34m()\u001b[0m\n\u001b[1;32m      1\u001b[0m \u001b[0mmy_dct\u001b[0m \u001b[0;34m=\u001b[0m \u001b[0;34m{\u001b[0m\u001b[0;34m'name'\u001b[0m\u001b[0;34m:\u001b[0m\u001b[0;34m'Mad'\u001b[0m\u001b[0;34m}\u001b[0m\u001b[0;34m\u001b[0m\u001b[0;34m\u001b[0m\u001b[0m\n\u001b[0;32m----> 2\u001b[0;31m \u001b[0mprint\u001b[0m\u001b[0;34m(\u001b[0m\u001b[0mmy_dct\u001b[0m\u001b[0;34m[\u001b[0m\u001b[0;34m'age'\u001b[0m\u001b[0;34m]\u001b[0m\u001b[0;34m)\u001b[0m\u001b[0;34m\u001b[0m\u001b[0;34m\u001b[0m\u001b[0m\n\u001b[0m",
            "\u001b[0;31mKeyError\u001b[0m: 'age'"
          ]
        }
      ]
    },
    {
      "cell_type": "code",
      "source": [
        "x = -5\n",
        "if x < 0:\n",
        "  raise Exception(\"X should be +ve\")"
      ],
      "metadata": {
        "colab": {
          "base_uri": "https://localhost:8080/",
          "height": 206
        },
        "id": "H9ERjfaJ-eDN",
        "outputId": "35a5fc5d-1647-49d0-ba14-82447652ee66"
      },
      "execution_count": null,
      "outputs": [
        {
          "output_type": "error",
          "ename": "Exception",
          "evalue": "ignored",
          "traceback": [
            "\u001b[0;31m---------------------------------------------------------------------------\u001b[0m",
            "\u001b[0;31mException\u001b[0m                                 Traceback (most recent call last)",
            "\u001b[0;32m<ipython-input-129-973cff66d6e4>\u001b[0m in \u001b[0;36m<module>\u001b[0;34m()\u001b[0m\n\u001b[1;32m      1\u001b[0m \u001b[0mx\u001b[0m \u001b[0;34m=\u001b[0m \u001b[0;34m-\u001b[0m\u001b[0;36m5\u001b[0m\u001b[0;34m\u001b[0m\u001b[0;34m\u001b[0m\u001b[0m\n\u001b[1;32m      2\u001b[0m \u001b[0;32mif\u001b[0m \u001b[0mx\u001b[0m \u001b[0;34m<\u001b[0m \u001b[0;36m0\u001b[0m\u001b[0;34m:\u001b[0m\u001b[0;34m\u001b[0m\u001b[0;34m\u001b[0m\u001b[0m\n\u001b[0;32m----> 3\u001b[0;31m   \u001b[0;32mraise\u001b[0m \u001b[0mException\u001b[0m\u001b[0;34m(\u001b[0m\u001b[0;34m\"X should be +ve\"\u001b[0m\u001b[0;34m)\u001b[0m\u001b[0;34m\u001b[0m\u001b[0;34m\u001b[0m\u001b[0m\n\u001b[0m",
            "\u001b[0;31mException\u001b[0m: X should be +ve"
          ]
        }
      ]
    },
    {
      "cell_type": "code",
      "source": [
        "x = 5  # no exception is raised\n",
        "if x < 0:\n",
        "  raise Exception(\"X should be +ve\")"
      ],
      "metadata": {
        "id": "F5nwPftf-0Eg"
      },
      "execution_count": null,
      "outputs": []
    },
    {
      "cell_type": "code",
      "source": [
        "x = -5\n",
        "assert(x>=0),'x is not positive'\n",
        "\n"
      ],
      "metadata": {
        "colab": {
          "base_uri": "https://localhost:8080/",
          "height": 206
        },
        "id": "kqQdpXfx-17n",
        "outputId": "40e78f6d-c8f7-4ec6-80a6-0418d0d6bfbd"
      },
      "execution_count": null,
      "outputs": [
        {
          "output_type": "error",
          "ename": "AssertionError",
          "evalue": "ignored",
          "traceback": [
            "\u001b[0;31m---------------------------------------------------------------------------\u001b[0m",
            "\u001b[0;31mAssertionError\u001b[0m                            Traceback (most recent call last)",
            "\u001b[0;32m<ipython-input-131-ac641140c3b2>\u001b[0m in \u001b[0;36m<module>\u001b[0;34m()\u001b[0m\n\u001b[1;32m      1\u001b[0m \u001b[0mx\u001b[0m \u001b[0;34m=\u001b[0m \u001b[0;34m-\u001b[0m\u001b[0;36m5\u001b[0m\u001b[0;34m\u001b[0m\u001b[0;34m\u001b[0m\u001b[0m\n\u001b[0;32m----> 2\u001b[0;31m \u001b[0;32massert\u001b[0m\u001b[0;34m(\u001b[0m\u001b[0mx\u001b[0m\u001b[0;34m>=\u001b[0m\u001b[0;36m0\u001b[0m\u001b[0;34m)\u001b[0m\u001b[0;34m,\u001b[0m\u001b[0;34m'x is not positive'\u001b[0m\u001b[0;34m\u001b[0m\u001b[0;34m\u001b[0m\u001b[0m\n\u001b[0m\u001b[1;32m      3\u001b[0m \u001b[0;34m\u001b[0m\u001b[0m\n",
            "\u001b[0;31mAssertionError\u001b[0m: x is not positive"
          ]
        }
      ]
    },
    {
      "cell_type": "code",
      "source": [
        "try:\n",
        "  a = 5/0\n",
        "except Exception as e:\n",
        "  print(e)"
      ],
      "metadata": {
        "colab": {
          "base_uri": "https://localhost:8080/"
        },
        "id": "S8sab4Vdijz1",
        "outputId": "26ba2018-65c1-4626-b50d-574d2471c53f"
      },
      "execution_count": null,
      "outputs": [
        {
          "output_type": "stream",
          "name": "stdout",
          "text": [
            "division by zero\n"
          ]
        }
      ]
    },
    {
      "cell_type": "code",
      "source": [
        "try:\n",
        "  a = 5/4\n",
        "  b = 5+\"a\"\n",
        "except Exception as e:\n",
        "    print(e)\n",
        "else:\n",
        "  print(\"No error\")\n",
        "finally:\n",
        "    print(\"Done\")"
      ],
      "metadata": {
        "colab": {
          "base_uri": "https://localhost:8080/"
        },
        "id": "qVcmbMc0izON",
        "outputId": "53163111-ee96-459f-852f-9a669f64ea30"
      },
      "execution_count": null,
      "outputs": [
        {
          "output_type": "stream",
          "name": "stdout",
          "text": [
            "unsupported operand type(s) for +: 'int' and 'str'\n",
            "Done\n"
          ]
        }
      ]
    },
    {
      "cell_type": "code",
      "source": [
        "class ValueError(Exception):\n",
        "  pass\n",
        "\n",
        "def text_value(x):\n",
        "  if x>100:\n",
        "    raise ValueError('value is high')\n",
        "\n",
        "try:\n",
        "  text_value(200)\n",
        "except Exception as e:\n",
        "  print(e)\n",
        "\n"
      ],
      "metadata": {
        "colab": {
          "base_uri": "https://localhost:8080/"
        },
        "id": "kq-Gk3YFizUa",
        "outputId": "a550670a-84c3-417b-8f3c-b37bbc8e2bea"
      },
      "execution_count": null,
      "outputs": [
        {
          "output_type": "stream",
          "name": "stdout",
          "text": [
            "value is high\n"
          ]
        }
      ]
    },
    {
      "cell_type": "markdown",
      "source": [
        "**Logging**"
      ],
      "metadata": {
        "id": "j98VnLAD-rSe"
      }
    },
    {
      "cell_type": "markdown",
      "source": [
        "The logging module in Python is a powerful built-in module so you can quickly add logging to your application."
      ],
      "metadata": {
        "id": "SCn6GhbACZyg"
      }
    },
    {
      "cell_type": "code",
      "source": [
        "import logging"
      ],
      "metadata": {
        "id": "LB48I3dqizYz"
      },
      "execution_count": null,
      "outputs": []
    },
    {
      "cell_type": "markdown",
      "source": [
        "**Log Level**\n",
        "There are 5 different log levels indicating the serverity of events. By default, the system logs only events with level WARNING and above."
      ],
      "metadata": {
        "id": "tqa-v6sVCeOm"
      }
    },
    {
      "cell_type": "code",
      "source": [
        "logging.debug(\"This is a debug message\")\n",
        "logging.info(\"This is an info message\")\n",
        "logging.warning('This is a warning message')\n",
        "logging.error('This is an error message')\n",
        "logging.critical('This is a critical message')"
      ],
      "metadata": {
        "colab": {
          "base_uri": "https://localhost:8080/"
        },
        "id": "XCRR1NWxizcy",
        "outputId": "e2fcbef7-4176-401f-e2b2-70ef60f78e54"
      },
      "execution_count": null,
      "outputs": [
        {
          "output_type": "stream",
          "name": "stderr",
          "text": [
            "WARNING:root:This is a warning message\n",
            "ERROR:root:This is an error message\n",
            "CRITICAL:root:This is a critical message\n"
          ]
        }
      ]
    },
    {
      "cell_type": "markdown",
      "source": [
        "**Configuration**<br>\n",
        "With basicConfig(**kwargs) you can customize the root logger."
      ],
      "metadata": {
        "id": "brp2zTF3Dg66"
      }
    },
    {
      "cell_type": "code",
      "source": [
        "import logging\n",
        "logging.basicConfig(level=logging.DEBUG, format='%(asctime)s- %(name)s- %(levelname)s - %(message)s',datefmt='%m%d%Y %H:%M:%S')\n",
        "logging.debug(\"This is a debug message\")\n",
        "logging.info(\"This is an info message\")\n",
        "logging.warning('This is a warning message')\n",
        "logging.error('This is an error message')\n",
        "logging.critical('This is a critical message')"
      ],
      "metadata": {
        "colab": {
          "base_uri": "https://localhost:8080/"
        },
        "id": "m7eeOdSlizgK",
        "outputId": "d0a856b2-b156-4d4b-ee6e-95d3597ecde7"
      },
      "execution_count": null,
      "outputs": [
        {
          "output_type": "stream",
          "name": "stderr",
          "text": [
            "WARNING:root:This is a warning message\n",
            "ERROR:root:This is an error message\n",
            "CRITICAL:root:This is a critical message\n"
          ]
        }
      ]
    },
    {
      "cell_type": "markdown",
      "source": [
        "**Logging in modules and logger hierarchy**<br>\n",
        "With multiple modules is to create an internal logger using the\n",
        "__name__ global variable."
      ],
      "metadata": {
        "id": "CIvjI1HpGNNF"
      }
    },
    {
      "cell_type": "markdown",
      "source": [
        "**Propagation**<br>\n",
        "By default, all created loggers will pass the log events to the handlers of higher loggers, in addition to any handlers attached to the created logger. You can deactivate this by setting propagate = False"
      ],
      "metadata": {
        "id": "0SjkcEIGGXv4"
      }
    },
    {
      "cell_type": "markdown",
      "source": [
        "**Log Handler**"
      ],
      "metadata": {
        "id": "FCyKG_28HG3w"
      }
    },
    {
      "cell_type": "code",
      "source": [
        "import logging\n",
        "\n",
        "stream_handler = logging.StreamHandler()\n",
        "file_handler = logging.FileHandler()\n",
        "\n",
        "stream_handler.setLevel\n",
        "\n"
      ],
      "metadata": {
        "id": "sZTca7IFizj8"
      },
      "execution_count": null,
      "outputs": []
    },
    {
      "cell_type": "code",
      "source": [
        ""
      ],
      "metadata": {
        "id": "u0jpFFZSNwzH"
      },
      "execution_count": null,
      "outputs": []
    },
    {
      "cell_type": "markdown",
      "source": [
        "**JSON**"
      ],
      "metadata": {
        "id": "eJxAFTj6NwDY"
      }
    },
    {
      "cell_type": "markdown",
      "source": [
        "JSON (JavaScript Object Notation) is a data format for data exchange. <br>\n",
        "Advantages of JSON:<br>\n",
        "\n",
        "JSON exists as a \"sequence of bytes\" which is very useful in the case we need to transmit (stream) data over a network.<br>\n",
        "Compared to XML, JSON is much smaller, translating into faster data transfers, and better experiences.<br>\n",
        "JSON is extremely human-friendly since it is textual, and simultaneously machine-friendly."
      ],
      "metadata": {
        "id": "UDqSSj49WsVq"
      }
    },
    {
      "cell_type": "code",
      "source": [
        "import json"
      ],
      "metadata": {
        "id": "xPgsWa-sW1uL"
      },
      "execution_count": null,
      "outputs": []
    },
    {
      "cell_type": "code",
      "source": [
        "# JSON Format\n",
        "{\n",
        "    \"firstname\":\"Max\",\n",
        "    \"age\":25,\n",
        "    \"children\":[\n",
        "        {\n",
        "            \"firstname\":\"Alex\"\n",
        "        },\n",
        "        {\n",
        "            \"firstname\":\"Min\"\n",
        "        }\n",
        "    ]\n",
        "\n",
        "}"
      ],
      "metadata": {
        "colab": {
          "base_uri": "https://localhost:8080/"
        },
        "id": "m2VOPaF2XbI0",
        "outputId": "dd9e2e3d-1687-466a-d1df-1a4ffcca4f2e"
      },
      "execution_count": null,
      "outputs": [
        {
          "output_type": "execute_result",
          "data": {
            "text/plain": [
              "{'age': 25,\n",
              " 'children': [{'firstname': 'Alex'}, {'firstname': 'Min'}],\n",
              " 'firstname': 'Max'}"
            ]
          },
          "metadata": {},
          "execution_count": 151
        }
      ]
    },
    {
      "cell_type": "markdown",
      "source": [
        "From Python to JSON (Serialization, Encode)<br>\n",
        "Convert Python objects into a JSON string with the **json.dumps()** method."
      ],
      "metadata": {
        "id": "QSKC1KAja965"
      }
    },
    {
      "cell_type": "code",
      "source": [
        "import json\n",
        "\n",
        "person = {\"name\":\"John\",\"age\":30,\"city\":\"Pune\",\"title\":[\"engineer\",\"programmer\"]}\n",
        "\n",
        "perJSON = json.dumps(person,indent=4,sort_keys=True)\n",
        "\n",
        "print(perJSON)"
      ],
      "metadata": {
        "colab": {
          "base_uri": "https://localhost:8080/"
        },
        "id": "akyZF3xYaGZv",
        "outputId": "0d90f3ee-3772-4515-a56e-7937337b3bef"
      },
      "execution_count": null,
      "outputs": [
        {
          "output_type": "stream",
          "name": "stdout",
          "text": [
            "{\n",
            "    \"age\": 30,\n",
            "    \"city\": \"Pune\",\n",
            "    \"name\": \"John\",\n",
            "    \"title\": [\n",
            "        \"engineer\",\n",
            "        \"programmer\"\n",
            "    ]\n",
            "}\n"
          ]
        }
      ]
    },
    {
      "cell_type": "code",
      "source": [
        "with open('person.json','w') as file:\n",
        "  json.dump(person,file,indent=4)"
      ],
      "metadata": {
        "id": "MCQglp1scPGS"
      },
      "execution_count": null,
      "outputs": []
    },
    {
      "cell_type": "markdown",
      "source": [
        "**FROM JSON to Python (Deserialization, Decode)**<br>\n",
        "Convert a JSON string into a Python object with the **json.loads()** method. The result will be a Python dictionary."
      ],
      "metadata": {
        "id": "OlfFDVQVlUvz"
      }
    },
    {
      "cell_type": "code",
      "source": [
        "person = json.loads(perJSON)\n",
        "print(person)"
      ],
      "metadata": {
        "colab": {
          "base_uri": "https://localhost:8080/"
        },
        "id": "1NOPA6kZlbfj",
        "outputId": "7a7e8e94-6e3e-46fb-c9ee-e127a0d8b261"
      },
      "execution_count": null,
      "outputs": [
        {
          "output_type": "stream",
          "name": "stdout",
          "text": [
            "{'age': 30, 'city': 'Pune', 'name': 'John', 'title': ['engineer', 'programmer']}\n"
          ]
        }
      ]
    },
    {
      "cell_type": "code",
      "source": [
        "with open('person.json','r') as file:\n",
        "  person = json.load(file)\n",
        "  print(person)"
      ],
      "metadata": {
        "colab": {
          "base_uri": "https://localhost:8080/"
        },
        "id": "Uf82jBiBlthi",
        "outputId": "d462590b-8369-4906-b6be-3ba840ea9dc6"
      },
      "execution_count": null,
      "outputs": [
        {
          "output_type": "stream",
          "name": "stdout",
          "text": [
            "{'name': 'John', 'age': 30, 'city': 'Pune', 'title': ['engineer', 'programmer']}\n"
          ]
        }
      ]
    },
    {
      "cell_type": "markdown",
      "source": [
        "**Random numbers**"
      ],
      "metadata": {
        "id": "0bld6J6g05-E"
      }
    },
    {
      "cell_type": "markdown",
      "source": [
        "**The random module**"
      ],
      "metadata": {
        "id": "CwuU26nl1vYI"
      }
    },
    {
      "cell_type": "code",
      "source": [
        "import random\n",
        "\n",
        "a = random.random()\n",
        "print(a)"
      ],
      "metadata": {
        "colab": {
          "base_uri": "https://localhost:8080/"
        },
        "id": "u_7WzaGumMMj",
        "outputId": "68c25597-8943-4e52-d23c-257b482ac06f"
      },
      "execution_count": null,
      "outputs": [
        {
          "output_type": "stream",
          "name": "stdout",
          "text": [
            "0.6606349456780772\n"
          ]
        }
      ]
    },
    {
      "cell_type": "code",
      "source": [
        "a = random.uniform(1,5)\n",
        "print(a)"
      ],
      "metadata": {
        "colab": {
          "base_uri": "https://localhost:8080/"
        },
        "id": "L16cK4tB2HC6",
        "outputId": "d14ceb79-ecd1-460d-ba56-00be82bb78c1"
      },
      "execution_count": null,
      "outputs": [
        {
          "output_type": "stream",
          "name": "stdout",
          "text": [
            "2.8192300442355473\n"
          ]
        }
      ]
    },
    {
      "cell_type": "code",
      "source": [
        "a = random.randint(1,5)\n",
        "print(a)"
      ],
      "metadata": {
        "colab": {
          "base_uri": "https://localhost:8080/"
        },
        "id": "4kggqzrt2HGz",
        "outputId": "ea948c10-cc6e-40d4-b2fe-f633010da9f9"
      },
      "execution_count": null,
      "outputs": [
        {
          "output_type": "stream",
          "name": "stdout",
          "text": [
            "4\n"
          ]
        }
      ]
    },
    {
      "cell_type": "code",
      "source": [
        "a = random.randrange(1,5)\n",
        "print(a)"
      ],
      "metadata": {
        "colab": {
          "base_uri": "https://localhost:8080/"
        },
        "id": "kamoBF0b2igj",
        "outputId": "5be0d8e9-98f4-42f8-c349-71b51a769a34"
      },
      "execution_count": null,
      "outputs": [
        {
          "output_type": "stream",
          "name": "stdout",
          "text": [
            "2\n"
          ]
        }
      ]
    },
    {
      "cell_type": "code",
      "source": [
        "a = random.normalvariate(0,1)\n",
        "print(a)"
      ],
      "metadata": {
        "colab": {
          "base_uri": "https://localhost:8080/"
        },
        "id": "-EwY_aPS2HKP",
        "outputId": "fb97fe5c-d84e-42f3-ccd8-a285de0013e5"
      },
      "execution_count": null,
      "outputs": [
        {
          "output_type": "stream",
          "name": "stdout",
          "text": [
            "-0.8827164658448969\n"
          ]
        }
      ]
    },
    {
      "cell_type": "code",
      "source": [
        "a = random.choice(list(\"ABCDEF\"))\n",
        "print(a)"
      ],
      "metadata": {
        "colab": {
          "base_uri": "https://localhost:8080/"
        },
        "id": "V3REfgC72HNe",
        "outputId": "335929cc-6e3a-4548-d51a-f282781674e2"
      },
      "execution_count": null,
      "outputs": [
        {
          "output_type": "stream",
          "name": "stdout",
          "text": [
            "C\n"
          ]
        }
      ]
    },
    {
      "cell_type": "code",
      "source": [
        "a = random.sample(list(\"ABCDEF\"),3)\n",
        "print(a)"
      ],
      "metadata": {
        "colab": {
          "base_uri": "https://localhost:8080/"
        },
        "id": "GCTpFpM72HQX",
        "outputId": "bcf195ca-6be8-4ee7-aff6-ff5a72ae1f95"
      },
      "execution_count": null,
      "outputs": [
        {
          "output_type": "stream",
          "name": "stdout",
          "text": [
            "['E', 'C', 'B']\n"
          ]
        }
      ]
    },
    {
      "cell_type": "code",
      "source": [
        "a = random.choices(list(\"ABCDEF\"),k=4)\n",
        "print(a)\n",
        "\n",
        "random.shuffle(a)\n",
        "print(a)"
      ],
      "metadata": {
        "colab": {
          "base_uri": "https://localhost:8080/"
        },
        "id": "VInpAnL82HTb",
        "outputId": "730aaf4a-5efc-4bf6-cc46-e55b686e4db0"
      },
      "execution_count": null,
      "outputs": [
        {
          "output_type": "stream",
          "name": "stdout",
          "text": [
            "['D', 'E', 'D', 'D']\n",
            "['D', 'E', 'D', 'D']\n"
          ]
        }
      ]
    },
    {
      "cell_type": "markdown",
      "source": [
        "**The seed generator**<br>\n",
        "With random.seed(), will produce the same trail of data."
      ],
      "metadata": {
        "id": "R35YPsQt5jso"
      }
    },
    {
      "cell_type": "code",
      "source": [
        "random.seed(1)\n",
        "print(random.random())\n",
        "print(random.randint(1,10))\n",
        "random.seed(1)\n",
        "print(random.random())\n",
        "print(random.randint(1,10))"
      ],
      "metadata": {
        "colab": {
          "base_uri": "https://localhost:8080/"
        },
        "id": "EPVm42b83Lft",
        "outputId": "11c74a03-b2fb-4966-db96-ea2162998bbd"
      },
      "execution_count": null,
      "outputs": [
        {
          "output_type": "stream",
          "name": "stdout",
          "text": [
            "0.13436424411240122\n",
            "2\n",
            "0.13436424411240122\n",
            "2\n"
          ]
        }
      ]
    },
    {
      "cell_type": "markdown",
      "source": [
        "**The secrets module**"
      ],
      "metadata": {
        "id": "UpOFXD6k7rG4"
      }
    },
    {
      "cell_type": "markdown",
      "source": [
        "The secrets module is used for generating cryptographically strong random numbers suitable for managing data such as passwords, account authentication, security tokens, and related secrets."
      ],
      "metadata": {
        "id": "R2pSsH4w7xft"
      }
    },
    {
      "cell_type": "code",
      "source": [
        "import secrets"
      ],
      "metadata": {
        "id": "E9zZSkkK3Lvi"
      },
      "execution_count": null,
      "outputs": []
    },
    {
      "cell_type": "code",
      "source": [
        "a = secrets.randbelow(10)\n",
        "print(a)"
      ],
      "metadata": {
        "colab": {
          "base_uri": "https://localhost:8080/"
        },
        "id": "X1vHCABI74VY",
        "outputId": "7fd0095e-315c-4f58-ce05-af285f92fa83"
      },
      "execution_count": null,
      "outputs": [
        {
          "output_type": "stream",
          "name": "stdout",
          "text": [
            "9\n"
          ]
        }
      ]
    },
    {
      "cell_type": "code",
      "source": [
        "a = secrets.randbits(5)\n",
        "print(a)"
      ],
      "metadata": {
        "colab": {
          "base_uri": "https://localhost:8080/"
        },
        "id": "PwXJ-dLM8Bm8",
        "outputId": "1d2346af-e4af-421d-d085-3f7265d62a1c"
      },
      "execution_count": null,
      "outputs": [
        {
          "output_type": "stream",
          "name": "stdout",
          "text": [
            "25\n"
          ]
        }
      ]
    },
    {
      "cell_type": "code",
      "source": [
        "a = secrets.choice(list(\"ABCDEF\"))\n",
        "print(a)"
      ],
      "metadata": {
        "colab": {
          "base_uri": "https://localhost:8080/"
        },
        "id": "E3lmhiIS8BuP",
        "outputId": "e24b2484-f0ad-4588-af71-a27278064d25"
      },
      "execution_count": null,
      "outputs": [
        {
          "output_type": "stream",
          "name": "stdout",
          "text": [
            "F\n"
          ]
        }
      ]
    },
    {
      "cell_type": "markdown",
      "source": [
        "**Random numbers with NumPy**"
      ],
      "metadata": {
        "id": "A-t14S_M8fxn"
      }
    },
    {
      "cell_type": "code",
      "source": [
        "import numpy as np"
      ],
      "metadata": {
        "id": "i1hZJmdR8h1u"
      },
      "execution_count": null,
      "outputs": []
    },
    {
      "cell_type": "code",
      "source": [
        "a = np.random.rand(3)\n",
        "print(a)"
      ],
      "metadata": {
        "colab": {
          "base_uri": "https://localhost:8080/"
        },
        "id": "2A7_brhB8o1G",
        "outputId": "4382aeba-2214-4a67-a761-8cd912ccbb85"
      },
      "execution_count": null,
      "outputs": [
        {
          "output_type": "stream",
          "name": "stdout",
          "text": [
            "[0.70658699 0.29641811 0.3978122 ]\n"
          ]
        }
      ]
    },
    {
      "cell_type": "code",
      "source": [
        "a = np.random.rand(3,3)\n",
        "print(a)"
      ],
      "metadata": {
        "colab": {
          "base_uri": "https://localhost:8080/"
        },
        "id": "t8o7Zff58o-k",
        "outputId": "be950a1b-7092-4198-c57b-ca4c1eb9901c"
      },
      "execution_count": null,
      "outputs": [
        {
          "output_type": "stream",
          "name": "stdout",
          "text": [
            "[[0.32598862 0.71994823 0.7848131 ]\n",
            " [0.00287456 0.35756375 0.27258754]\n",
            " [0.57390817 0.26107198 0.78630573]]\n"
          ]
        }
      ]
    },
    {
      "cell_type": "code",
      "source": [
        "a = np.random.randint(0,10,(3,3))\n",
        "print(a)"
      ],
      "metadata": {
        "colab": {
          "base_uri": "https://localhost:8080/"
        },
        "id": "R5mpmGFA8pB6",
        "outputId": "5c5a3e34-e5d7-4510-b900-c1538a6d0433"
      },
      "execution_count": null,
      "outputs": [
        {
          "output_type": "stream",
          "name": "stdout",
          "text": [
            "[[3 3 9]\n",
            " [7 1 8]\n",
            " [5 6 7]]\n"
          ]
        }
      ]
    },
    {
      "cell_type": "code",
      "source": [
        "a = np.array([[1,2,3],[7,8,9],[9,2,4]])\n",
        "np.random.shuffle(a)\n",
        "print(a)"
      ],
      "metadata": {
        "colab": {
          "base_uri": "https://localhost:8080/"
        },
        "id": "2UOmzMFl8-QS",
        "outputId": "fad2e567-7eda-47a0-bc42-d8d97a129e76"
      },
      "execution_count": null,
      "outputs": [
        {
          "output_type": "stream",
          "name": "stdout",
          "text": [
            "[[9 2 4]\n",
            " [1 2 3]\n",
            " [7 8 9]]\n"
          ]
        }
      ]
    },
    {
      "cell_type": "markdown",
      "source": [
        "**Decorators**"
      ],
      "metadata": {
        "id": "15ocWLxg94yS"
      }
    },
    {
      "cell_type": "markdown",
      "source": [
        "It allows to add new functionality to an existing function.<br>\n",
        "There are 2 kinds of decorators:<br>\n",
        "\n",
        "Function decoratos<br>\n",
        "Class decorators"
      ],
      "metadata": {
        "id": "TM2tnQA9Ienj"
      }
    },
    {
      "cell_type": "markdown",
      "source": [
        "A function is decorated with the @ symbol:<br>\n",
        "\n",
        "@my_decorator<br>\n",
        "def my_function():<br>\n",
        "    pass"
      ],
      "metadata": {
        "id": "4-dQ89XBIj4E"
      }
    },
    {
      "cell_type": "markdown",
      "source": [
        "**Function decorators**"
      ],
      "metadata": {
        "id": "3lhM7h3kI1Af"
      }
    },
    {
      "cell_type": "code",
      "source": [
        "def start_end_decorator(func):\n",
        "\n",
        "  def wrapper():\n",
        "    print('Start')\n",
        "    func()\n",
        "    print('End')\n",
        "  return wrapper\n",
        "@start_end_decorator\n",
        "def print_name():\n",
        "  print('Alex')\n",
        "\n",
        "#print_name = start_end_decorator(print_name)  \n",
        "print_name()"
      ],
      "metadata": {
        "colab": {
          "base_uri": "https://localhost:8080/"
        },
        "id": "w8wFDmOx8-bY",
        "outputId": "80dfdbc4-e4ef-40e6-904d-07cda303c70f"
      },
      "execution_count": null,
      "outputs": [
        {
          "output_type": "stream",
          "name": "stdout",
          "text": [
            "Start\n",
            "Alex\n",
            "End\n"
          ]
        }
      ]
    },
    {
      "cell_type": "markdown",
      "source": [
        "**Class decorators**<br>\n",
        "We can also use a class as a decorator. Therefore, we have to implement the __call__() method to make our object callable."
      ],
      "metadata": {
        "id": "YqhvccbzPfNo"
      }
    },
    {
      "cell_type": "markdown",
      "source": [
        "**Generators**"
      ],
      "metadata": {
        "id": "L02Y1k3PPxg7"
      }
    },
    {
      "cell_type": "markdown",
      "source": [
        "A generator is defined like a normal function but with the yield statement instead of return.<br>\n",
        "\n",
        "def my_generator():<br>\n",
        "  yield 1<br>\n",
        "  yield 2"
      ],
      "metadata": {
        "id": "bm5xa1VqQBda"
      }
    },
    {
      "cell_type": "code",
      "source": [
        "def my_generator():\n",
        "    yield 1\n",
        "    yield 2\n",
        "\n",
        "g = my_generator()\n",
        "\n",
        "for i in g:\n",
        "  print(i)"
      ],
      "metadata": {
        "colab": {
          "base_uri": "https://localhost:8080/"
        },
        "id": "xA812LyKhIMd",
        "outputId": "dd70a79e-efbd-433a-f86a-a226cd4d6dea"
      },
      "execution_count": null,
      "outputs": [
        {
          "output_type": "stream",
          "name": "stdout",
          "text": [
            "1\n",
            "2\n"
          ]
        }
      ]
    },
    {
      "cell_type": "markdown",
      "source": [
        "without a generator"
      ],
      "metadata": {
        "id": "yLhOC5F6lPrg"
      }
    },
    {
      "cell_type": "code",
      "source": [
        "import sys\n",
        "def firstn(n):\n",
        "  nums = []\n",
        "  num = 0\n",
        "  while num < n:\n",
        "    nums.append(num)\n",
        "    num += 1\n",
        "  return nums\n",
        "\n",
        "print(firstn(10))\n",
        "print(sum(firstn(10)))\n",
        "print(sys.getsizeof(firstn(10)))"
      ],
      "metadata": {
        "colab": {
          "base_uri": "https://localhost:8080/"
        },
        "id": "q7Tf3JnXh-ls",
        "outputId": "4d9f55be-bda3-402e-ea83-2f9d93795166"
      },
      "execution_count": null,
      "outputs": [
        {
          "output_type": "stream",
          "name": "stdout",
          "text": [
            "[0, 1, 2, 3, 4, 5, 6, 7, 8, 9]\n",
            "45\n",
            "200\n"
          ]
        }
      ]
    },
    {
      "cell_type": "markdown",
      "source": [
        "with a generator"
      ],
      "metadata": {
        "id": "757KlRBjlLWx"
      }
    },
    {
      "cell_type": "code",
      "source": [
        "def firstn_gen(n):\n",
        "  num = 0\n",
        "  while num < n:\n",
        "    yield num\n",
        "    num += 1\n",
        "  \n",
        "print(sum(firstn_gen(10)))\n",
        "print(sys.getsizeof(firstn_gen(10)))"
      ],
      "metadata": {
        "colab": {
          "base_uri": "https://localhost:8080/"
        },
        "id": "fRA_moIGje06",
        "outputId": "ecce3b67-b8d0-47d9-a6b0-3bdabc1a40f1"
      },
      "execution_count": null,
      "outputs": [
        {
          "output_type": "stream",
          "name": "stdout",
          "text": [
            "45\n",
            "128\n"
          ]
        }
      ]
    },
    {
      "cell_type": "code",
      "source": [
        "mygenertr = (i for i in range(10) if i%2 == 0)\n",
        "print(list(mygenertr))"
      ],
      "metadata": {
        "colab": {
          "base_uri": "https://localhost:8080/"
        },
        "id": "_qOaoQPKlFso",
        "outputId": "f1ff0f2d-dcff-4eeb-8f1f-64ea30097dd8"
      },
      "execution_count": null,
      "outputs": [
        {
          "output_type": "stream",
          "name": "stdout",
          "text": [
            "[0, 2, 4, 6, 8]\n"
          ]
        }
      ]
    },
    {
      "cell_type": "markdown",
      "source": [
        "**Threading vs Multiprocessing**"
      ],
      "metadata": {
        "id": "zO7ALnTDmC68"
      }
    },
    {
      "cell_type": "markdown",
      "source": [
        "**Process**<br>\n",
        "A Process is an instance of a program, e.g. a Python interpreter. They are independent from each other and do not share the same memory."
      ],
      "metadata": {
        "id": "0DK76-V8pyMJ"
      }
    },
    {
      "cell_type": "markdown",
      "source": [
        "**Threads**<br>\n",
        "A thread is an entity within a process that can be scheduled for execution (Also known as \"lightweight process\").<br>\n",
        "A Process can spawn multiple threads. <br>\n",
        "The main difference is that all threads within a process share the same memory."
      ],
      "metadata": {
        "id": "kd0Tp-Vtp3kL"
      }
    },
    {
      "cell_type": "markdown",
      "source": [
        "**GIL - Global interpreter lock**<br>\n",
        "A lock that allows only one thread to execute at a time to execute in Python."
      ],
      "metadata": {
        "id": "2v9LOC6oqVJI"
      }
    },
    {
      "cell_type": "code",
      "source": [
        "from multiprocessing import Process\n",
        "import os\n",
        "\n",
        "def square_numbers():\n",
        "  for i in range(100):\n",
        "      i * i\n",
        "\n",
        "processes = []\n",
        "num_processes = os.cpu_count()\n",
        "\n",
        "# create processess\n",
        "for i in range(num_processes):\n",
        "  p = Process(target=square_numbers)\n",
        "  processes.append(p)\n",
        "\n",
        "for p in processes:\n",
        "  p.start() \n",
        "\n",
        "for p in processes:\n",
        "  p.join()\n",
        "\n",
        "print('end')\n"
      ],
      "metadata": {
        "colab": {
          "base_uri": "https://localhost:8080/"
        },
        "id": "P8WoUnGZhbCC",
        "outputId": "4d81317a-c629-42ae-d437-7751072e2e18"
      },
      "execution_count": null,
      "outputs": [
        {
          "output_type": "stream",
          "name": "stdout",
          "text": [
            "end\n"
          ]
        }
      ]
    },
    {
      "cell_type": "markdown",
      "source": [
        "**Function Arguments**"
      ],
      "metadata": {
        "id": "bGbaZCQHwKuw"
      }
    },
    {
      "cell_type": "markdown",
      "source": [
        "**Arguments and parameters**<br>\n",
        "Parameters are the variables that are defined or used inside parentheses while defining a function.<br>\n",
        "Arguments are the value passed for these parameters while calling a function"
      ],
      "metadata": {
        "id": "q2wh5hLz0BSa"
      }
    },
    {
      "cell_type": "code",
      "source": [
        "def print_name(name): # name is the parameter\n",
        "    print(name)\n",
        "\n",
        "print_name('Alex') # 'Alex' is the argument"
      ],
      "metadata": {
        "colab": {
          "base_uri": "https://localhost:8080/"
        },
        "id": "wRMcpVOBhbJs",
        "outputId": "38ad309d-b20a-4e72-ba85-241ffe2b6b45"
      },
      "execution_count": null,
      "outputs": [
        {
          "output_type": "stream",
          "name": "stdout",
          "text": [
            "Alex\n"
          ]
        }
      ]
    },
    {
      "cell_type": "markdown",
      "source": [
        "**Positional and keyword arguments**<br>"
      ],
      "metadata": {
        "id": "142JImGZ0LGZ"
      }
    },
    {
      "cell_type": "code",
      "source": [
        "def foo(a,b,c):\n",
        "  print(a,b,c)\n",
        "\n",
        "foo(1,2,3) # positional arguments\n",
        "\n",
        "foo(a=1,b=2,c=3) # keyword arguments\n",
        "\n",
        "foo(1,c=3,b=2)"
      ],
      "metadata": {
        "colab": {
          "base_uri": "https://localhost:8080/"
        },
        "id": "ecyDxHAS0QUQ",
        "outputId": "ebabebec-d54e-4225-d102-290e6bd262c0"
      },
      "execution_count": null,
      "outputs": [
        {
          "output_type": "stream",
          "name": "stdout",
          "text": [
            "1 2 3\n",
            "1 2 3\n",
            "1 2 3\n"
          ]
        }
      ]
    },
    {
      "cell_type": "markdown",
      "source": [
        "**Default arguments**<br>"
      ],
      "metadata": {
        "id": "Imdqz0WC0uE0"
      }
    },
    {
      "cell_type": "code",
      "source": [
        "def foo(a,b,c=3):\n",
        "  print(a,b,c)\n",
        "\n",
        "foo(1,2,8)  "
      ],
      "metadata": {
        "colab": {
          "base_uri": "https://localhost:8080/"
        },
        "id": "mS3FSyhZ0yOO",
        "outputId": "16d273b5-c138-41fc-e1f7-2418deb58de2"
      },
      "execution_count": null,
      "outputs": [
        {
          "output_type": "stream",
          "name": "stdout",
          "text": [
            "1 2 8\n"
          ]
        }
      ]
    },
    {
      "cell_type": "markdown",
      "source": [
        "Variable-length arguments (*args and **kwargs) **bold text**"
      ],
      "metadata": {
        "id": "ksadOMSt1N91"
      }
    },
    {
      "cell_type": "code",
      "source": [
        "def foo(a,b,*args,**kwargs):\n",
        "    print(a,b)\n",
        "    for arg in args:\n",
        "      print(arg)\n",
        "    for key in kwargs:\n",
        "      print(key,kwargs[key])\n",
        "foo(7,9,1,4,2,six=6,one=1)\n"
      ],
      "metadata": {
        "colab": {
          "base_uri": "https://localhost:8080/"
        },
        "id": "awAwvWqK1O8-",
        "outputId": "b739546a-4c79-498b-a395-cb78ff0f5ef2"
      },
      "execution_count": null,
      "outputs": [
        {
          "output_type": "stream",
          "name": "stdout",
          "text": [
            "7 9\n",
            "1\n",
            "4\n",
            "2\n",
            "six 6\n",
            "one 1\n"
          ]
        }
      ]
    },
    {
      "cell_type": "markdown",
      "source": [
        "**Unpacking into agruments**"
      ],
      "metadata": {
        "id": "8Wb86nz22NiZ"
      }
    },
    {
      "cell_type": "code",
      "source": [
        "def foo(a,b,c):\n",
        "  print(a,b,c)\n",
        "\n",
        "# list/tuple unpacking, length must match\n",
        "my_lst = [0,1,2]\n",
        "foo(*my_lst)\n",
        "\n",
        "# dict unpacking, keys and length must match\n",
        "my_dct = {\"a\":1,\"b\":2,\"c\":3}\n",
        "foo(**my_dct)"
      ],
      "metadata": {
        "id": "SvuCMmv-2Olz",
        "colab": {
          "base_uri": "https://localhost:8080/"
        },
        "outputId": "46cc704b-ea45-4fc2-c81e-09df65a37f42"
      },
      "execution_count": null,
      "outputs": [
        {
          "output_type": "stream",
          "name": "stdout",
          "text": [
            "0 1 2\n",
            "1 2 3\n"
          ]
        }
      ]
    },
    {
      "cell_type": "markdown",
      "source": [
        "**Local vs global variables**"
      ],
      "metadata": {
        "id": "u-Xibmn3pupP"
      }
    },
    {
      "cell_type": "code",
      "source": [
        "def foo():\n",
        "  global number\n",
        "  x = number\n",
        "  number = 3\n",
        "  print('number inside function:',x)\n",
        "\n",
        "\n",
        "number = 0\n",
        "foo()\n",
        "print(\"global number is\",number)\n"
      ],
      "metadata": {
        "colab": {
          "base_uri": "https://localhost:8080/"
        },
        "id": "yAD5bDSopu7r",
        "outputId": "fa76d6a9-2f98-4413-d41e-a06df5666404"
      },
      "execution_count": null,
      "outputs": [
        {
          "output_type": "stream",
          "name": "stdout",
          "text": [
            "number inside function: 0\n",
            "global number is 3\n"
          ]
        }
      ]
    },
    {
      "cell_type": "markdown",
      "source": [
        "**Parameter passing**"
      ],
      "metadata": {
        "id": "QpDyQLsHzb4b"
      }
    },
    {
      "cell_type": "code",
      "source": [
        "def foo(x):\n",
        "  x = 5\n",
        "  x += 5 # since x is immutable and a new variable must be created\n",
        "\n",
        "var = 10\n",
        "print(var)\n",
        "foo(var)\n",
        "print(var)"
      ],
      "metadata": {
        "colab": {
          "base_uri": "https://localhost:8080/"
        },
        "id": "SzUIIBHFzfrf",
        "outputId": "f90d88f4-bfbc-49c0-dbbe-524bdb1ab91b"
      },
      "execution_count": null,
      "outputs": [
        {
          "output_type": "stream",
          "name": "stdout",
          "text": [
            "10\n",
            "10\n"
          ]
        }
      ]
    },
    {
      "cell_type": "code",
      "source": [
        "def foo(a_list):\n",
        "  a_list.append(4)   # mutable objects -> change\n",
        "\n",
        "my_list = [1,2,3]\n",
        "foo(my_list)\n",
        "print(my_list)"
      ],
      "metadata": {
        "colab": {
          "base_uri": "https://localhost:8080/"
        },
        "id": "ag12j06w04DT",
        "outputId": "f55b1188-2000-49e3-db3c-582eb4aa342f"
      },
      "execution_count": null,
      "outputs": [
        {
          "output_type": "stream",
          "name": "stdout",
          "text": [
            "[1, 2, 3, 4]\n"
          ]
        }
      ]
    },
    {
      "cell_type": "markdown",
      "source": [
        "The Asterisk (*) operator "
      ],
      "metadata": {
        "id": "nAb42yiglU6w"
      }
    },
    {
      "cell_type": "code",
      "source": [
        "# list\n",
        "onetwos = [1,2]*5\n",
        "print(onetwos)\n",
        "\n",
        "# tuple\n",
        "onetwos = (1,2)*5\n",
        "print(onetwos)\n",
        "\n",
        "# string\n",
        "AB = \"AB\"*10\n",
        "print(AB)"
      ],
      "metadata": {
        "id": "PJmFXP_i1o11",
        "colab": {
          "base_uri": "https://localhost:8080/"
        },
        "outputId": "6719619c-b448-4a39-d2d3-f80895ee7bb8"
      },
      "execution_count": null,
      "outputs": [
        {
          "output_type": "stream",
          "name": "stdout",
          "text": [
            "[1, 2, 1, 2, 1, 2, 1, 2, 1, 2]\n",
            "(1, 2, 1, 2, 1, 2, 1, 2, 1, 2)\n",
            "ABABABABABABABABABAB\n"
          ]
        }
      ]
    },
    {
      "cell_type": "code",
      "source": [
        "#*args , **kwargs , and keyword-only arguments\n",
        "\n",
        "\n",
        "def fpp(a,b,*args,**kwargs):\n",
        "  print(a)\n",
        "  print(b)\n",
        "  for arg in args:\n",
        "    print(arg)\n",
        "  for args in kwargs:\n",
        "    print(args,kwargs[args])\n",
        "\n",
        "fpp(5,7,8,9,10,six=6)\n",
        "\n",
        "def fpp1(a,b,*,c):\n",
        "  print(a,b,c)\n",
        "\n",
        "fpp1(1,3,c=5)"
      ],
      "metadata": {
        "colab": {
          "base_uri": "https://localhost:8080/"
        },
        "id": "STFGtw3gmmKn",
        "outputId": "edc01055-1559-4cb1-9d3d-71ba47e35a26"
      },
      "execution_count": null,
      "outputs": [
        {
          "output_type": "stream",
          "name": "stdout",
          "text": [
            "5\n",
            "7\n",
            "8\n",
            "9\n",
            "10\n",
            "six 6\n",
            "1 3 5\n"
          ]
        }
      ]
    },
    {
      "cell_type": "code",
      "source": [
        "def foo(a,b,c):\n",
        "  print(a,b,c)\n",
        "\n",
        "my_lst = [1,2,3]\n",
        "foo(*my_lst)\n",
        "\n",
        "my_st = \"ACD\"\n",
        "foo(*my_st)\n",
        "\n",
        "my_dct = {\"a\":1,\"b\":2,\"c\":3}\n",
        "foo(**my_dct)\n",
        "\n"
      ],
      "metadata": {
        "colab": {
          "base_uri": "https://localhost:8080/"
        },
        "id": "Sn0ufyOEoIjE",
        "outputId": "faa88b8f-d290-432f-b194-c6533398e5b8"
      },
      "execution_count": null,
      "outputs": [
        {
          "output_type": "stream",
          "name": "stdout",
          "text": [
            "1 2 3\n",
            "A C D\n",
            "1 2 3\n"
          ]
        }
      ]
    },
    {
      "cell_type": "code",
      "source": [
        "numbers = (1,2,3,4,5,6)\n",
        "*begin,last = numbers\n",
        "print(begin)\n",
        "print(last)\n",
        "\n",
        "print()\n",
        "\n",
        "first,*end = numbers\n",
        "print(first)\n",
        "print(end)\n",
        "\n",
        "print()\n",
        "\n",
        "first,*middle,last = numbers\n",
        "print(first)\n",
        "print(middle)\n",
        "print(last)\n"
      ],
      "metadata": {
        "colab": {
          "base_uri": "https://localhost:8080/"
        },
        "id": "VLS-cWVSv_tQ",
        "outputId": "d6b72daa-8eee-45b1-9039-6ff3a0be6858"
      },
      "execution_count": null,
      "outputs": [
        {
          "output_type": "stream",
          "name": "stdout",
          "text": [
            "[1, 2, 3, 4, 5]\n",
            "6\n",
            "\n",
            "1\n",
            "[2, 3, 4, 5, 6]\n",
            "\n",
            "1\n",
            "[2, 3, 4, 5]\n",
            "6\n"
          ]
        }
      ]
    },
    {
      "cell_type": "markdown",
      "source": [
        "Merge iterables into a list / Merge dictionaries"
      ],
      "metadata": {
        "id": "Bfzun_4XxJ-6"
      }
    },
    {
      "cell_type": "code",
      "source": [
        "my_tup = (1,2,3)\n",
        "my_set = {4,5,6}\n",
        "my_lst = [*my_tup,*my_set]\n",
        "print(my_lst)"
      ],
      "metadata": {
        "colab": {
          "base_uri": "https://localhost:8080/"
        },
        "id": "aPenWM4mxCP1",
        "outputId": "7bfc5c0f-e372-43ae-a0b0-8f2f928e4370"
      },
      "execution_count": null,
      "outputs": [
        {
          "output_type": "stream",
          "name": "stdout",
          "text": [
            "[1, 2, 3, 4, 5, 6]\n"
          ]
        }
      ]
    },
    {
      "cell_type": "code",
      "source": [
        "my_dct = {\"a\":1,\"b\":2}\n",
        "my_dct1 = {\"three\":3,\"one\":1}\n",
        "my_dc = {**my_dct,**my_dct1}\n",
        "print(my_dc)"
      ],
      "metadata": {
        "colab": {
          "base_uri": "https://localhost:8080/"
        },
        "id": "Kv74ojHKxa_G",
        "outputId": "26aa8d36-d4f0-4c9c-dc95-eaceb570f413"
      },
      "execution_count": null,
      "outputs": [
        {
          "output_type": "stream",
          "name": "stdout",
          "text": [
            "{'a': 1, 'b': 2, 'three': 3, 'one': 1}\n"
          ]
        }
      ]
    },
    {
      "cell_type": "markdown",
      "source": [
        "**Shallow vs Deep Copying **"
      ],
      "metadata": {
        "id": "trzPcFDtxxCT"
      }
    },
    {
      "cell_type": "code",
      "source": [
        "org = 5\n",
        "cpy  = org\n",
        "cpy = 10\n",
        "print(org)\n",
        "print(cpy)\n",
        "\n",
        "print()\n",
        "# Assignment operation\n",
        "\n",
        "lst_a = [1,2,3,4,5]\n",
        "lst_b = lst_a\n",
        "\n",
        "lst_a[0] = 20\n",
        "print(lst_a)\n",
        "print(lst_b)"
      ],
      "metadata": {
        "colab": {
          "base_uri": "https://localhost:8080/"
        },
        "id": "EY1BG_tFx_4v",
        "outputId": "3514e711-de87-4bc1-c25c-3eba70b8440f"
      },
      "execution_count": null,
      "outputs": [
        {
          "output_type": "stream",
          "name": "stdout",
          "text": [
            "5\n",
            "10\n",
            "\n",
            "[20, 2, 3, 4, 5]\n",
            "[20, 2, 3, 4, 5]\n"
          ]
        }
      ]
    },
    {
      "cell_type": "markdown",
      "source": [
        "**Shallow copy**"
      ],
      "metadata": {
        "id": "CSuV8BaFy3T1"
      }
    },
    {
      "cell_type": "code",
      "source": [
        "import copy\n",
        "\n",
        "lst_a = [1,2,3,4,5]\n",
        "lst_b = copy.copy(lst_a)\n",
        "\n",
        "lst_a[0] = 20\n",
        "print(lst_a)\n",
        "print(lst_b)"
      ],
      "metadata": {
        "colab": {
          "base_uri": "https://localhost:8080/"
        },
        "id": "2O5IXdHcy217",
        "outputId": "9630d406-3a74-4cef-b568-61152f07243f"
      },
      "execution_count": null,
      "outputs": [
        {
          "output_type": "stream",
          "name": "stdout",
          "text": [
            "[20, 2, 3, 4, 5]\n",
            "[1, 2, 3, 4, 5]\n"
          ]
        }
      ]
    },
    {
      "cell_type": "code",
      "source": [
        "list_a = [[1, 2, 3, 4, 5], [6, 7, 8, 9, 10]]\n",
        "list_b = copy.copy(list_a)\n",
        "list_a[0][0] = 30\n",
        "print(list_a)\n",
        "print(list_b)"
      ],
      "metadata": {
        "colab": {
          "base_uri": "https://localhost:8080/"
        },
        "id": "WqL8Nso4zYo4",
        "outputId": "28eac2a2-787c-4ca1-b77c-54b48e4d9a7c"
      },
      "execution_count": null,
      "outputs": [
        {
          "output_type": "stream",
          "name": "stdout",
          "text": [
            "[[30, 2, 3, 4, 5], [6, 7, 8, 9, 10]]\n",
            "[[30, 2, 3, 4, 5], [6, 7, 8, 9, 10]]\n"
          ]
        }
      ]
    },
    {
      "cell_type": "markdown",
      "source": [
        "Deep copies"
      ],
      "metadata": {
        "id": "Mp6iSdoTzV5k"
      }
    },
    {
      "cell_type": "code",
      "source": [
        "list_a = [[1, 2, 3, 4, 5], [6, 7, 8, 9, 10]]\n",
        "list_b = copy.deepcopy(list_a)\n",
        "list_a[0][0] = 30\n",
        "print(list_a)\n",
        "print(list_b)"
      ],
      "metadata": {
        "colab": {
          "base_uri": "https://localhost:8080/"
        },
        "id": "baxvX3Razjeh",
        "outputId": "425941fa-6ada-4000-eff2-b3ca85574b5a"
      },
      "execution_count": null,
      "outputs": [
        {
          "output_type": "stream",
          "name": "stdout",
          "text": [
            "[[30, 2, 3, 4, 5], [6, 7, 8, 9, 10]]\n",
            "[[1, 2, 3, 4, 5], [6, 7, 8, 9, 10]]\n"
          ]
        }
      ]
    },
    {
      "cell_type": "markdown",
      "source": [
        "**Context Managers**"
      ],
      "metadata": {
        "id": "ektiWFbcz8RJ"
      }
    },
    {
      "cell_type": "markdown",
      "source": [
        "Context managers are a great tool for resource management. They allow you to allocate and release resources precisely when you want to. A well-known example is the with open() statemtent:"
      ],
      "metadata": {
        "id": "NjjgWOqCz_UI"
      }
    },
    {
      "cell_type": "code",
      "source": [
        "with open('note.txt','w') as file:\n",
        "  file.write('start')\n",
        "\n",
        "file = open('note.txt','w')\n",
        "try:\n",
        "  file.write('start')\n",
        "finally:\n",
        "  file.close() "
      ],
      "metadata": {
        "id": "aOGDGtnpz_eZ"
      },
      "execution_count": null,
      "outputs": []
    },
    {
      "cell_type": "markdown",
      "source": [
        "**Examples of context managers**<br>\n",
        "Open and close files<br>\n",
        "open and close database connections<br>\n",
        "Acquire and release locks:"
      ],
      "metadata": {
        "id": "cBsnRzZm1W6X"
      }
    }
  ]
}